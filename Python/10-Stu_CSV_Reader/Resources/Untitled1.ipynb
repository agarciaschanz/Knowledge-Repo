{
 "cells": [
  {
   "cell_type": "code",
   "execution_count": 1,
   "metadata": {},
   "outputs": [
    {
     "data": {
      "text/plain": [
       "'/Users/andrewgarcia-schanz/Desktop/pepp-mal-virt-fin-pt-04-2021-u-c/01-Lesson-Plans/02-Python/3/Activities/10-Stu_CSV_Reader/Resources'"
      ]
     },
     "execution_count": 1,
     "metadata": {},
     "output_type": "execute_result"
    }
   ],
   "source": [
    "pwd"
   ]
  },
  {
   "cell_type": "code",
   "execution_count": 2,
   "metadata": {},
   "outputs": [
    {
     "name": "stdout",
     "output_type": "stream",
     "text": [
      "/Users/andrewgarcia-schanz/Desktop\n"
     ]
    }
   ],
   "source": [
    "cd ~/Desktop"
   ]
  },
  {
   "cell_type": "code",
   "execution_count": 3,
   "metadata": {},
   "outputs": [],
   "source": [
    "mkdir Activity-1"
   ]
  },
  {
   "cell_type": "code",
   "execution_count": 4,
   "metadata": {},
   "outputs": [
    {
     "name": "stdout",
     "output_type": "stream",
     "text": [
      "\u001b[34mActivity-1\u001b[m\u001b[m/                       Untitled3.ipynb\n",
      "\u001b[34mCaseStudy-\u001b[m\u001b[m/                       Untitled8.ipynb\n",
      "\u001b[34mFinTechClass\u001b[m\u001b[m/                     Untitled9.ipynb\n",
      "\u001b[34mJupyter\u001b[m\u001b[m/                          \u001b[34mpepp-mal-virt-fin-pt-04-2021-u-c\u001b[m\u001b[m/\n",
      "\u001b[34mJupyter Lab \u001b[m\u001b[m/                     \u001b[34mpets\u001b[m\u001b[m/\n",
      "\u001b[34mPREWORK_AGS\u001b[m\u001b[m/                      practice list .ipynb\n",
      "Psuedo Practice.ipynb             practice.ipynb\n",
      "\u001b[34mPython-Homework\u001b[m\u001b[m/                  prctice.ipynb\n",
      "Untitled.ipynb                    print(\"Hello World\").py\n",
      "Untitled1.ipynb                   pytho. practice 2 .ipynb\n",
      "Untitled10.ipynb                  python practice.ipynb\n",
      "Untitled2.ipynb\n"
     ]
    }
   ],
   "source": [
    "ls"
   ]
  },
  {
   "cell_type": "code",
   "execution_count": 5,
   "metadata": {},
   "outputs": [
    {
     "name": "stdout",
     "output_type": "stream",
     "text": [
      "total 200\n",
      "drwx------@ 28 andrewgarcia-schanz  staff    896 Apr 20 22:34 \u001b[34m.\u001b[m\u001b[m/\n",
      "drwxr-xr-x+ 39 andrewgarcia-schanz  staff   1248 Apr 14 20:40 \u001b[34m..\u001b[m\u001b[m/\n",
      "-rw-r--r--@  1 andrewgarcia-schanz  staff  10244 Apr 20 22:41 .DS_Store\n",
      "drwxr-xr-x@ 15 andrewgarcia-schanz  staff    480 Apr 20 14:49 \u001b[34m.ipynb_checkpoints\u001b[m\u001b[m/\n",
      "-rw-r--r--   1 andrewgarcia-schanz  staff      0 Sep 21  2019 .localized\n",
      "drwxr-xr-x   2 andrewgarcia-schanz  staff     64 Apr 20 22:41 \u001b[34mActivity-1\u001b[m\u001b[m/\n",
      "drwxr-xr-x@  6 andrewgarcia-schanz  staff    192 Apr 14 21:49 \u001b[34mCaseStudy-\u001b[m\u001b[m/\n",
      "drwxr-xr-x@  4 andrewgarcia-schanz  staff    128 Apr 10 12:58 \u001b[34mFinTechClass\u001b[m\u001b[m/\n",
      "drwxr-xr-x@  7 andrewgarcia-schanz  staff    224 Apr 14 08:23 \u001b[34mJupyter\u001b[m\u001b[m/\n",
      "drwxr-xr-x@  2 andrewgarcia-schanz  staff     64 Apr 13 20:51 \u001b[34mJupyter Lab \u001b[m\u001b[m/\n",
      "drwxr-xr-x@ 14 andrewgarcia-schanz  staff    448 Apr  4 01:13 \u001b[34mPREWORK_AGS\u001b[m\u001b[m/\n",
      "-rw-r--r--   1 andrewgarcia-schanz  staff   2213 Apr 19 12:41 Psuedo Practice.ipynb\n",
      "drwxr-xr-x@  4 andrewgarcia-schanz  staff    128 Apr 20 14:49 \u001b[34mPython-Homework\u001b[m\u001b[m/\n",
      "-rw-r--r--   1 andrewgarcia-schanz  staff  19930 Apr 15 23:32 Untitled.ipynb\n",
      "-rw-r--r--   1 andrewgarcia-schanz  staff   2408 Apr 17 12:29 Untitled1.ipynb\n",
      "-rw-r--r--   1 andrewgarcia-schanz  staff  11501 Apr 20 21:22 Untitled10.ipynb\n",
      "-rw-r--r--   1 andrewgarcia-schanz  staff   2267 Apr 17 12:55 Untitled2.ipynb\n",
      "-rw-r--r--   1 andrewgarcia-schanz  staff   2213 Apr 19 10:09 Untitled3.ipynb\n",
      "-rw-r--r--   1 andrewgarcia-schanz  staff   7059 Apr 19 09:48 Untitled8.ipynb\n",
      "-rw-r--r--   1 andrewgarcia-schanz  staff   2694 Apr 20 14:24 Untitled9.ipynb\n",
      "drwxr-xr-x@  9 andrewgarcia-schanz  staff    288 Apr 20 22:34 \u001b[34mpepp-mal-virt-fin-pt-04-2021-u-c\u001b[m\u001b[m/\n",
      "drwxr-xr-x@  5 andrewgarcia-schanz  staff    160 Apr  8 21:33 \u001b[34mpets\u001b[m\u001b[m/\n",
      "-rw-r--r--   1 andrewgarcia-schanz  staff   2845 Apr 17 14:27 practice list .ipynb\n",
      "-rw-r--r--   1 andrewgarcia-schanz  staff   1808 Apr 17 15:15 practice.ipynb\n",
      "-rw-r--r--   1 andrewgarcia-schanz  staff   2524 Apr 17 13:43 prctice.ipynb\n",
      "-rw-r--r--@  1 andrewgarcia-schanz  staff     39 Apr 13 20:40 print(\"Hello World\").py\n",
      "-rw-r--r--   1 andrewgarcia-schanz  staff   2181 Apr 17 13:46 pytho. practice 2 .ipynb\n",
      "-rw-r--r--   1 andrewgarcia-schanz  staff   7059 Apr 19 12:41 python practice.ipynb\n"
     ]
    }
   ],
   "source": [
    "ls-la"
   ]
  },
  {
   "cell_type": "code",
   "execution_count": 6,
   "metadata": {},
   "outputs": [
    {
     "name": "stdout",
     "output_type": "stream",
     "text": [
      "/Users/andrewgarcia-schanz/Desktop/Activity-1\n"
     ]
    }
   ],
   "source": [
    "cd Activity-1/"
   ]
  },
  {
   "cell_type": "code",
   "execution_count": 7,
   "metadata": {},
   "outputs": [
    {
     "name": "stdout",
     "output_type": "stream",
     "text": [
      "total 0\n",
      "drwxr-xr-x   2 andrewgarcia-schanz  staff   64 Apr 20 22:41 \u001b[34m.\u001b[m\u001b[m/\n",
      "drwx------@ 28 andrewgarcia-schanz  staff  896 Apr 20 22:34 \u001b[34m..\u001b[m\u001b[m/\n"
     ]
    }
   ],
   "source": [
    "ls-la"
   ]
  },
  {
   "cell_type": "code",
   "execution_count": 8,
   "metadata": {},
   "outputs": [
    {
     "data": {
      "text/plain": [
       "'/Users/andrewgarcia-schanz/Desktop/Activity-1'"
      ]
     },
     "execution_count": 8,
     "metadata": {},
     "output_type": "execute_result"
    }
   ],
   "source": [
    "pwd"
   ]
  },
  {
   "cell_type": "code",
   "execution_count": 11,
   "metadata": {},
   "outputs": [
    {
     "ename": "NameError",
     "evalue": "name 'touch' is not defined",
     "output_type": "error",
     "traceback": [
      "\u001b[0;31m---------------------------------------------------------------------------\u001b[0m",
      "\u001b[0;31mNameError\u001b[0m                                 Traceback (most recent call last)",
      "\u001b[0;32m<ipython-input-11-240619cc1cf2>\u001b[0m in \u001b[0;36m<module>\u001b[0;34m\u001b[0m\n\u001b[0;32m----> 1\u001b[0;31m \u001b[0mtouch\u001b[0m\u001b[0;34m.\u001b[0m \u001b[0mhello\u001b[0m\u001b[0;34m.\u001b[0m\u001b[0mmd\u001b[0m\u001b[0;34m\u001b[0m\u001b[0;34m\u001b[0m\u001b[0m\n\u001b[0m",
      "\u001b[0;31mNameError\u001b[0m: name 'touch' is not defined"
     ]
    }
   ],
   "source": [
    "touch. hello.md"
   ]
  },
  {
   "cell_type": "code",
   "execution_count": 16,
   "metadata": {},
   "outputs": [
    {
     "ename": "SyntaxError",
     "evalue": "invalid syntax (<ipython-input-16-6698f15bff11>, line 1)",
     "output_type": "error",
     "traceback": [
      "\u001b[0;36m  File \u001b[0;32m\"<ipython-input-16-6698f15bff11>\"\u001b[0;36m, line \u001b[0;32m1\u001b[0m\n\u001b[0;31m    touch hello.md\u001b[0m\n\u001b[0m          ^\u001b[0m\n\u001b[0;31mSyntaxError\u001b[0m\u001b[0;31m:\u001b[0m invalid syntax\n"
     ]
    }
   ],
   "source": [
    "touch hello.md "
   ]
  },
  {
   "cell_type": "code",
   "execution_count": 14,
   "metadata": {},
   "outputs": [
    {
     "ename": "SyntaxError",
     "evalue": "invalid syntax (<ipython-input-14-630b25954ba3>, line 1)",
     "output_type": "error",
     "traceback": [
      "\u001b[0;36m  File \u001b[0;32m\"<ipython-input-14-630b25954ba3>\"\u001b[0;36m, line \u001b[0;32m1\u001b[0m\n\u001b[0;31m    touch hello.md\u001b[0m\n\u001b[0m          ^\u001b[0m\n\u001b[0;31mSyntaxError\u001b[0m\u001b[0;31m:\u001b[0m invalid syntax\n"
     ]
    }
   ],
   "source": [
    "touch hello.md"
   ]
  },
  {
   "cell_type": "code",
   "execution_count": 17,
   "metadata": {},
   "outputs": [],
   "source": [
    "ls"
   ]
  },
  {
   "cell_type": "code",
   "execution_count": 20,
   "metadata": {},
   "outputs": [
    {
     "name": "stdout",
     "output_type": "stream",
     "text": [
      "/Users/andrewgarcia-schanz/Desktop\n"
     ]
    }
   ],
   "source": [
    "cd .."
   ]
  },
  {
   "cell_type": "code",
   "execution_count": 21,
   "metadata": {},
   "outputs": [
    {
     "name": "stdout",
     "output_type": "stream",
     "text": [
      "\u001b[34mActivity-1\u001b[m\u001b[m/                       Untitled3.ipynb\n",
      "\u001b[34mCaseStudy-\u001b[m\u001b[m/                       Untitled8.ipynb\n",
      "\u001b[34mFinTechClass\u001b[m\u001b[m/                     Untitled9.ipynb\n",
      "\u001b[34mJupyter\u001b[m\u001b[m/                          \u001b[34mpepp-mal-virt-fin-pt-04-2021-u-c\u001b[m\u001b[m/\n",
      "\u001b[34mJupyter Lab \u001b[m\u001b[m/                     \u001b[34mpets\u001b[m\u001b[m/\n",
      "\u001b[34mPREWORK_AGS\u001b[m\u001b[m/                      practice list .ipynb\n",
      "Psuedo Practice.ipynb             practice.ipynb\n",
      "\u001b[34mPython-Homework\u001b[m\u001b[m/                  prctice.ipynb\n",
      "Untitled.ipynb                    print(\"Hello World\").py\n",
      "Untitled1.ipynb                   pytho. practice 2 .ipynb\n",
      "Untitled10.ipynb                  python practice.ipynb\n",
      "Untitled2.ipynb\n"
     ]
    }
   ],
   "source": [
    "ls"
   ]
  },
  {
   "cell_type": "code",
   "execution_count": 22,
   "metadata": {},
   "outputs": [
    {
     "name": "stdout",
     "output_type": "stream",
     "text": [
      "/Users/andrewgarcia-schanz/Desktop/Activity-1\n"
     ]
    }
   ],
   "source": [
    "cd Activity-1/"
   ]
  },
  {
   "cell_type": "code",
   "execution_count": 23,
   "metadata": {},
   "outputs": [
    {
     "ename": "SyntaxError",
     "evalue": "invalid syntax (<ipython-input-23-630b25954ba3>, line 1)",
     "output_type": "error",
     "traceback": [
      "\u001b[0;36m  File \u001b[0;32m\"<ipython-input-23-630b25954ba3>\"\u001b[0;36m, line \u001b[0;32m1\u001b[0m\n\u001b[0;31m    touch hello.md\u001b[0m\n\u001b[0m          ^\u001b[0m\n\u001b[0;31mSyntaxError\u001b[0m\u001b[0;31m:\u001b[0m invalid syntax\n"
     ]
    }
   ],
   "source": [
    "touch hello.md"
   ]
  },
  {
   "cell_type": "code",
   "execution_count": null,
   "metadata": {},
   "outputs": [],
   "source": []
  },
  {
   "cell_type": "code",
   "execution_count": null,
   "metadata": {},
   "outputs": [],
   "source": []
  }
 ],
 "metadata": {
  "kernelspec": {
   "display_name": "Python 3",
   "language": "python",
   "name": "python3"
  },
  "language_info": {
   "codemirror_mode": {
    "name": "ipython",
    "version": 3
   },
   "file_extension": ".py",
   "mimetype": "text/x-python",
   "name": "python",
   "nbconvert_exporter": "python",
   "pygments_lexer": "ipython3",
   "version": "3.8.5"
  }
 },
 "nbformat": 4,
 "nbformat_minor": 4
}
