{
 "cells": [
  {
   "cell_type": "code",
   "execution_count": 1,
   "metadata": {},
   "outputs": [
    {
     "data": {
      "text/plain": [
       "'/Users/andrewgarcia-schanz/Desktop/pepp-mal-virt-fin-pt-04-2021-u-c/01-Lesson-Plans/02-Python/3/Activities/10-Stu_CSV_Reader/Resources'"
      ]
     },
     "execution_count": 1,
     "metadata": {},
     "output_type": "execute_result"
    }
   ],
   "source": [
    "pwd"
   ]
  },
  {
   "cell_type": "code",
   "execution_count": 7,
   "metadata": {},
   "outputs": [
    {
     "name": "stdout",
     "output_type": "stream",
     "text": [
      "6.44\n",
      "47.12\n",
      "60.4\n",
      "75.0\n",
      "334.0\n",
      "20.86\n",
      "178.0\n",
      "44.71\n",
      "12.88\n",
      "68.8\n",
      "69.8\n",
      "7.62\n",
      "49.0\n",
      "374.0\n",
      "24.44\n",
      "35.67\n",
      "39.57\n",
      "123.0\n",
      "22.0\n",
      "44.2\n",
      "191.0\n",
      "79.8\n",
      "300.0\n",
      "345.0\n",
      "50.5\n",
      "76.25\n",
      "41.5\n",
      "16.14\n",
      "42.67\n"
     ]
    }
   ],
   "source": [
    "from pathlib import Path\n",
    "import csv\n",
    "\n",
    "total_months = 0\n",
    "net_total = 0\n",
    "monthly_change = []\n",
    "month_count = []\n",
    "greatest_increase = 0\n",
    "greatest_month_increase = 0\n",
    "greatest_decrease = 0\n",
    "greatest_month_decrease = 0\n",
    "\n",
    "\n",
    "\n",
    "\n",
    "\n",
    "path = 'sales.csv'\n",
    "with open(path, 'r') as file:\n",
    "    csvoutput = csv.reader(file, delimiter=',')\n",
    "    \n",
    "    header = next(csvoutput)\n",
    "    \n",
    "    for row in csvoutput:\n",
    "        "
   ]
  },
  {
   "cell_type": "code",
   "execution_count": 5,
   "metadata": {},
   "outputs": [
    {
     "data": {
      "text/plain": [
       "'/Users/andrewgarcia-schanz/Desktop/pepp-mal-virt-fin-pt-04-2021-u-c/01-Lesson-Plans/02-Python/3/Activities/10-Stu_CSV_Reader/Resources'"
      ]
     },
     "execution_count": 5,
     "metadata": {},
     "output_type": "execute_result"
    }
   ],
   "source": [
    "pwd"
   ]
  },
  {
   "cell_type": "code",
   "execution_count": 8,
   "metadata": {},
   "outputs": [
    {
     "name": "stdout",
     "output_type": "stream",
     "text": [
      "/Users/andrewgarcia-schanz/Desktop/pepp-mal-virt-fin-pt-04-2021-u-c/01-Lesson-Plans/02-Python/3/Activities/10-Stu_CSV_Reader\n"
     ]
    }
   ],
   "source": [
    "cd ..\n"
   ]
  },
  {
   "cell_type": "code",
   "execution_count": 10,
   "metadata": {},
   "outputs": [
    {
     "name": "stdout",
     "output_type": "stream",
     "text": [
      "6.44\n",
      "47.12\n",
      "60.4\n",
      "75.0\n",
      "334.0\n",
      "20.86\n",
      "178.0\n",
      "44.71\n",
      "12.88\n",
      "68.8\n",
      "69.8\n",
      "7.62\n",
      "49.0\n",
      "374.0\n",
      "24.44\n",
      "35.67\n",
      "39.57\n",
      "123.0\n",
      "22.0\n",
      "44.2\n",
      "191.0\n",
      "79.8\n",
      "300.0\n",
      "345.0\n",
      "50.5\n",
      "76.25\n",
      "41.5\n",
      "16.14\n",
      "42.67\n"
     ]
    }
   ],
   "source": [
    "from pathlib import Path\n",
    "import csv\n",
    "\n",
    "\n",
    "path = 'Resources/sales.csv'\n",
    "with open(path, 'r') as file:\n",
    "    csvoutput = csv.reader(file, delimiter=',')\n",
    "    \n",
    "    header = next(csvoutput)\n",
    "    \n",
    "    for row in csvoutput:\n",
    "        name = row[0]\n",
    "        count = int(row[1])\n",
    "        revenue = int(row[2])\n",
    "        \n",
    "        average = round(revenue/count, 2)\n",
    "        print(average)"
   ]
  },
  {
   "cell_type": "code",
   "execution_count": null,
   "metadata": {},
   "outputs": [],
   "source": []
  }
 ],
 "metadata": {
  "kernelspec": {
   "display_name": "Python 3",
   "language": "python",
   "name": "python3"
  },
  "language_info": {
   "codemirror_mode": {
    "name": "ipython",
    "version": 3
   },
   "file_extension": ".py",
   "mimetype": "text/x-python",
   "name": "python",
   "nbconvert_exporter": "python",
   "pygments_lexer": "ipython3",
   "version": "3.8.5"
  }
 },
 "nbformat": 4,
 "nbformat_minor": 4
}
