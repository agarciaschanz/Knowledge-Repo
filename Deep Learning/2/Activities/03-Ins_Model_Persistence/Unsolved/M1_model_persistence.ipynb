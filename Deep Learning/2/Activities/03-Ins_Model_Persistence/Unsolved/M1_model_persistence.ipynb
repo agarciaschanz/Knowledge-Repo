{
  "nbformat": 4,
  "nbformat_minor": 0,
  "metadata": {
    "file_extension": ".py",
    "kernelspec": {
      "display_name": "Python 3",
      "language": "python",
      "name": "python3"
    },
    "language_info": {
      "codemirror_mode": {
        "name": "ipython",
        "version": 3
      },
      "file_extension": ".py",
      "mimetype": "text/x-python",
      "name": "python",
      "nbconvert_exporter": "python",
      "pygments_lexer": "ipython3",
      "version": "3.7.3"
    },
    "mimetype": "text/x-python",
    "name": "python",
    "npconvert_exporter": "python",
    "pygments_lexer": "ipython3",
    "version": 3,
    "colab": {
      "name": "M1_model_persistence.ipynb",
      "provenance": []
    }
  },
  "cells": [
    {
      "cell_type": "markdown",
      "metadata": {
        "id": "cRH0a9tfjBTW"
      },
      "source": [
        "# Model Persistence"
      ]
    },
    {
      "cell_type": "code",
      "metadata": {
        "id": "RTN2rsxAjBTa"
      },
      "source": [
        "# Initial imports\n",
        "from tensorflow.keras.models import Sequential\n",
        "from tensorflow.keras.layers import Dense\n",
        "import pandas as pd"
      ],
      "execution_count": null,
      "outputs": []
    },
    {
      "cell_type": "code",
      "metadata": {
        "id": "3cb3MhUwjY_M"
      },
      "source": [
        "# Upload data to Colab\n",
        "from google.colab import files\n",
        "\n",
        "# Upload winequality.csv\n",
        "csv_file = files.upload()"
      ],
      "execution_count": null,
      "outputs": []
    },
    {
      "cell_type": "code",
      "metadata": {
        "id": "n3xfYUeYjBTc"
      },
      "source": [
        "# Read in data\n",
        "df = pd.read_csv(\"winequality.csv\", delimiter=\";\")\n",
        "df.head()"
      ],
      "execution_count": null,
      "outputs": []
    },
    {
      "cell_type": "code",
      "metadata": {
        "id": "QYZQ_-wXjBTc"
      },
      "source": [
        "# Define the features X set and the target y vector\n",
        "X = df.iloc[:, 0:11].values\n",
        "y = df[\"quality\"].values"
      ],
      "execution_count": null,
      "outputs": []
    },
    {
      "cell_type": "code",
      "metadata": {
        "id": "b11OmBJvjBTd"
      },
      "source": [
        "# Scale the data\n",
        "from sklearn.preprocessing import StandardScaler\n",
        "\n",
        "scaler = StandardScaler().fit(X)\n",
        "X = scaler.transform(X)"
      ],
      "execution_count": null,
      "outputs": []
    },
    {
      "cell_type": "code",
      "metadata": {
        "id": "CDCvDTTxjBTe"
      },
      "source": [
        "# Define the model - shallow neural network\n",
        "nn = Sequential()\n",
        "\n",
        "# Hidden layer\n",
        "nn.add(Dense(units=8, input_dim=11, activation=\"relu\"))\n",
        "\n",
        "# Output layer\n",
        "nn.add(Dense(units=1, activation=\"linear\"))"
      ],
      "execution_count": null,
      "outputs": []
    },
    {
      "cell_type": "code",
      "metadata": {
        "id": "XL8DGwLEjBTe"
      },
      "source": [
        "# Compile the model\n",
        "nn.compile(loss=\"mean_squared_error\", optimizer=\"adam\", metrics=[\"mse\"])\n",
        "\n",
        "# Fit the model\n",
        "model = nn.fit(X, y, epochs=200, verbose=0)"
      ],
      "execution_count": null,
      "outputs": []
    }
  ]
}