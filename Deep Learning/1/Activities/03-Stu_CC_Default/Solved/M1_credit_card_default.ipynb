{
  "nbformat": 4,
  "nbformat_minor": 0,
  "metadata": {
    "file_extension": ".py",
    "kernelspec": {
      "display_name": "Python 3",
      "language": "python",
      "name": "python3"
    },
    "language_info": {
      "codemirror_mode": {
        "name": "ipython",
        "version": 3
      },
      "file_extension": ".py",
      "mimetype": "text/x-python",
      "name": "python",
      "nbconvert_exporter": "python",
      "pygments_lexer": "ipython3",
      "version": "3.7.6"
    },
    "mimetype": "text/x-python",
    "name": "python",
    "npconvert_exporter": "python",
    "pygments_lexer": "ipython3",
    "version": 3,
    "colab": {
      "name": "credit-card-default.ipynb",
      "provenance": []
    }
  },
  "cells": [
    {
      "cell_type": "markdown",
      "metadata": {
        "id": "LotnhhuBLrlc"
      },
      "source": [
        "# Students Do: Preventing credit card defaults with neural networks\n",
        "\n",
        "In this activity, you will train a neural network model to predict whether a credit card holder will default in the next month.\n",
        "\n",
        "The dataset provided contains `30,000` anonymous records of credit default status with `23` features columns and one binary target column entitled _DEFAULT_, where `1` represents a defaulted credit card.\n",
        "\n",
        "The `23` features include demographic info (age, gender, marital status, etc.), credit limit, past payment details, and other relevant information.\n",
        "\n",
        "You are tasked to create a neural network model to predict if a credit card holder will default."
      ]
    },
    {
      "cell_type": "code",
      "metadata": {
        "id": "wVaTJDWWLrle"
      },
      "source": [
        "# Initial imports\n",
        "import pandas as pd\n",
        "import tensorflow as tf\n",
        "from tensorflow.keras.layers import Dense\n",
        "from tensorflow.keras.models import Sequential\n",
        "from sklearn.preprocessing import StandardScaler\n",
        "from sklearn.model_selection import train_test_split\n",
        "\n",
        "%matplotlib inline"
      ],
      "execution_count": 1,
      "outputs": []
    },
    {
      "cell_type": "code",
      "metadata": {
        "id": "rwDv34t8Lrlf"
      },
      "source": [
        "# Set a random seed for TensorFlow to allow reproducible testing results\n",
        "tf.random.set_seed(126)"
      ],
      "execution_count": 2,
      "outputs": []
    },
    {
      "cell_type": "markdown",
      "metadata": {
        "id": "zgIYQizyLrlf"
      },
      "source": [
        "## Instructions\n",
        "\n",
        "1. Load the data in a Pandas DataFrame."
      ]
    },
    {
      "cell_type": "code",
      "metadata": {
        "colab": {
          "resources": {
            "http://localhost:8080/nbextensions/google.colab/files.js": {
              "data": "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",
              "ok": true,
              "headers": [
                [
                  "content-type",
                  "application/javascript"
                ]
              ],
              "status": 200,
              "status_text": ""
            }
          },
          "base_uri": "https://localhost:8080/",
          "height": 73
        },
        "id": "b18w3O3_LwDz",
        "outputId": "b8b83a16-f54b-41ab-ec67-4732ba210ede"
      },
      "source": [
        "# Upload data to Colab\n",
        "from google.colab import files\n",
        "\n",
        "csv_file = files.upload()"
      ],
      "execution_count": 3,
      "outputs": [
        {
          "output_type": "display_data",
          "data": {
            "text/html": [
              "\n",
              "     <input type=\"file\" id=\"files-bb30df57-5a7c-44b8-9511-7d21a5ba66d3\" name=\"files[]\" multiple disabled\n",
              "        style=\"border:none\" />\n",
              "     <output id=\"result-bb30df57-5a7c-44b8-9511-7d21a5ba66d3\">\n",
              "      Upload widget is only available when the cell has been executed in the\n",
              "      current browser session. Please rerun this cell to enable.\n",
              "      </output>\n",
              "      <script src=\"/nbextensions/google.colab/files.js\"></script> "
            ],
            "text/plain": [
              "<IPython.core.display.HTML object>"
            ]
          },
          "metadata": {
            "tags": []
          }
        },
        {
          "output_type": "stream",
          "text": [
            "Saving cc_default.csv to cc_default (3).csv\n"
          ],
          "name": "stdout"
        }
      ]
    },
    {
      "cell_type": "markdown",
      "metadata": {
        "id": "6QhHMZzuLrlh"
      },
      "source": [
        "2. Define the features set `X` by including all the columns of the DataFrame except the `DEFAULT` column."
      ]
    },
    {
      "cell_type": "code",
      "metadata": {
        "colab": {
          "base_uri": "https://localhost:8080/",
          "height": 222
        },
        "id": "lw0sktBZU_OL",
        "outputId": "09395c44-e3c9-42b9-a701-ced614a22232"
      },
      "source": [
        "# Read data into Pandas Dataframe\n",
        "\n",
        "df = pd.read_csv(\"cc_default.csv\")\n",
        "df.head()"
      ],
      "execution_count": 4,
      "outputs": [
        {
          "output_type": "execute_result",
          "data": {
            "text/html": [
              "<div>\n",
              "<style scoped>\n",
              "    .dataframe tbody tr th:only-of-type {\n",
              "        vertical-align: middle;\n",
              "    }\n",
              "\n",
              "    .dataframe tbody tr th {\n",
              "        vertical-align: top;\n",
              "    }\n",
              "\n",
              "    .dataframe thead th {\n",
              "        text-align: right;\n",
              "    }\n",
              "</style>\n",
              "<table border=\"1\" class=\"dataframe\">\n",
              "  <thead>\n",
              "    <tr style=\"text-align: right;\">\n",
              "      <th></th>\n",
              "      <th>LIMIT_BAL</th>\n",
              "      <th>SEX</th>\n",
              "      <th>EDUCATION</th>\n",
              "      <th>MARRIAGE</th>\n",
              "      <th>AGE</th>\n",
              "      <th>PAY_0</th>\n",
              "      <th>PAY_2</th>\n",
              "      <th>PAY_3</th>\n",
              "      <th>PAY_4</th>\n",
              "      <th>PAY_5</th>\n",
              "      <th>PAY_6</th>\n",
              "      <th>BILL_AMT1</th>\n",
              "      <th>BILL_AMT2</th>\n",
              "      <th>BILL_AMT3</th>\n",
              "      <th>\"BILL_AMT4\"</th>\n",
              "      <th>BILL_AMT5</th>\n",
              "      <th>BILL_AMT6</th>\n",
              "      <th>PAY_AMT1</th>\n",
              "      <th>PAY_AMT2</th>\n",
              "      <th>PAY_AMT3</th>\n",
              "      <th>PAY_AMT4</th>\n",
              "      <th>PAY_AMT5</th>\n",
              "      <th>PAY_AMT6</th>\n",
              "      <th>DEFAULT</th>\n",
              "    </tr>\n",
              "  </thead>\n",
              "  <tbody>\n",
              "    <tr>\n",
              "      <th>0</th>\n",
              "      <td>20000</td>\n",
              "      <td>2</td>\n",
              "      <td>2</td>\n",
              "      <td>1</td>\n",
              "      <td>24</td>\n",
              "      <td>2</td>\n",
              "      <td>2</td>\n",
              "      <td>-1</td>\n",
              "      <td>-1</td>\n",
              "      <td>-2</td>\n",
              "      <td>-2</td>\n",
              "      <td>3913</td>\n",
              "      <td>3102</td>\n",
              "      <td>689</td>\n",
              "      <td>0</td>\n",
              "      <td>0</td>\n",
              "      <td>0</td>\n",
              "      <td>0</td>\n",
              "      <td>689</td>\n",
              "      <td>0</td>\n",
              "      <td>0</td>\n",
              "      <td>0</td>\n",
              "      <td>0</td>\n",
              "      <td>1</td>\n",
              "    </tr>\n",
              "    <tr>\n",
              "      <th>1</th>\n",
              "      <td>120000</td>\n",
              "      <td>2</td>\n",
              "      <td>2</td>\n",
              "      <td>2</td>\n",
              "      <td>26</td>\n",
              "      <td>-1</td>\n",
              "      <td>2</td>\n",
              "      <td>0</td>\n",
              "      <td>0</td>\n",
              "      <td>0</td>\n",
              "      <td>2</td>\n",
              "      <td>2682</td>\n",
              "      <td>1725</td>\n",
              "      <td>2682</td>\n",
              "      <td>3272</td>\n",
              "      <td>3455</td>\n",
              "      <td>3261</td>\n",
              "      <td>0</td>\n",
              "      <td>1000</td>\n",
              "      <td>1000</td>\n",
              "      <td>1000</td>\n",
              "      <td>0</td>\n",
              "      <td>2000</td>\n",
              "      <td>1</td>\n",
              "    </tr>\n",
              "    <tr>\n",
              "      <th>2</th>\n",
              "      <td>90000</td>\n",
              "      <td>2</td>\n",
              "      <td>2</td>\n",
              "      <td>2</td>\n",
              "      <td>34</td>\n",
              "      <td>0</td>\n",
              "      <td>0</td>\n",
              "      <td>0</td>\n",
              "      <td>0</td>\n",
              "      <td>0</td>\n",
              "      <td>0</td>\n",
              "      <td>29239</td>\n",
              "      <td>14027</td>\n",
              "      <td>13559</td>\n",
              "      <td>14331</td>\n",
              "      <td>14948</td>\n",
              "      <td>15549</td>\n",
              "      <td>1518</td>\n",
              "      <td>1500</td>\n",
              "      <td>1000</td>\n",
              "      <td>1000</td>\n",
              "      <td>1000</td>\n",
              "      <td>5000</td>\n",
              "      <td>0</td>\n",
              "    </tr>\n",
              "    <tr>\n",
              "      <th>3</th>\n",
              "      <td>50000</td>\n",
              "      <td>2</td>\n",
              "      <td>2</td>\n",
              "      <td>1</td>\n",
              "      <td>37</td>\n",
              "      <td>0</td>\n",
              "      <td>0</td>\n",
              "      <td>0</td>\n",
              "      <td>0</td>\n",
              "      <td>0</td>\n",
              "      <td>0</td>\n",
              "      <td>46990</td>\n",
              "      <td>48233</td>\n",
              "      <td>49291</td>\n",
              "      <td>28314</td>\n",
              "      <td>28959</td>\n",
              "      <td>29547</td>\n",
              "      <td>2000</td>\n",
              "      <td>2019</td>\n",
              "      <td>1200</td>\n",
              "      <td>1100</td>\n",
              "      <td>1069</td>\n",
              "      <td>1000</td>\n",
              "      <td>0</td>\n",
              "    </tr>\n",
              "    <tr>\n",
              "      <th>4</th>\n",
              "      <td>50000</td>\n",
              "      <td>1</td>\n",
              "      <td>2</td>\n",
              "      <td>1</td>\n",
              "      <td>57</td>\n",
              "      <td>-1</td>\n",
              "      <td>0</td>\n",
              "      <td>-1</td>\n",
              "      <td>0</td>\n",
              "      <td>0</td>\n",
              "      <td>0</td>\n",
              "      <td>8617</td>\n",
              "      <td>5670</td>\n",
              "      <td>35835</td>\n",
              "      <td>20940</td>\n",
              "      <td>19146</td>\n",
              "      <td>19131</td>\n",
              "      <td>2000</td>\n",
              "      <td>36681</td>\n",
              "      <td>10000</td>\n",
              "      <td>9000</td>\n",
              "      <td>689</td>\n",
              "      <td>679</td>\n",
              "      <td>0</td>\n",
              "    </tr>\n",
              "  </tbody>\n",
              "</table>\n",
              "</div>"
            ],
            "text/plain": [
              "   LIMIT_BAL  SEX  EDUCATION  MARRIAGE  ...  PAY_AMT4  PAY_AMT5  PAY_AMT6  DEFAULT\n",
              "0      20000    2          2         1  ...         0         0         0        1\n",
              "1     120000    2          2         2  ...      1000         0      2000        1\n",
              "2      90000    2          2         2  ...      1000      1000      5000        0\n",
              "3      50000    2          2         1  ...      1100      1069      1000        0\n",
              "4      50000    1          2         1  ...      9000       689       679        0\n",
              "\n",
              "[5 rows x 24 columns]"
            ]
          },
          "metadata": {
            "tags": []
          },
          "execution_count": 4
        }
      ]
    },
    {
      "cell_type": "code",
      "metadata": {
        "colab": {
          "base_uri": "https://localhost:8080/",
          "height": 222
        },
        "id": "jo2ka-9WLrlh",
        "outputId": "4e377cb8-4f53-4860-fe9a-1f3dc07462dd"
      },
      "source": [
        "# Define features data\n",
        "X = df.copy()\n",
        "X = X.drop(columns=[\"DEFAULT\"])\n",
        "X.head()"
      ],
      "execution_count": 5,
      "outputs": [
        {
          "output_type": "execute_result",
          "data": {
            "text/html": [
              "<div>\n",
              "<style scoped>\n",
              "    .dataframe tbody tr th:only-of-type {\n",
              "        vertical-align: middle;\n",
              "    }\n",
              "\n",
              "    .dataframe tbody tr th {\n",
              "        vertical-align: top;\n",
              "    }\n",
              "\n",
              "    .dataframe thead th {\n",
              "        text-align: right;\n",
              "    }\n",
              "</style>\n",
              "<table border=\"1\" class=\"dataframe\">\n",
              "  <thead>\n",
              "    <tr style=\"text-align: right;\">\n",
              "      <th></th>\n",
              "      <th>LIMIT_BAL</th>\n",
              "      <th>SEX</th>\n",
              "      <th>EDUCATION</th>\n",
              "      <th>MARRIAGE</th>\n",
              "      <th>AGE</th>\n",
              "      <th>PAY_0</th>\n",
              "      <th>PAY_2</th>\n",
              "      <th>PAY_3</th>\n",
              "      <th>PAY_4</th>\n",
              "      <th>PAY_5</th>\n",
              "      <th>PAY_6</th>\n",
              "      <th>BILL_AMT1</th>\n",
              "      <th>BILL_AMT2</th>\n",
              "      <th>BILL_AMT3</th>\n",
              "      <th>\"BILL_AMT4\"</th>\n",
              "      <th>BILL_AMT5</th>\n",
              "      <th>BILL_AMT6</th>\n",
              "      <th>PAY_AMT1</th>\n",
              "      <th>PAY_AMT2</th>\n",
              "      <th>PAY_AMT3</th>\n",
              "      <th>PAY_AMT4</th>\n",
              "      <th>PAY_AMT5</th>\n",
              "      <th>PAY_AMT6</th>\n",
              "    </tr>\n",
              "  </thead>\n",
              "  <tbody>\n",
              "    <tr>\n",
              "      <th>0</th>\n",
              "      <td>20000</td>\n",
              "      <td>2</td>\n",
              "      <td>2</td>\n",
              "      <td>1</td>\n",
              "      <td>24</td>\n",
              "      <td>2</td>\n",
              "      <td>2</td>\n",
              "      <td>-1</td>\n",
              "      <td>-1</td>\n",
              "      <td>-2</td>\n",
              "      <td>-2</td>\n",
              "      <td>3913</td>\n",
              "      <td>3102</td>\n",
              "      <td>689</td>\n",
              "      <td>0</td>\n",
              "      <td>0</td>\n",
              "      <td>0</td>\n",
              "      <td>0</td>\n",
              "      <td>689</td>\n",
              "      <td>0</td>\n",
              "      <td>0</td>\n",
              "      <td>0</td>\n",
              "      <td>0</td>\n",
              "    </tr>\n",
              "    <tr>\n",
              "      <th>1</th>\n",
              "      <td>120000</td>\n",
              "      <td>2</td>\n",
              "      <td>2</td>\n",
              "      <td>2</td>\n",
              "      <td>26</td>\n",
              "      <td>-1</td>\n",
              "      <td>2</td>\n",
              "      <td>0</td>\n",
              "      <td>0</td>\n",
              "      <td>0</td>\n",
              "      <td>2</td>\n",
              "      <td>2682</td>\n",
              "      <td>1725</td>\n",
              "      <td>2682</td>\n",
              "      <td>3272</td>\n",
              "      <td>3455</td>\n",
              "      <td>3261</td>\n",
              "      <td>0</td>\n",
              "      <td>1000</td>\n",
              "      <td>1000</td>\n",
              "      <td>1000</td>\n",
              "      <td>0</td>\n",
              "      <td>2000</td>\n",
              "    </tr>\n",
              "    <tr>\n",
              "      <th>2</th>\n",
              "      <td>90000</td>\n",
              "      <td>2</td>\n",
              "      <td>2</td>\n",
              "      <td>2</td>\n",
              "      <td>34</td>\n",
              "      <td>0</td>\n",
              "      <td>0</td>\n",
              "      <td>0</td>\n",
              "      <td>0</td>\n",
              "      <td>0</td>\n",
              "      <td>0</td>\n",
              "      <td>29239</td>\n",
              "      <td>14027</td>\n",
              "      <td>13559</td>\n",
              "      <td>14331</td>\n",
              "      <td>14948</td>\n",
              "      <td>15549</td>\n",
              "      <td>1518</td>\n",
              "      <td>1500</td>\n",
              "      <td>1000</td>\n",
              "      <td>1000</td>\n",
              "      <td>1000</td>\n",
              "      <td>5000</td>\n",
              "    </tr>\n",
              "    <tr>\n",
              "      <th>3</th>\n",
              "      <td>50000</td>\n",
              "      <td>2</td>\n",
              "      <td>2</td>\n",
              "      <td>1</td>\n",
              "      <td>37</td>\n",
              "      <td>0</td>\n",
              "      <td>0</td>\n",
              "      <td>0</td>\n",
              "      <td>0</td>\n",
              "      <td>0</td>\n",
              "      <td>0</td>\n",
              "      <td>46990</td>\n",
              "      <td>48233</td>\n",
              "      <td>49291</td>\n",
              "      <td>28314</td>\n",
              "      <td>28959</td>\n",
              "      <td>29547</td>\n",
              "      <td>2000</td>\n",
              "      <td>2019</td>\n",
              "      <td>1200</td>\n",
              "      <td>1100</td>\n",
              "      <td>1069</td>\n",
              "      <td>1000</td>\n",
              "    </tr>\n",
              "    <tr>\n",
              "      <th>4</th>\n",
              "      <td>50000</td>\n",
              "      <td>1</td>\n",
              "      <td>2</td>\n",
              "      <td>1</td>\n",
              "      <td>57</td>\n",
              "      <td>-1</td>\n",
              "      <td>0</td>\n",
              "      <td>-1</td>\n",
              "      <td>0</td>\n",
              "      <td>0</td>\n",
              "      <td>0</td>\n",
              "      <td>8617</td>\n",
              "      <td>5670</td>\n",
              "      <td>35835</td>\n",
              "      <td>20940</td>\n",
              "      <td>19146</td>\n",
              "      <td>19131</td>\n",
              "      <td>2000</td>\n",
              "      <td>36681</td>\n",
              "      <td>10000</td>\n",
              "      <td>9000</td>\n",
              "      <td>689</td>\n",
              "      <td>679</td>\n",
              "    </tr>\n",
              "  </tbody>\n",
              "</table>\n",
              "</div>"
            ],
            "text/plain": [
              "   LIMIT_BAL  SEX  EDUCATION  MARRIAGE  ...  PAY_AMT3  PAY_AMT4  PAY_AMT5  PAY_AMT6\n",
              "0      20000    2          2         1  ...         0         0         0         0\n",
              "1     120000    2          2         2  ...      1000      1000         0      2000\n",
              "2      90000    2          2         2  ...      1000      1000      1000      5000\n",
              "3      50000    2          2         1  ...      1200      1100      1069      1000\n",
              "4      50000    1          2         1  ...     10000      9000       689       679\n",
              "\n",
              "[5 rows x 23 columns]"
            ]
          },
          "metadata": {
            "tags": []
          },
          "execution_count": 5
        }
      ]
    },
    {
      "cell_type": "markdown",
      "metadata": {
        "id": "puExitYGLrlh"
      },
      "source": [
        "3. Create the target vector `y` by assigning the values of the `DEFAULT` column of the DataFrame."
      ]
    },
    {
      "cell_type": "code",
      "metadata": {
        "colab": {
          "base_uri": "https://localhost:8080/"
        },
        "id": "1Zdqb_gFLrli",
        "outputId": "abd4a3a3-1480-454b-b251-1d48e1e2d67b"
      },
      "source": [
        "# Define target data\n",
        "y = df[\"DEFAULT\"].values\n",
        "y = y.reshape(-1, 1)\n",
        "y[:5]"
      ],
      "execution_count": 6,
      "outputs": [
        {
          "output_type": "execute_result",
          "data": {
            "text/plain": [
              "array([[1],\n",
              "       [1],\n",
              "       [0],\n",
              "       [0],\n",
              "       [0]])"
            ]
          },
          "metadata": {
            "tags": []
          },
          "execution_count": 6
        }
      ]
    },
    {
      "cell_type": "markdown",
      "metadata": {
        "id": "yVmfyofmLrli"
      },
      "source": [
        "4. Create the training an testing sets using the `train_test_split` function from `sklearn`."
      ]
    },
    {
      "cell_type": "code",
      "metadata": {
        "id": "i0bZEFwOLrli"
      },
      "source": [
        "# Create training and testing datasets\n",
        "X_train, X_test, y_train, y_test = train_test_split(X, y, random_state=78)"
      ],
      "execution_count": 7,
      "outputs": []
    },
    {
      "cell_type": "markdown",
      "metadata": {
        "id": "rvy8oAn2Lrlj"
      },
      "source": [
        "5. Scale the features data using the `StandardScaler` from `sklearn`."
      ]
    },
    {
      "cell_type": "code",
      "metadata": {
        "id": "8mab6ytpLrlj"
      },
      "source": [
        "# Create the scaler instance\n",
        "X_scaler = StandardScaler()"
      ],
      "execution_count": 8,
      "outputs": []
    },
    {
      "cell_type": "code",
      "metadata": {
        "colab": {
          "base_uri": "https://localhost:8080/"
        },
        "id": "CoD7aSXrLrlj",
        "outputId": "1af22e1e-fea5-47eb-fe5f-e8d9940724e5"
      },
      "source": [
        "# Fit the scaler\n",
        "X_scaler.fit(X_train)"
      ],
      "execution_count": 9,
      "outputs": [
        {
          "output_type": "execute_result",
          "data": {
            "text/plain": [
              "StandardScaler(copy=True, with_mean=True, with_std=True)"
            ]
          },
          "metadata": {
            "tags": []
          },
          "execution_count": 9
        }
      ]
    },
    {
      "cell_type": "code",
      "metadata": {
        "id": "3s1LlkFoLrlk"
      },
      "source": [
        "# Scale the features data\n",
        "X_train_scaled = X_scaler.transform(X_train)\n",
        "X_test_scaled = X_scaler.transform(X_test)"
      ],
      "execution_count": 10,
      "outputs": []
    },
    {
      "cell_type": "markdown",
      "metadata": {
        "id": "x_8myg8SLrlk"
      },
      "source": [
        "6. Create a neural network model with `23` inputs, one hidden layer with `69` units, and an output layer with a single output. Use the `relu` activation function for the first layer and `sigmoid` for the second layer."
      ]
    },
    {
      "cell_type": "code",
      "metadata": {
        "id": "6GVzGq35Lrlk"
      },
      "source": [
        "# Define the model\n",
        "number_inputs = 23\n",
        "number_hidden_nodes = 69\n",
        "\n",
        "nn = Sequential()\n",
        "nn.add(Dense(units=number_hidden_nodes, input_dim=number_inputs, activation=\"relu\"))\n",
        "nn.add(Dense(1, activation=\"sigmoid\"))"
      ],
      "execution_count": 11,
      "outputs": []
    },
    {
      "cell_type": "markdown",
      "metadata": {
        "id": "dkdqeyQRLrlk"
      },
      "source": [
        "7. Compile the neural network model using the `binary_crossentropy` loss function, the `adam` optimizer, and `accuracy` as additional metric."
      ]
    },
    {
      "cell_type": "code",
      "metadata": {
        "id": "SJvcn61ALrll"
      },
      "source": [
        "# Compile model\n",
        "nn.compile(loss=\"binary_crossentropy\", optimizer=\"adam\", metrics=[\"accuracy\"])"
      ],
      "execution_count": 12,
      "outputs": []
    },
    {
      "cell_type": "markdown",
      "metadata": {
        "id": "UF9SKAwkLrll"
      },
      "source": [
        "8. Fit the model with `100` epochs."
      ]
    },
    {
      "cell_type": "code",
      "metadata": {
        "colab": {
          "base_uri": "https://localhost:8080/"
        },
        "id": "CaepSQPBLrll",
        "outputId": "5b1900ff-5e41-49c6-da62-7e3ccd863b6d"
      },
      "source": [
        "# Fit the model\n",
        "model = nn.fit(X_train_scaled, y_train, epochs=100)"
      ],
      "execution_count": 13,
      "outputs": [
        {
          "output_type": "stream",
          "text": [
            "Epoch 1/100\n",
            "704/704 [==============================] - 2s 2ms/step - loss: 0.4745 - accuracy: 0.8060\n",
            "Epoch 2/100\n",
            "704/704 [==============================] - 1s 2ms/step - loss: 0.4498 - accuracy: 0.8145\n",
            "Epoch 3/100\n",
            "704/704 [==============================] - 1s 1ms/step - loss: 0.4438 - accuracy: 0.8168\n",
            "Epoch 4/100\n",
            "704/704 [==============================] - 1s 1ms/step - loss: 0.4405 - accuracy: 0.8182\n",
            "Epoch 5/100\n",
            "704/704 [==============================] - 1s 1ms/step - loss: 0.4388 - accuracy: 0.8180\n",
            "Epoch 6/100\n",
            "704/704 [==============================] - 1s 1ms/step - loss: 0.4363 - accuracy: 0.8182\n",
            "Epoch 7/100\n",
            "704/704 [==============================] - 1s 1ms/step - loss: 0.4357 - accuracy: 0.8193\n",
            "Epoch 8/100\n",
            "704/704 [==============================] - 1s 1ms/step - loss: 0.4337 - accuracy: 0.8184\n",
            "Epoch 9/100\n",
            "704/704 [==============================] - 1s 1ms/step - loss: 0.4330 - accuracy: 0.8194\n",
            "Epoch 10/100\n",
            "704/704 [==============================] - 1s 1ms/step - loss: 0.4322 - accuracy: 0.8192\n",
            "Epoch 11/100\n",
            "704/704 [==============================] - 1s 1ms/step - loss: 0.4313 - accuracy: 0.8192\n",
            "Epoch 12/100\n",
            "704/704 [==============================] - 1s 1ms/step - loss: 0.4303 - accuracy: 0.8192\n",
            "Epoch 13/100\n",
            "704/704 [==============================] - 1s 1ms/step - loss: 0.4297 - accuracy: 0.8202\n",
            "Epoch 14/100\n",
            "704/704 [==============================] - 1s 1ms/step - loss: 0.4291 - accuracy: 0.8194\n",
            "Epoch 15/100\n",
            "704/704 [==============================] - 1s 1ms/step - loss: 0.4283 - accuracy: 0.8195\n",
            "Epoch 16/100\n",
            "704/704 [==============================] - 1s 1ms/step - loss: 0.4285 - accuracy: 0.8195\n",
            "Epoch 17/100\n",
            "704/704 [==============================] - 1s 1ms/step - loss: 0.4280 - accuracy: 0.8204\n",
            "Epoch 18/100\n",
            "704/704 [==============================] - 1s 1ms/step - loss: 0.4266 - accuracy: 0.8210\n",
            "Epoch 19/100\n",
            "704/704 [==============================] - 1s 1ms/step - loss: 0.4269 - accuracy: 0.8196\n",
            "Epoch 20/100\n",
            "704/704 [==============================] - 1s 1ms/step - loss: 0.4265 - accuracy: 0.8195\n",
            "Epoch 21/100\n",
            "704/704 [==============================] - 1s 1ms/step - loss: 0.4260 - accuracy: 0.8200\n",
            "Epoch 22/100\n",
            "704/704 [==============================] - 1s 1ms/step - loss: 0.4259 - accuracy: 0.8202\n",
            "Epoch 23/100\n",
            "704/704 [==============================] - 1s 1ms/step - loss: 0.4249 - accuracy: 0.8200\n",
            "Epoch 24/100\n",
            "704/704 [==============================] - 1s 1ms/step - loss: 0.4247 - accuracy: 0.8204\n",
            "Epoch 25/100\n",
            "704/704 [==============================] - 1s 1ms/step - loss: 0.4242 - accuracy: 0.8203\n",
            "Epoch 26/100\n",
            "704/704 [==============================] - 1s 1ms/step - loss: 0.4237 - accuracy: 0.8204\n",
            "Epoch 27/100\n",
            "704/704 [==============================] - 1s 1ms/step - loss: 0.4227 - accuracy: 0.8212\n",
            "Epoch 28/100\n",
            "704/704 [==============================] - 1s 1ms/step - loss: 0.4228 - accuracy: 0.8220\n",
            "Epoch 29/100\n",
            "704/704 [==============================] - 1s 1ms/step - loss: 0.4222 - accuracy: 0.8216\n",
            "Epoch 30/100\n",
            "704/704 [==============================] - 1s 1ms/step - loss: 0.4225 - accuracy: 0.8217\n",
            "Epoch 31/100\n",
            "704/704 [==============================] - 1s 1ms/step - loss: 0.4220 - accuracy: 0.8209\n",
            "Epoch 32/100\n",
            "704/704 [==============================] - 1s 1ms/step - loss: 0.4210 - accuracy: 0.8228\n",
            "Epoch 33/100\n",
            "704/704 [==============================] - 1s 1ms/step - loss: 0.4216 - accuracy: 0.8212\n",
            "Epoch 34/100\n",
            "704/704 [==============================] - 1s 1ms/step - loss: 0.4211 - accuracy: 0.8213\n",
            "Epoch 35/100\n",
            "704/704 [==============================] - 1s 1ms/step - loss: 0.4210 - accuracy: 0.8218\n",
            "Epoch 36/100\n",
            "704/704 [==============================] - 1s 1ms/step - loss: 0.4206 - accuracy: 0.8234\n",
            "Epoch 37/100\n",
            "704/704 [==============================] - 1s 1ms/step - loss: 0.4195 - accuracy: 0.8213\n",
            "Epoch 38/100\n",
            "704/704 [==============================] - 1s 1ms/step - loss: 0.4195 - accuracy: 0.8222\n",
            "Epoch 39/100\n",
            "704/704 [==============================] - 1s 1ms/step - loss: 0.4191 - accuracy: 0.8228\n",
            "Epoch 40/100\n",
            "704/704 [==============================] - 1s 1ms/step - loss: 0.4189 - accuracy: 0.8222\n",
            "Epoch 41/100\n",
            "704/704 [==============================] - 1s 1ms/step - loss: 0.4187 - accuracy: 0.8230\n",
            "Epoch 42/100\n",
            "704/704 [==============================] - 1s 1ms/step - loss: 0.4190 - accuracy: 0.8213\n",
            "Epoch 43/100\n",
            "704/704 [==============================] - 1s 1ms/step - loss: 0.4181 - accuracy: 0.8224\n",
            "Epoch 44/100\n",
            "704/704 [==============================] - 1s 1ms/step - loss: 0.4180 - accuracy: 0.8223\n",
            "Epoch 45/100\n",
            "704/704 [==============================] - 1s 1ms/step - loss: 0.4178 - accuracy: 0.8219\n",
            "Epoch 46/100\n",
            "704/704 [==============================] - 1s 1ms/step - loss: 0.4168 - accuracy: 0.8223\n",
            "Epoch 47/100\n",
            "704/704 [==============================] - 1s 2ms/step - loss: 0.4167 - accuracy: 0.8228\n",
            "Epoch 48/100\n",
            "704/704 [==============================] - 1s 1ms/step - loss: 0.4172 - accuracy: 0.8234\n",
            "Epoch 49/100\n",
            "704/704 [==============================] - 1s 1ms/step - loss: 0.4167 - accuracy: 0.8229\n",
            "Epoch 50/100\n",
            "704/704 [==============================] - 1s 1ms/step - loss: 0.4160 - accuracy: 0.8224\n",
            "Epoch 51/100\n",
            "704/704 [==============================] - 1s 2ms/step - loss: 0.4160 - accuracy: 0.8227\n",
            "Epoch 52/100\n",
            "704/704 [==============================] - 1s 1ms/step - loss: 0.4155 - accuracy: 0.8245\n",
            "Epoch 53/100\n",
            "704/704 [==============================] - 1s 1ms/step - loss: 0.4159 - accuracy: 0.8233\n",
            "Epoch 54/100\n",
            "704/704 [==============================] - 1s 1ms/step - loss: 0.4159 - accuracy: 0.8229\n",
            "Epoch 55/100\n",
            "704/704 [==============================] - 1s 1ms/step - loss: 0.4150 - accuracy: 0.8241\n",
            "Epoch 56/100\n",
            "704/704 [==============================] - 1s 1ms/step - loss: 0.4148 - accuracy: 0.8235\n",
            "Epoch 57/100\n",
            "704/704 [==============================] - 1s 1ms/step - loss: 0.4149 - accuracy: 0.8242\n",
            "Epoch 58/100\n",
            "704/704 [==============================] - 1s 1ms/step - loss: 0.4153 - accuracy: 0.8231\n",
            "Epoch 59/100\n",
            "704/704 [==============================] - 1s 1ms/step - loss: 0.4144 - accuracy: 0.8239\n",
            "Epoch 60/100\n",
            "704/704 [==============================] - 1s 1ms/step - loss: 0.4152 - accuracy: 0.8227\n",
            "Epoch 61/100\n",
            "704/704 [==============================] - 1s 1ms/step - loss: 0.4144 - accuracy: 0.8228\n",
            "Epoch 62/100\n",
            "704/704 [==============================] - 1s 1ms/step - loss: 0.4136 - accuracy: 0.8243\n",
            "Epoch 63/100\n",
            "704/704 [==============================] - 1s 1ms/step - loss: 0.4137 - accuracy: 0.8235\n",
            "Epoch 64/100\n",
            "704/704 [==============================] - 1s 1ms/step - loss: 0.4135 - accuracy: 0.8243\n",
            "Epoch 65/100\n",
            "704/704 [==============================] - 1s 1ms/step - loss: 0.4124 - accuracy: 0.8235\n",
            "Epoch 66/100\n",
            "704/704 [==============================] - 1s 1ms/step - loss: 0.4124 - accuracy: 0.8252\n",
            "Epoch 67/100\n",
            "704/704 [==============================] - 1s 1ms/step - loss: 0.4119 - accuracy: 0.8250\n",
            "Epoch 68/100\n",
            "704/704 [==============================] - 1s 1ms/step - loss: 0.4128 - accuracy: 0.8249\n",
            "Epoch 69/100\n",
            "704/704 [==============================] - 1s 1ms/step - loss: 0.4129 - accuracy: 0.8245\n",
            "Epoch 70/100\n",
            "704/704 [==============================] - 1s 1ms/step - loss: 0.4122 - accuracy: 0.8250\n",
            "Epoch 71/100\n",
            "704/704 [==============================] - 1s 1ms/step - loss: 0.4116 - accuracy: 0.8246\n",
            "Epoch 72/100\n",
            "704/704 [==============================] - 1s 1ms/step - loss: 0.4121 - accuracy: 0.8252\n",
            "Epoch 73/100\n",
            "704/704 [==============================] - 1s 1ms/step - loss: 0.4115 - accuracy: 0.8256\n",
            "Epoch 74/100\n",
            "704/704 [==============================] - 1s 1ms/step - loss: 0.4111 - accuracy: 0.8252\n",
            "Epoch 75/100\n",
            "704/704 [==============================] - 1s 2ms/step - loss: 0.4117 - accuracy: 0.8256\n",
            "Epoch 76/100\n",
            "704/704 [==============================] - 1s 1ms/step - loss: 0.4127 - accuracy: 0.8249\n",
            "Epoch 77/100\n",
            "704/704 [==============================] - 1s 1ms/step - loss: 0.4107 - accuracy: 0.8241\n",
            "Epoch 78/100\n",
            "704/704 [==============================] - 1s 1ms/step - loss: 0.4104 - accuracy: 0.8253\n",
            "Epoch 79/100\n",
            "704/704 [==============================] - 1s 1ms/step - loss: 0.4100 - accuracy: 0.8251\n",
            "Epoch 80/100\n",
            "704/704 [==============================] - 1s 1ms/step - loss: 0.4106 - accuracy: 0.8237\n",
            "Epoch 81/100\n",
            "704/704 [==============================] - 1s 1ms/step - loss: 0.4101 - accuracy: 0.8247\n",
            "Epoch 82/100\n",
            "704/704 [==============================] - 1s 1ms/step - loss: 0.4107 - accuracy: 0.8250\n",
            "Epoch 83/100\n",
            "704/704 [==============================] - 1s 1ms/step - loss: 0.4098 - accuracy: 0.8255\n",
            "Epoch 84/100\n",
            "704/704 [==============================] - 1s 1ms/step - loss: 0.4101 - accuracy: 0.8236\n",
            "Epoch 85/100\n",
            "704/704 [==============================] - 1s 2ms/step - loss: 0.4092 - accuracy: 0.8261\n",
            "Epoch 86/100\n",
            "704/704 [==============================] - 1s 1ms/step - loss: 0.4100 - accuracy: 0.8256\n",
            "Epoch 87/100\n",
            "704/704 [==============================] - 1s 1ms/step - loss: 0.4090 - accuracy: 0.8263\n",
            "Epoch 88/100\n",
            "704/704 [==============================] - 1s 1ms/step - loss: 0.4097 - accuracy: 0.8253\n",
            "Epoch 89/100\n",
            "704/704 [==============================] - 1s 1ms/step - loss: 0.4083 - accuracy: 0.8258\n",
            "Epoch 90/100\n",
            "704/704 [==============================] - 1s 2ms/step - loss: 0.4086 - accuracy: 0.8260\n",
            "Epoch 91/100\n",
            "704/704 [==============================] - 1s 2ms/step - loss: 0.4086 - accuracy: 0.8254\n",
            "Epoch 92/100\n",
            "704/704 [==============================] - 1s 1ms/step - loss: 0.4079 - accuracy: 0.8249\n",
            "Epoch 93/100\n",
            "704/704 [==============================] - 1s 1ms/step - loss: 0.4085 - accuracy: 0.8261\n",
            "Epoch 94/100\n",
            "704/704 [==============================] - 1s 1ms/step - loss: 0.4082 - accuracy: 0.8261\n",
            "Epoch 95/100\n",
            "704/704 [==============================] - 1s 2ms/step - loss: 0.4075 - accuracy: 0.8264\n",
            "Epoch 96/100\n",
            "704/704 [==============================] - 1s 1ms/step - loss: 0.4075 - accuracy: 0.8260\n",
            "Epoch 97/100\n",
            "704/704 [==============================] - 1s 1ms/step - loss: 0.4092 - accuracy: 0.8255\n",
            "Epoch 98/100\n",
            "704/704 [==============================] - 1s 1ms/step - loss: 0.4079 - accuracy: 0.8259\n",
            "Epoch 99/100\n",
            "704/704 [==============================] - 1s 2ms/step - loss: 0.4080 - accuracy: 0.8244\n",
            "Epoch 100/100\n",
            "704/704 [==============================] - 1s 2ms/step - loss: 0.4071 - accuracy: 0.8270\n"
          ],
          "name": "stdout"
        }
      ]
    },
    {
      "cell_type": "markdown",
      "metadata": {
        "id": "ANQ0ej7jLrll"
      },
      "source": [
        "9. Plot the loss function and accuracy."
      ]
    },
    {
      "cell_type": "code",
      "metadata": {
        "colab": {
          "base_uri": "https://localhost:8080/",
          "height": 281
        },
        "id": "ITM61XV7Lrll",
        "outputId": "378e78c1-3ff2-4a16-8c7b-6d9dde946480"
      },
      "source": [
        "# Create a dataframe with the history dictionary\n",
        "df_plot = pd.DataFrame(model.history, index=range(1, len(model.history[\"loss\"]) + 1))\n",
        "\n",
        "# Plot the loss\n",
        "df_plot.plot(y=\"loss\")"
      ],
      "execution_count": 14,
      "outputs": [
        {
          "output_type": "execute_result",
          "data": {
            "text/plain": [
              "<matplotlib.axes._subplots.AxesSubplot at 0x7fbc68373790>"
            ]
          },
          "metadata": {
            "tags": []
          },
          "execution_count": 14
        },
        {
          "output_type": "display_data",
          "data": {
            "image/png": "[encoded data removed]",
            "text/plain": [
              "<Figure size 432x288 with 1 Axes>"
            ]
          },
          "metadata": {
            "tags": [],
            "needs_background": "light"
          }
        }
      ]
    },
    {
      "cell_type": "code",
      "metadata": {
        "colab": {
          "base_uri": "https://localhost:8080/",
          "height": 281
        },
        "id": "evRFyimVLrlm",
        "outputId": "50781264-7ef6-45c3-9983-6861058d1db1"
      },
      "source": [
        "# Plot the accuracy\n",
        "df_plot.plot(y=\"accuracy\")\n"
      ],
      "execution_count": 15,
      "outputs": [
        {
          "output_type": "execute_result",
          "data": {
            "text/plain": [
              "<matplotlib.axes._subplots.AxesSubplot at 0x7fbc68243650>"
            ]
          },
          "metadata": {
            "tags": []
          },
          "execution_count": 15
        },
        {
          "output_type": "display_data",
          "data": {
            "image/png": "[encoded data removed]",
            "text/plain": [
              "<Figure size 432x288 with 1 Axes>"
            ]
          },
          "metadata": {
            "tags": [],
            "needs_background": "light"
          }
        }
      ]
    },
    {
      "cell_type": "markdown",
      "metadata": {
        "id": "aOrQCDLgLrlm"
      },
      "source": [
        "10. Evaluate the model using testing data and the `evaluate` method."
      ]
    },
    {
      "cell_type": "code",
      "metadata": {
        "colab": {
          "base_uri": "https://localhost:8080/"
        },
        "id": "ZeX7XzokLrlm",
        "outputId": "44a1fd32-8814-4077-f00e-ee2bce3730e8"
      },
      "source": [
        "# Evaluate the model fit with linear dummy data\n",
        "model_loss, model_accuracy = nn.evaluate(X_test_scaled, y_test, verbose=2)\n",
        "print(f\"Loss: {model_loss}, Accuracy: {model_accuracy}\")"
      ],
      "execution_count": 16,
      "outputs": [
        {
          "output_type": "stream",
          "text": [
            "235/235 - 0s - loss: 0.4418 - accuracy: 0.8165\n",
            "Loss: 0.4418335258960724, Accuracy: 0.8165333271026611\n"
          ],
          "name": "stdout"
        }
      ]
    },
    {
      "cell_type": "markdown",
      "metadata": {
        "id": "4wDJD6UsLrln"
      },
      "source": [
        "## Challenge\n",
        "\n",
        "For this challenge section, you have to figure out how the model you created could be modified to improve the accuracy.\n",
        "\n",
        "1. Review the Keras documentation about activation functions, and decide if there is anyone that could be used instead of `sigmoid`.\n",
        "\n",
        "2. Change any other parameter that you believe could improve the model's accuracy.\n",
        "\n",
        "3. Evaluate the model's accuracy and loss and write down your conclusions."
      ]
    },
    {
      "cell_type": "code",
      "metadata": {
        "id": "MWQW0chzLrln"
      },
      "source": [
        "# Define the model\n",
        "number_inputs = 23\n",
        "number_hidden_nodes = 120\n",
        "\n",
        "nn_2 = Sequential()\n",
        "nn_2.add(Dense(units=number_hidden_nodes, input_dim=number_inputs, activation=\"tanh\"))\n",
        "nn_2.add(Dense(units=1, activation=\"hard_sigmoid\"))"
      ],
      "execution_count": 17,
      "outputs": []
    },
    {
      "cell_type": "code",
      "metadata": {
        "id": "FE8Q8BIHLrln"
      },
      "source": [
        "# Compile model\n",
        "nn_2.compile(loss=\"binary_crossentropy\", optimizer=\"adam\", metrics=[\"accuracy\"])"
      ],
      "execution_count": 18,
      "outputs": []
    },
    {
      "cell_type": "code",
      "metadata": {
        "colab": {
          "base_uri": "https://localhost:8080/"
        },
        "id": "hkllH0BOLrln",
        "outputId": "79c3fede-ea80-4ac9-dc90-37ceb2bc4f3b"
      },
      "source": [
        "# Fit the model\n",
        "model_2 = nn_2.fit(X_train_scaled, y_train, epochs=100)"
      ],
      "execution_count": 19,
      "outputs": [
        {
          "output_type": "stream",
          "text": [
            "Epoch 1/100\n",
            "704/704 [==============================] - 2s 1ms/step - loss: 0.5165 - accuracy: 0.7861\n",
            "Epoch 2/100\n",
            "704/704 [==============================] - 1s 1ms/step - loss: 0.4730 - accuracy: 0.7980\n",
            "Epoch 3/100\n",
            "704/704 [==============================] - 1s 1ms/step - loss: 0.4909 - accuracy: 0.7939\n",
            "Epoch 4/100\n",
            "704/704 [==============================] - 1s 1ms/step - loss: 0.4982 - accuracy: 0.7949\n",
            "Epoch 5/100\n",
            "704/704 [==============================] - 1s 1ms/step - loss: 0.4646 - accuracy: 0.8018\n",
            "Epoch 6/100\n",
            "704/704 [==============================] - 1s 2ms/step - loss: 0.4570 - accuracy: 0.8041\n",
            "Epoch 7/100\n",
            "704/704 [==============================] - 1s 1ms/step - loss: 0.4935 - accuracy: 0.7907\n",
            "Epoch 8/100\n",
            "704/704 [==============================] - 1s 2ms/step - loss: 0.4780 - accuracy: 0.7999\n",
            "Epoch 9/100\n",
            "704/704 [==============================] - 1s 2ms/step - loss: 0.4717 - accuracy: 0.7990\n",
            "Epoch 10/100\n",
            "704/704 [==============================] - 1s 2ms/step - loss: 0.4578 - accuracy: 0.8020\n",
            "Epoch 11/100\n",
            "704/704 [==============================] - 1s 1ms/step - loss: 0.4504 - accuracy: 0.8067\n",
            "Epoch 12/100\n",
            "704/704 [==============================] - 1s 2ms/step - loss: 0.4484 - accuracy: 0.8072\n",
            "Epoch 13/100\n",
            "704/704 [==============================] - 1s 1ms/step - loss: 0.4563 - accuracy: 0.8073\n",
            "Epoch 14/100\n",
            "704/704 [==============================] - 1s 1ms/step - loss: 0.4481 - accuracy: 0.8094\n",
            "Epoch 15/100\n",
            "704/704 [==============================] - 1s 2ms/step - loss: 0.4437 - accuracy: 0.8101\n",
            "Epoch 16/100\n",
            "704/704 [==============================] - 1s 2ms/step - loss: 0.4663 - accuracy: 0.8061\n",
            "Epoch 17/100\n",
            "704/704 [==============================] - 1s 2ms/step - loss: 0.4473 - accuracy: 0.8107\n",
            "Epoch 18/100\n",
            "704/704 [==============================] - 1s 2ms/step - loss: 0.4411 - accuracy: 0.8120\n",
            "Epoch 19/100\n",
            "704/704 [==============================] - 1s 2ms/step - loss: 0.4414 - accuracy: 0.8114\n",
            "Epoch 20/100\n",
            "704/704 [==============================] - 1s 1ms/step - loss: 0.4522 - accuracy: 0.8096\n",
            "Epoch 21/100\n",
            "704/704 [==============================] - 1s 1ms/step - loss: 0.4509 - accuracy: 0.8105\n",
            "Epoch 22/100\n",
            "704/704 [==============================] - 1s 2ms/step - loss: 0.4437 - accuracy: 0.8123\n",
            "Epoch 23/100\n",
            "704/704 [==============================] - 1s 2ms/step - loss: 0.4386 - accuracy: 0.8127\n",
            "Epoch 24/100\n",
            "704/704 [==============================] - 1s 2ms/step - loss: 0.4386 - accuracy: 0.8138\n",
            "Epoch 25/100\n",
            "704/704 [==============================] - 1s 1ms/step - loss: 0.4392 - accuracy: 0.8152\n",
            "Epoch 26/100\n",
            "704/704 [==============================] - 1s 1ms/step - loss: 0.4379 - accuracy: 0.8159\n",
            "Epoch 27/100\n",
            "704/704 [==============================] - 1s 2ms/step - loss: 0.4415 - accuracy: 0.8173\n",
            "Epoch 28/100\n",
            "704/704 [==============================] - 1s 2ms/step - loss: 0.5125 - accuracy: 0.7933\n",
            "Epoch 29/100\n",
            "704/704 [==============================] - 1s 1ms/step - loss: 0.4882 - accuracy: 0.8049\n",
            "Epoch 30/100\n",
            "704/704 [==============================] - 1s 1ms/step - loss: 0.5618 - accuracy: 0.7075\n",
            "Epoch 31/100\n",
            "704/704 [==============================] - 1s 2ms/step - loss: 0.4835 - accuracy: 0.8151\n",
            "Epoch 32/100\n",
            "704/704 [==============================] - 1s 2ms/step - loss: 0.4593 - accuracy: 0.8154\n",
            "Epoch 33/100\n",
            "704/704 [==============================] - 1s 2ms/step - loss: 0.4467 - accuracy: 0.8172\n",
            "Epoch 34/100\n",
            "704/704 [==============================] - 1s 1ms/step - loss: 0.4385 - accuracy: 0.8177\n",
            "Epoch 35/100\n",
            "704/704 [==============================] - 1s 1ms/step - loss: 0.4358 - accuracy: 0.8175\n",
            "Epoch 36/100\n",
            "704/704 [==============================] - 1s 1ms/step - loss: 0.4339 - accuracy: 0.8178\n",
            "Epoch 37/100\n",
            "704/704 [==============================] - 1s 1ms/step - loss: 0.4338 - accuracy: 0.8174\n",
            "Epoch 38/100\n",
            "704/704 [==============================] - 1s 2ms/step - loss: 0.4377 - accuracy: 0.8179\n",
            "Epoch 39/100\n",
            "704/704 [==============================] - 1s 1ms/step - loss: 0.4340 - accuracy: 0.8186\n",
            "Epoch 40/100\n",
            "704/704 [==============================] - 1s 2ms/step - loss: 0.4332 - accuracy: 0.8185\n",
            "Epoch 41/100\n",
            "704/704 [==============================] - 1s 2ms/step - loss: 0.4348 - accuracy: 0.8187\n",
            "Epoch 42/100\n",
            "704/704 [==============================] - 1s 2ms/step - loss: 0.4344 - accuracy: 0.8187\n",
            "Epoch 43/100\n",
            "704/704 [==============================] - 1s 2ms/step - loss: 0.4372 - accuracy: 0.8176\n",
            "Epoch 44/100\n",
            "704/704 [==============================] - 1s 2ms/step - loss: 0.4339 - accuracy: 0.8193\n",
            "Epoch 45/100\n",
            "704/704 [==============================] - 1s 2ms/step - loss: 0.4445 - accuracy: 0.8101\n",
            "Epoch 46/100\n",
            "704/704 [==============================] - 1s 2ms/step - loss: 0.4426 - accuracy: 0.8170\n",
            "Epoch 47/100\n",
            "704/704 [==============================] - 1s 2ms/step - loss: 0.4322 - accuracy: 0.8186\n",
            "Epoch 48/100\n",
            "704/704 [==============================] - 1s 2ms/step - loss: 0.4325 - accuracy: 0.8197\n",
            "Epoch 49/100\n",
            "704/704 [==============================] - 1s 2ms/step - loss: 0.4300 - accuracy: 0.8196\n",
            "Epoch 50/100\n",
            "704/704 [==============================] - 1s 1ms/step - loss: 0.4304 - accuracy: 0.8193\n",
            "Epoch 51/100\n",
            "704/704 [==============================] - 1s 1ms/step - loss: 0.4296 - accuracy: 0.8199\n",
            "Epoch 52/100\n",
            "704/704 [==============================] - 1s 2ms/step - loss: 0.4311 - accuracy: 0.8196\n",
            "Epoch 53/100\n",
            "704/704 [==============================] - 1s 1ms/step - loss: 0.4311 - accuracy: 0.8194\n",
            "Epoch 54/100\n",
            "704/704 [==============================] - 1s 2ms/step - loss: 0.4340 - accuracy: 0.8206\n",
            "Epoch 55/100\n",
            "704/704 [==============================] - 1s 1ms/step - loss: 0.4358 - accuracy: 0.8195\n",
            "Epoch 56/100\n",
            "704/704 [==============================] - 1s 1ms/step - loss: 0.4281 - accuracy: 0.8213\n",
            "Epoch 57/100\n",
            "704/704 [==============================] - 1s 2ms/step - loss: 0.4292 - accuracy: 0.8203\n",
            "Epoch 58/100\n",
            "704/704 [==============================] - 1s 1ms/step - loss: 0.4283 - accuracy: 0.8206\n",
            "Epoch 59/100\n",
            "704/704 [==============================] - 1s 2ms/step - loss: 0.4262 - accuracy: 0.8208\n",
            "Epoch 60/100\n",
            "704/704 [==============================] - 1s 1ms/step - loss: 0.4273 - accuracy: 0.8209\n",
            "Epoch 61/100\n",
            "704/704 [==============================] - 1s 1ms/step - loss: 0.4324 - accuracy: 0.8194\n",
            "Epoch 62/100\n",
            "704/704 [==============================] - 1s 1ms/step - loss: 0.4254 - accuracy: 0.8209\n",
            "Epoch 63/100\n",
            "704/704 [==============================] - 1s 1ms/step - loss: 0.4266 - accuracy: 0.8206\n",
            "Epoch 64/100\n",
            "704/704 [==============================] - 1s 2ms/step - loss: 0.4255 - accuracy: 0.8217\n",
            "Epoch 65/100\n",
            "704/704 [==============================] - 1s 1ms/step - loss: 0.4252 - accuracy: 0.8221\n",
            "Epoch 66/100\n",
            "704/704 [==============================] - 1s 1ms/step - loss: 0.4258 - accuracy: 0.8220\n",
            "Epoch 67/100\n",
            "704/704 [==============================] - 1s 1ms/step - loss: 0.4238 - accuracy: 0.8218\n",
            "Epoch 68/100\n",
            "704/704 [==============================] - 1s 1ms/step - loss: 0.4256 - accuracy: 0.8220\n",
            "Epoch 69/100\n",
            "704/704 [==============================] - 1s 1ms/step - loss: 0.4253 - accuracy: 0.8218\n",
            "Epoch 70/100\n",
            "704/704 [==============================] - 1s 1ms/step - loss: 0.4209 - accuracy: 0.8220\n",
            "Epoch 71/100\n",
            "704/704 [==============================] - 1s 1ms/step - loss: 0.4233 - accuracy: 0.8225\n",
            "Epoch 72/100\n",
            "704/704 [==============================] - 1s 2ms/step - loss: 0.4237 - accuracy: 0.8215\n",
            "Epoch 73/100\n",
            "704/704 [==============================] - 1s 1ms/step - loss: 0.4205 - accuracy: 0.8220\n",
            "Epoch 74/100\n",
            "704/704 [==============================] - 1s 2ms/step - loss: 0.4203 - accuracy: 0.8215\n",
            "Epoch 75/100\n",
            "704/704 [==============================] - 1s 2ms/step - loss: 0.4226 - accuracy: 0.8213\n",
            "Epoch 76/100\n",
            "704/704 [==============================] - 1s 1ms/step - loss: 0.4185 - accuracy: 0.8226\n",
            "Epoch 77/100\n",
            "704/704 [==============================] - 1s 1ms/step - loss: 0.4194 - accuracy: 0.8216\n",
            "Epoch 78/100\n",
            "704/704 [==============================] - 1s 2ms/step - loss: 0.4230 - accuracy: 0.8228\n",
            "Epoch 79/100\n",
            "704/704 [==============================] - 1s 2ms/step - loss: 0.4205 - accuracy: 0.8222\n",
            "Epoch 80/100\n",
            "704/704 [==============================] - 1s 2ms/step - loss: 0.4469 - accuracy: 0.8164\n",
            "Epoch 81/100\n",
            "704/704 [==============================] - 1s 2ms/step - loss: 0.4295 - accuracy: 0.8202\n",
            "Epoch 82/100\n",
            "704/704 [==============================] - 1s 1ms/step - loss: 0.4198 - accuracy: 0.8227\n",
            "Epoch 83/100\n",
            "704/704 [==============================] - 1s 1ms/step - loss: 0.4186 - accuracy: 0.8226\n",
            "Epoch 84/100\n",
            "704/704 [==============================] - 1s 2ms/step - loss: 0.4160 - accuracy: 0.8220\n",
            "Epoch 85/100\n",
            "704/704 [==============================] - 1s 2ms/step - loss: 0.4164 - accuracy: 0.8224\n",
            "Epoch 86/100\n",
            "704/704 [==============================] - 1s 2ms/step - loss: 0.4211 - accuracy: 0.8224\n",
            "Epoch 87/100\n",
            "704/704 [==============================] - 1s 1ms/step - loss: 0.4164 - accuracy: 0.8217\n",
            "Epoch 88/100\n",
            "704/704 [==============================] - 1s 1ms/step - loss: 0.4160 - accuracy: 0.8224\n",
            "Epoch 89/100\n",
            "704/704 [==============================] - 1s 1ms/step - loss: 0.4162 - accuracy: 0.8222\n",
            "Epoch 90/100\n",
            "704/704 [==============================] - 1s 1ms/step - loss: 0.4176 - accuracy: 0.8226\n",
            "Epoch 91/100\n",
            "704/704 [==============================] - 1s 1ms/step - loss: 0.4240 - accuracy: 0.8227\n",
            "Epoch 92/100\n",
            "704/704 [==============================] - 1s 1ms/step - loss: 0.4312 - accuracy: 0.8219\n",
            "Epoch 93/100\n",
            "704/704 [==============================] - 1s 1ms/step - loss: 0.4151 - accuracy: 0.8230\n",
            "Epoch 94/100\n",
            "704/704 [==============================] - 1s 2ms/step - loss: 0.4147 - accuracy: 0.8219\n",
            "Epoch 95/100\n",
            "704/704 [==============================] - 1s 1ms/step - loss: 0.4144 - accuracy: 0.8229\n",
            "Epoch 96/100\n",
            "704/704 [==============================] - 1s 1ms/step - loss: 0.4360 - accuracy: 0.8125\n",
            "Epoch 97/100\n",
            "704/704 [==============================] - 1s 2ms/step - loss: 0.4198 - accuracy: 0.8216\n",
            "Epoch 98/100\n",
            "704/704 [==============================] - 1s 2ms/step - loss: 0.4129 - accuracy: 0.8230\n",
            "Epoch 99/100\n",
            "704/704 [==============================] - 1s 2ms/step - loss: 0.4291 - accuracy: 0.8209\n",
            "Epoch 100/100\n",
            "704/704 [==============================] - 1s 1ms/step - loss: 0.4128 - accuracy: 0.8228\n"
          ],
          "name": "stdout"
        }
      ]
    },
    {
      "cell_type": "code",
      "metadata": {
        "colab": {
          "base_uri": "https://localhost:8080/"
        },
        "id": "44zAzLJQLrlo",
        "outputId": "647b78b7-71c2-46b6-c6e7-b183d65986ce"
      },
      "source": [
        "# Evaluate the model fit with linear dummy data\n",
        "model_loss_2, model_accuracy_2 = nn_2.evaluate(X_test_scaled, y_test, verbose=2)\n",
        "print(f\"Loss: {model_loss_2}, Accuracy: {model_accuracy_2}\")"
      ],
      "execution_count": 20,
      "outputs": [
        {
          "output_type": "stream",
          "text": [
            "235/235 - 0s - loss: 0.4827 - accuracy: 0.8229\n",
            "Loss: 0.4826735556125641, Accuracy: 0.8229333162307739\n"
          ],
          "name": "stdout"
        }
      ]
    },
    {
      "cell_type": "markdown",
      "metadata": {
        "id": "qMcCxHdCLrlo"
      },
      "source": [
        "### Conclusions\n",
        "\n",
        "**Sample Answer:** After reviewing the activation functions documentation, I decided to use the `tanh` function for the first layer and the `hard_sigmoid` for the output layer. There is an slightly improvement in the model's accuracy that is worth to take this activation functions as a better option.\n",
        "\n",
        "We may test with different functions or even perform PCA as part of the possible optimizations."
      ]
    }
  ]
}