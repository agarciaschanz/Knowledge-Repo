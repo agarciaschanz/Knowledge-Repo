{
  "nbformat": 4,
  "nbformat_minor": 0,
  "metadata": {
    "file_extension": ".py",
    "kernelspec": {
      "display_name": "Python 3",
      "language": "python",
      "name": "python3"
    },
    "language_info": {
      "codemirror_mode": {
        "name": "ipython",
        "version": 3
      },
      "file_extension": ".py",
      "mimetype": "text/x-python",
      "name": "python",
      "nbconvert_exporter": "python",
      "pygments_lexer": "ipython3",
      "version": "3.7.3"
    },
    "mimetype": "text/x-python",
    "name": "python",
    "npconvert_exporter": "python",
    "pygments_lexer": "ipython3",
    "version": 3,
    "colab": {
      "name": "preparing_data.ipynb",
      "provenance": []
    }
  },
  "cells": [
    {
      "cell_type": "markdown",
      "metadata": {
        "id": "uoxVD8y-YF1p"
      },
      "source": [
        "# Instructor Do: Preparing Data for Neural Networks"
      ]
    },
    {
      "cell_type": "code",
      "metadata": {
        "id": "1E95UpJtYF1t"
      },
      "source": [
        "# Initial imports\n",
        "import pandas as pd\n",
        "from pathlib import Path\n",
        "from sklearn.preprocessing import OneHotEncoder, StandardScaler\n"
      ],
      "execution_count": null,
      "outputs": []
    },
    {
      "cell_type": "markdown",
      "metadata": {
        "id": "o625NFXFYF1u"
      },
      "source": [
        "## Loading the data\n",
        "\n",
        "For this demo, we will use the [iris dataset](https://archive.ics.uci.edu/ml/datasets/iris). This dataset contains information about three different types of iris flowers (Setosa, Versicolour, and Virginica).\n",
        "\n",
        "The rows are the samples, and the columns depict the flowers' features: Sepal Length, Sepal Width, Petal Length, and Petal Width."
      ]
    },
    {
      "cell_type": "code",
      "metadata": {
        "id": "6iKdBlQRbmpi"
      },
      "source": [
        "# Upload data to Colab\n",
        "from google.colab import files\n",
        "\n",
        "csv_file = files.upload()"
      ],
      "execution_count": null,
      "outputs": []
    },
    {
      "cell_type": "code",
      "metadata": {
        "id": "a-Nhd4p-YF1v"
      },
      "source": [
        "# Load the data into a DataFrame\n",
        "data = pd.read_csv('iris.csv')\n",
        "data.head()"
      ],
      "execution_count": null,
      "outputs": []
    },
    {
      "cell_type": "markdown",
      "metadata": {
        "id": "1bf8JXONYF1v"
      },
      "source": [
        "## One Hot Encoding"
      ]
    },
    {
      "cell_type": "code",
      "metadata": {
        "id": "iEShIVrJYF1w"
      },
      "source": [
        "# Create the OneHotEncoder instance\n",
        "\n"
      ],
      "execution_count": null,
      "outputs": []
    },
    {
      "cell_type": "code",
      "metadata": {
        "id": "8I6bks9cYF1w"
      },
      "source": [
        "# Fit the OneHotEncoder\n",
        "\n"
      ],
      "execution_count": null,
      "outputs": []
    },
    {
      "cell_type": "code",
      "metadata": {
        "id": "cmt509D0YF1w"
      },
      "source": [
        "# Fetch the categories identified by the OneHotEncoder\n",
        "\n"
      ],
      "execution_count": null,
      "outputs": []
    },
    {
      "cell_type": "code",
      "metadata": {
        "id": "XBv0oU0iYF1x"
      },
      "source": [
        "# Encode iris categories\n",
        "\n",
        "\n"
      ],
      "execution_count": null,
      "outputs": []
    },
    {
      "cell_type": "code",
      "metadata": {
        "id": "0sJcKw44YF1x"
      },
      "source": [
        "# Create a DataFrame with the encoded class data\n",
        "\n",
        "\n"
      ],
      "execution_count": null,
      "outputs": []
    },
    {
      "cell_type": "code",
      "metadata": {
        "id": "jR6OpZutYF1y"
      },
      "source": [
        "# Some samples of the encoded data\n",
        "\n"
      ],
      "execution_count": null,
      "outputs": []
    },
    {
      "cell_type": "markdown",
      "metadata": {
        "id": "PEy7QYb9YF1y"
      },
      "source": [
        "### Scaling Data"
      ]
    },
    {
      "cell_type": "code",
      "metadata": {
        "id": "_JWnrIyZYF1y"
      },
      "source": [
        "# Select the columns with numerical values to be sclaed\n",
        "\n"
      ],
      "execution_count": null,
      "outputs": []
    },
    {
      "cell_type": "code",
      "metadata": {
        "id": "qgHF43TuYF1z"
      },
      "source": [
        "# Create the StandardScaler instances\n",
        "\n"
      ],
      "execution_count": null,
      "outputs": []
    },
    {
      "cell_type": "code",
      "metadata": {
        "id": "ZeW4WwmlYF1z"
      },
      "source": [
        "# Fit the StandardScaler\n",
        "\n"
      ],
      "execution_count": null,
      "outputs": []
    },
    {
      "cell_type": "code",
      "metadata": {
        "id": "R6jQfV3fYF1z"
      },
      "source": [
        "# Scale the data\n",
        "\n"
      ],
      "execution_count": null,
      "outputs": []
    },
    {
      "cell_type": "code",
      "metadata": {
        "id": "Q2y7qQ_XYF10"
      },
      "source": [
        "# Create a DataFrame with the scaled data\n",
        "\n"
      ],
      "execution_count": null,
      "outputs": []
    }
  ]
}