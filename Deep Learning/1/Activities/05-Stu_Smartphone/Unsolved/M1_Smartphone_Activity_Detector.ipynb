{
  "nbformat": 4,
  "nbformat_minor": 0,
  "metadata": {
    "anaconda-cloud": {},
    "kernelspec": {
      "display_name": "testgv",
      "language": "python",
      "name": "testgv"
    },
    "language_info": {
      "codemirror_mode": {
        "name": "ipython",
        "version": 3
      },
      "file_extension": ".py",
      "mimetype": "text/x-python",
      "name": "python",
      "nbconvert_exporter": "python",
      "pygments_lexer": "ipython3",
      "version": "3.7.3"
    },
    "varInspector": {
      "cols": {
        "lenName": 16,
        "lenType": 16,
        "lenVar": 40
      },
      "kernels_config": {
        "python": {
          "delete_cmd_postfix": "",
          "delete_cmd_prefix": "del ",
          "library": "var_list.py",
          "varRefreshCmd": "print(var_dic_list())"
        },
        "r": {
          "delete_cmd_postfix": ") ",
          "delete_cmd_prefix": "rm(",
          "library": "var_list.r",
          "varRefreshCmd": "cat(var_dic_list()) "
        }
      },
      "types_to_exclude": [
        "module",
        "function",
        "builtin_function_or_method",
        "instance",
        "_Feature"
      ],
      "window_display": false
    },
    "colab": {
      "name": "Smartphone_Activity_Detector.ipynb",
      "provenance": []
    }
  },
  "cells": [
    {
      "cell_type": "markdown",
      "metadata": {
        "id": "nLXOgihhcjug"
      },
      "source": [
        "# Neural Network Smartphone Activity Detector\n",
        "\n",
        "In this activity, you will train a neural network to use smartphone data to predict the activity of the user. \n",
        "\n",
        "This dataset has already been separated into input features and target activities. Additional information on the dataset can be found here. \n",
        "\n",
        "http://archive.ics.uci.edu/ml/datasets/Smartphone-Based+Recognition+of+Human+Activities+and+Postural+Transitions"
      ]
    },
    {
      "cell_type": "markdown",
      "metadata": {
        "id": "0dDPiOAdcjuk"
      },
      "source": [
        "### Data Pre-Processing\n",
        "\n",
        "Prepare the data for the neural network. This includes splitting the data into a training and testing dataset, Scaling the data, and encoding the categorical target values"
      ]
    },
    {
      "cell_type": "code",
      "metadata": {
        "id": "APV4-lSBcjul"
      },
      "source": [
        "import numpy as np\n",
        "import pandas as pd\n",
        "\n",
        "from sklearn.model_selection import train_test_split\n",
        "from sklearn.preprocessing import StandardScaler, OneHotEncoder\n",
        "\n",
        "import tensorflow as tf\n",
        "from tensorflow.keras.models import Sequential\n",
        "from tensorflow.keras.layers import Dense"
      ],
      "execution_count": null,
      "outputs": []
    },
    {
      "cell_type": "code",
      "metadata": {
        "id": "IppRN3Fqcn9j"
      },
      "source": [
        "# Upload data to Colab\n",
        "from google.colab import files\n",
        "\n",
        "csv_file = files.upload()"
      ],
      "execution_count": null,
      "outputs": []
    },
    {
      "cell_type": "code",
      "metadata": {
        "id": "ZnI6ZoC0cjul"
      },
      "source": [
        "# Read the input features into `X`\n",
        "X = pd.read_csv(\"features.csv\", header=None)\n",
        "X.head()"
      ],
      "execution_count": null,
      "outputs": []
    },
    {
      "cell_type": "code",
      "metadata": {
        "id": "eedgVQaScwE-"
      },
      "source": [
        "# Upload data to Colab\n",
        "csv_file = files.upload()"
      ],
      "execution_count": null,
      "outputs": []
    },
    {
      "cell_type": "code",
      "metadata": {
        "id": "KJTkH7uLcjum"
      },
      "source": [
        "# Read the target values into `y`\n",
        "y = pd.read_csv(\"target.csv\")\n",
        "y.head()"
      ],
      "execution_count": null,
      "outputs": []
    },
    {
      "cell_type": "code",
      "metadata": {
        "id": "XANOmp24cjum"
      },
      "source": [
        "y.activity.value_counts()"
      ],
      "execution_count": null,
      "outputs": []
    },
    {
      "cell_type": "code",
      "metadata": {
        "id": "cb5sKYyBcjun"
      },
      "source": [
        "# Split the dataset into training and testing data\n",
        "# YOUR CODE HERE!"
      ],
      "execution_count": null,
      "outputs": []
    },
    {
      "cell_type": "code",
      "metadata": {
        "id": "omOV3vJrcjun"
      },
      "source": [
        "# Scale the training and testing input features using StandardScaler\n",
        "# YOUR CODE HERE!"
      ],
      "execution_count": null,
      "outputs": []
    },
    {
      "cell_type": "code",
      "metadata": {
        "id": "0g4FWol2cjun"
      },
      "source": [
        "# Apply One-hot encoding to the target labels\n",
        "# YOUR CODE HERE!"
      ],
      "execution_count": null,
      "outputs": []
    },
    {
      "cell_type": "markdown",
      "metadata": {
        "id": "bpE36O7mcjuo"
      },
      "source": [
        "# Build a Deep Neural Network"
      ]
    },
    {
      "cell_type": "code",
      "metadata": {
        "id": "NFnVZFKkcjuo"
      },
      "source": [
        "# Create a sequential model\n",
        "# YOUR CODE HERE!"
      ],
      "execution_count": null,
      "outputs": []
    },
    {
      "cell_type": "code",
      "metadata": {
        "id": "LeslT3htcjuo"
      },
      "source": [
        "# Add the first layer where the input dimensions are the 561 columns of the training data\n",
        "# YOUR CODE HERE!"
      ],
      "execution_count": null,
      "outputs": []
    },
    {
      "cell_type": "code",
      "metadata": {
        "id": "juN5VE-Tcjup"
      },
      "source": [
        "# The output layer has 12 columns that are one-hot encoded\n",
        "y_train.activity.value_counts()\n",
        "number_outputs = 12"
      ],
      "execution_count": null,
      "outputs": []
    },
    {
      "cell_type": "code",
      "metadata": {
        "id": "C7J4E4Fpcjup"
      },
      "source": [
        "# Add output layer using 12 output nodes. \n",
        "# HINT: Use `softmax` as the activation \n",
        "# YOUR CODE HERE!"
      ],
      "execution_count": null,
      "outputs": []
    },
    {
      "cell_type": "code",
      "metadata": {
        "id": "5GmWbprMcjup"
      },
      "source": [
        "# Compile the model using categorical_crossentropy for the loss function, the adam optimizer,\n",
        "# and add accuracy to the training metrics\n",
        "# YOUR CODE HERE!"
      ],
      "execution_count": null,
      "outputs": []
    },
    {
      "cell_type": "code",
      "metadata": {
        "id": "Ym4eZ2axcjuq"
      },
      "source": [
        "# Print the model summary\n",
        "# YOUR CODE HERE!"
      ],
      "execution_count": null,
      "outputs": []
    },
    {
      "cell_type": "code",
      "metadata": {
        "id": "gF26AA3acjuq"
      },
      "source": [
        "# Use the training data to fit (train) the model\n",
        "# @NOTE: Experiment with the number of training epochs to find the minimum iterations required to achieve a good accuracy\n",
        "# YOUR CODE HERE!"
      ],
      "execution_count": null,
      "outputs": []
    },
    {
      "cell_type": "markdown",
      "metadata": {
        "id": "EsBF4gPBcjuq"
      },
      "source": [
        "# Evaluate the Model"
      ]
    },
    {
      "cell_type": "code",
      "metadata": {
        "id": "FjYWh_5Ncjuq"
      },
      "source": [
        "# Evaluate the model using the testing data\n",
        "# YOUR CODE HERE!"
      ],
      "execution_count": null,
      "outputs": []
    },
    {
      "cell_type": "code",
      "metadata": {
        "id": "4AwZMkSZcjur"
      },
      "source": [
        "# Make predictions\n",
        "predicted = model.predict(X_test_scaled)\n",
        "predicted = enc.inverse_transform(predicted).flatten().tolist()\n",
        "results = pd.DataFrame({\n",
        "    \"Actual\": y_test.activity.values,\n",
        "    \"Predicted\": predicted\n",
        "})\n",
        "results.head(10)"
      ],
      "execution_count": null,
      "outputs": []
    },
    {
      "cell_type": "code",
      "metadata": {
        "id": "SJW84Digcjur"
      },
      "source": [
        "# Print the Classification Report\n",
        "from sklearn.metrics import classification_report\n",
        "print(classification_report(results.Actual, results.Predicted))"
      ],
      "execution_count": null,
      "outputs": []
    },
    {
      "cell_type": "code",
      "metadata": {
        "id": "3Bm6m-Dpcjur"
      },
      "source": [
        ""
      ],
      "execution_count": null,
      "outputs": []
    }
  ]
}