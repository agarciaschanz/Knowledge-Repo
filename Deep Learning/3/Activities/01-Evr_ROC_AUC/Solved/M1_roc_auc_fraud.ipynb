{
  "nbformat": 4,
  "nbformat_minor": 0,
  "metadata": {
    "file_extension": ".py",
    "kernelspec": {
      "display_name": "Python 3",
      "language": "python",
      "name": "python3"
    },
    "language_info": {
      "codemirror_mode": {
        "name": "ipython",
        "version": 3
      },
      "file_extension": ".py",
      "mimetype": "text/x-python",
      "name": "python",
      "nbconvert_exporter": "python",
      "pygments_lexer": "ipython3",
      "version": "3.7.3"
    },
    "mimetype": "text/x-python",
    "name": "python",
    "npconvert_exporter": "python",
    "pygments_lexer": "ipython3",
    "version": 3,
    "colab": {
      "name": "roc_auc_fraud.ipynb",
      "provenance": []
    }
  },
  "cells": [
    {
      "cell_type": "markdown",
      "metadata": {
        "id": "ynxkOKczthD2"
      },
      "source": [
        "# Instructor Do: Intro to the ROC Curve and AUC\n",
        "\n",
        "In this activity, students will learn how to measure the performance of a binary classification model by fetching metrics from Keras, as well as plotting and interpreting the ROC curve and AUC."
      ]
    },
    {
      "cell_type": "code",
      "metadata": {
        "id": "DoLE1VbmthD5"
      },
      "source": [
        "# Initial imports\n",
        "import pandas as pd\n",
        "import numpy as np\n",
        "import matplotlib.pyplot as plt\n",
        "import tensorflow as tf\n",
        "\n",
        "%matplotlib inline"
      ],
      "execution_count": 1,
      "outputs": []
    },
    {
      "cell_type": "markdown",
      "metadata": {
        "id": "Vi19HkoVthD6"
      },
      "source": [
        "## The Dataset\n",
        "\n",
        "The data provided for this demo contains anonymous information about `284807` credit card transactions made by European credit cardholders in September 2013.\n",
        "\n",
        "The dataset is going to be used to create a binary classification model using a deep neural network to detect fraudulent transactions. It contains nine numerical variables, which are the result of PCA transformation to protect the confidentiality of credit cardholders. Only the transaction amount can be seen as is.\n",
        "\n",
        "This dataset is an abstract of the file shared by the [Machine Learning Group](http://mlg.ulb.ac.be) of the Université Libre de Bruxelles (ULB)."
      ]
    },
    {
      "cell_type": "code",
      "metadata": {
        "colab": {
          "resources": {
            "http://localhost:8080/nbextensions/google.colab/files.js": {
              "data": "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",
              "ok": true,
              "headers": [
                [
                  "content-type",
                  "application/javascript"
                ]
              ],
              "status": 200,
              "status_text": ""
            }
          },
          "base_uri": "https://localhost:8080/",
          "height": 89
        },
        "id": "6MwgFVy0tlZ_",
        "outputId": "723d3356-0cb3-4112-b355-35ce3fe602bd"
      },
      "source": [
        "# Upload data to Colab\n",
        "from google.colab import files\n",
        "\n",
        "# Upload transactions.csv\n",
        "csv_file = files.upload()"
      ],
      "execution_count": 2,
      "outputs": [
        {
          "output_type": "display_data",
          "data": {
            "text/html": [
              "\n",
              "     <input type=\"file\" id=\"files-ee9b304b-f103-4e51-90ff-335119c404bf\" name=\"files[]\" multiple disabled\n",
              "        style=\"border:none\" />\n",
              "     <output id=\"result-ee9b304b-f103-4e51-90ff-335119c404bf\">\n",
              "      Upload widget is only available when the cell has been executed in the\n",
              "      current browser session. Please rerun this cell to enable.\n",
              "      </output>\n",
              "      <script src=\"/nbextensions/google.colab/files.js\"></script> "
            ],
            "text/plain": [
              "<IPython.core.display.HTML object>"
            ]
          },
          "metadata": {
            "tags": []
          }
        },
        {
          "output_type": "stream",
          "text": [
            "Saving transactions.csv to transactions (1).csv\n"
          ],
          "name": "stdout"
        }
      ]
    },
    {
      "cell_type": "code",
      "metadata": {
        "colab": {
          "base_uri": "https://localhost:8080/",
          "height": 222
        },
        "id": "emJj1xpMthD7",
        "outputId": "746520d2-74ab-4ed6-bd34-cd036c7a9b51"
      },
      "source": [
        "# Read csv into DataFrame\n",
        "transactions_df = pd.read_csv(\"transactions.csv\")\n",
        "transactions_df.head()"
      ],
      "execution_count": 3,
      "outputs": [
        {
          "output_type": "execute_result",
          "data": {
            "text/html": [
              "<div>\n",
              "<style scoped>\n",
              "    .dataframe tbody tr th:only-of-type {\n",
              "        vertical-align: middle;\n",
              "    }\n",
              "\n",
              "    .dataframe tbody tr th {\n",
              "        vertical-align: top;\n",
              "    }\n",
              "\n",
              "    .dataframe thead th {\n",
              "        text-align: right;\n",
              "    }\n",
              "</style>\n",
              "<table border=\"1\" class=\"dataframe\">\n",
              "  <thead>\n",
              "    <tr style=\"text-align: right;\">\n",
              "      <th></th>\n",
              "      <th>V1</th>\n",
              "      <th>V2</th>\n",
              "      <th>V3</th>\n",
              "      <th>V4</th>\n",
              "      <th>V5</th>\n",
              "      <th>V6</th>\n",
              "      <th>V7</th>\n",
              "      <th>V8</th>\n",
              "      <th>V9</th>\n",
              "      <th>Amount</th>\n",
              "      <th>Class</th>\n",
              "    </tr>\n",
              "  </thead>\n",
              "  <tbody>\n",
              "    <tr>\n",
              "      <th>0</th>\n",
              "      <td>-1.359807</td>\n",
              "      <td>-0.072781</td>\n",
              "      <td>2.536347</td>\n",
              "      <td>1.378155</td>\n",
              "      <td>-0.338321</td>\n",
              "      <td>0.462388</td>\n",
              "      <td>0.239599</td>\n",
              "      <td>0.098698</td>\n",
              "      <td>0.363787</td>\n",
              "      <td>149.62</td>\n",
              "      <td>0</td>\n",
              "    </tr>\n",
              "    <tr>\n",
              "      <th>1</th>\n",
              "      <td>1.191857</td>\n",
              "      <td>0.266151</td>\n",
              "      <td>0.166480</td>\n",
              "      <td>0.448154</td>\n",
              "      <td>0.060018</td>\n",
              "      <td>-0.082361</td>\n",
              "      <td>-0.078803</td>\n",
              "      <td>0.085102</td>\n",
              "      <td>-0.255425</td>\n",
              "      <td>2.69</td>\n",
              "      <td>0</td>\n",
              "    </tr>\n",
              "    <tr>\n",
              "      <th>2</th>\n",
              "      <td>-1.358354</td>\n",
              "      <td>-1.340163</td>\n",
              "      <td>1.773209</td>\n",
              "      <td>0.379780</td>\n",
              "      <td>-0.503198</td>\n",
              "      <td>1.800499</td>\n",
              "      <td>0.791461</td>\n",
              "      <td>0.247676</td>\n",
              "      <td>-1.514654</td>\n",
              "      <td>378.66</td>\n",
              "      <td>0</td>\n",
              "    </tr>\n",
              "    <tr>\n",
              "      <th>3</th>\n",
              "      <td>-0.966272</td>\n",
              "      <td>-0.185226</td>\n",
              "      <td>1.792993</td>\n",
              "      <td>-0.863291</td>\n",
              "      <td>-0.010309</td>\n",
              "      <td>1.247203</td>\n",
              "      <td>0.237609</td>\n",
              "      <td>0.377436</td>\n",
              "      <td>-1.387024</td>\n",
              "      <td>123.50</td>\n",
              "      <td>0</td>\n",
              "    </tr>\n",
              "    <tr>\n",
              "      <th>4</th>\n",
              "      <td>-1.158233</td>\n",
              "      <td>0.877737</td>\n",
              "      <td>1.548718</td>\n",
              "      <td>0.403034</td>\n",
              "      <td>-0.407193</td>\n",
              "      <td>0.095921</td>\n",
              "      <td>0.592941</td>\n",
              "      <td>-0.270533</td>\n",
              "      <td>0.817739</td>\n",
              "      <td>69.99</td>\n",
              "      <td>0</td>\n",
              "    </tr>\n",
              "  </tbody>\n",
              "</table>\n",
              "</div>"
            ],
            "text/plain": [
              "         V1        V2        V3        V4  ...        V8        V9  Amount  Class\n",
              "0 -1.359807 -0.072781  2.536347  1.378155  ...  0.098698  0.363787  149.62      0\n",
              "1  1.191857  0.266151  0.166480  0.448154  ...  0.085102 -0.255425    2.69      0\n",
              "2 -1.358354 -1.340163  1.773209  0.379780  ...  0.247676 -1.514654  378.66      0\n",
              "3 -0.966272 -0.185226  1.792993 -0.863291  ...  0.377436 -1.387024  123.50      0\n",
              "4 -1.158233  0.877737  1.548718  0.403034  ... -0.270533  0.817739   69.99      0\n",
              "\n",
              "[5 rows x 11 columns]"
            ]
          },
          "metadata": {
            "tags": []
          },
          "execution_count": 3
        }
      ]
    },
    {
      "cell_type": "markdown",
      "metadata": {
        "id": "mIl07LdzthD8"
      },
      "source": [
        "## Data Preprocessing"
      ]
    },
    {
      "cell_type": "code",
      "metadata": {
        "id": "mwzUjsDWthD9"
      },
      "source": [
        "# Creating the X and y sets\n",
        "X = transactions_df.iloc[:, 0:10].values\n",
        "y = transactions_df[\"Class\"].values"
      ],
      "execution_count": 4,
      "outputs": []
    },
    {
      "cell_type": "code",
      "metadata": {
        "id": "-aH-uFSLthD9"
      },
      "source": [
        "# Import the StandardScaler from sklearn\n",
        "from sklearn.preprocessing import StandardScaler\n",
        "\n",
        "# Scale the data\n",
        "scaler = StandardScaler().fit(X)\n",
        "X = scaler.transform(X)"
      ],
      "execution_count": 5,
      "outputs": []
    },
    {
      "cell_type": "markdown",
      "metadata": {
        "id": "3QgmGJwfthD-"
      },
      "source": [
        "Now that the data is scaled, the training, validation, and testing sets will be created."
      ]
    },
    {
      "cell_type": "code",
      "metadata": {
        "id": "WgypbzUrthD-"
      },
      "source": [
        "# Creating training, validation, and testing sets\n",
        "from sklearn.model_selection import train_test_split\n",
        "\n",
        "X_train, X_test, y_train, y_test = train_test_split(X, y, random_state=78)\n",
        "\n",
        "X_train, X_val, y_train, y_val = train_test_split(X_train, y_train, random_state=78)"
      ],
      "execution_count": 6,
      "outputs": []
    },
    {
      "cell_type": "markdown",
      "metadata": {
        "id": "_CHb65v3thD_"
      },
      "source": [
        "## Build and Train the Deep Learning Model"
      ]
    },
    {
      "cell_type": "markdown",
      "metadata": {
        "id": "VsZKRYWlthD_"
      },
      "source": [
        " ### Importing the Keras Modules"
      ]
    },
    {
      "cell_type": "code",
      "metadata": {
        "id": "wUMEyrfjthEA"
      },
      "source": [
        "# Import Keras modules for model creation\n",
        "from tensorflow.keras.models import Sequential\n",
        "from tensorflow.keras.layers import Dense"
      ],
      "execution_count": 7,
      "outputs": []
    },
    {
      "cell_type": "markdown",
      "metadata": {
        "id": "NwviEn3pthEA"
      },
      "source": [
        " ### Setting Up the Model"
      ]
    },
    {
      "cell_type": "code",
      "metadata": {
        "id": "RMnJuse1thEA"
      },
      "source": [
        "# Model set-up\n",
        "number_input_features = 10\n",
        "hidden_nodes_layer1 = 15\n",
        "hidden_nodes_layer2 = 5"
      ],
      "execution_count": 8,
      "outputs": []
    },
    {
      "cell_type": "markdown",
      "metadata": {
        "id": "jjzk-MrcthEB"
      },
      "source": [
        " ### Defining the Model's Structure"
      ]
    },
    {
      "cell_type": "code",
      "metadata": {
        "id": "tSY7mucXthEB"
      },
      "source": [
        "# Define the LSTM RNN model\n",
        "model = Sequential()\n",
        "\n",
        "# Layer 1\n",
        "model.add(\n",
        "    Dense(units=hidden_nodes_layer1, input_dim=number_input_features, activation=\"relu\")\n",
        ")\n",
        "\n",
        "# Layer 2\n",
        "model.add(Dense(units=hidden_nodes_layer2, activation=\"relu\"))\n",
        "\n",
        "# Output layer\n",
        "model.add(Dense(1, activation=\"sigmoid\"))"
      ],
      "execution_count": 9,
      "outputs": []
    },
    {
      "cell_type": "markdown",
      "metadata": {
        "id": "Jtn3WrckthEB"
      },
      "source": [
        " ### Compiling the Model"
      ]
    },
    {
      "cell_type": "code",
      "metadata": {
        "id": "gq-lVDrgthEC"
      },
      "source": [
        "# Compile the model\n",
        "model.compile(\n",
        "    loss=\"binary_crossentropy\",\n",
        "    optimizer=\"adam\",\n",
        "    metrics=[\n",
        "        \"accuracy\",\n",
        "        tf.keras.metrics.TruePositives(name=\"tp\"),\n",
        "        tf.keras.metrics.TrueNegatives(name=\"tn\"),\n",
        "        tf.keras.metrics.FalsePositives(name=\"fp\"),\n",
        "        tf.keras.metrics.FalseNegatives(name=\"fn\"),\n",
        "        tf.keras.metrics.Precision(name=\"precision\"),\n",
        "        tf.keras.metrics.Recall(name=\"recall\"),\n",
        "        tf.keras.metrics.AUC(name=\"auc\"),\n",
        "    ],\n",
        ")"
      ],
      "execution_count": 10,
      "outputs": []
    },
    {
      "cell_type": "code",
      "metadata": {
        "colab": {
          "base_uri": "https://localhost:8080/"
        },
        "id": "Me8W4dzwthEC",
        "outputId": "a420c82c-f3d8-4ea2-ff01-ffe69e8fcb12"
      },
      "source": [
        "# Summarize the model\n",
        "model.summary()"
      ],
      "execution_count": 11,
      "outputs": [
        {
          "output_type": "stream",
          "text": [
            "Model: \"sequential\"\n",
            "_________________________________________________________________\n",
            "Layer (type)                 Output Shape              Param #   \n",
            "=================================================================\n",
            "dense (Dense)                (None, 15)                165       \n",
            "_________________________________________________________________\n",
            "dense_1 (Dense)              (None, 5)                 80        \n",
            "_________________________________________________________________\n",
            "dense_2 (Dense)              (None, 1)                 6         \n",
            "=================================================================\n",
            "Total params: 251\n",
            "Trainable params: 251\n",
            "Non-trainable params: 0\n",
            "_________________________________________________________________\n"
          ],
          "name": "stdout"
        }
      ]
    },
    {
      "cell_type": "markdown",
      "metadata": {
        "id": "HtmdQSPkthED"
      },
      "source": [
        " ### Training the Model"
      ]
    },
    {
      "cell_type": "code",
      "metadata": {
        "colab": {
          "base_uri": "https://localhost:8080/"
        },
        "id": "exU4MdmIthED",
        "outputId": "7b064b2f-0808-4d7c-994e-5e9f3e640ca0"
      },
      "source": [
        "# Training the model\n",
        "batch_size = 1000\n",
        "epochs = 50\n",
        "training_history = model.fit(\n",
        "    X_train,\n",
        "    y_train,\n",
        "    validation_data=(X_val, y_val),\n",
        "    epochs=epochs,\n",
        "    batch_size=batch_size,\n",
        "    verbose=1,\n",
        ")"
      ],
      "execution_count": 12,
      "outputs": [
        {
          "output_type": "stream",
          "text": [
            "Epoch 1/50\n",
            "161/161 [==============================] - 6s 18ms/step - loss: 0.2650 - accuracy: 0.9739 - tp: 65.0000 - tn: 155951.0000 - fp: 3995.0000 - fn: 192.0000 - precision: 0.0160 - recall: 0.2529 - auc: 0.6342 - val_loss: 0.0849 - val_accuracy: 0.9981 - val_tp: 3.0000 - val_tn: 53296.0000 - val_fp: 1.0000 - val_fn: 102.0000 - val_precision: 0.7500 - val_recall: 0.0286 - val_auc: 0.7191\n",
            "Epoch 2/50\n",
            "161/161 [==============================] - 1s 7ms/step - loss: 0.0424 - accuracy: 0.9985 - tp: 9.0000 - tn: 159946.0000 - fp: 0.0000e+00 - fn: 248.0000 - precision: 1.0000 - recall: 0.0350 - auc: 0.7152 - val_loss: 0.0217 - val_accuracy: 0.9982 - val_tp: 10.0000 - val_tn: 53297.0000 - val_fp: 0.0000e+00 - val_fn: 95.0000 - val_precision: 1.0000 - val_recall: 0.0952 - val_auc: 0.8437\n",
            "Epoch 3/50\n",
            "161/161 [==============================] - 1s 7ms/step - loss: 0.0154 - accuracy: 0.9986 - tp: 42.0000 - tn: 159941.0000 - fp: 5.0000 - fn: 215.0000 - precision: 0.8936 - recall: 0.1634 - auc: 0.8305 - val_loss: 0.0122 - val_accuracy: 0.9983 - val_tp: 25.0000 - val_tn: 53288.0000 - val_fp: 9.0000 - val_fn: 80.0000 - val_precision: 0.7353 - val_recall: 0.2381 - val_auc: 0.8771\n",
            "Epoch 4/50\n",
            "161/161 [==============================] - 1s 7ms/step - loss: 0.0099 - accuracy: 0.9988 - tp: 72.0000 - tn: 159933.0000 - fp: 13.0000 - fn: 185.0000 - precision: 0.8471 - recall: 0.2802 - auc: 0.8631 - val_loss: 0.0092 - val_accuracy: 0.9984 - val_tp: 29.0000 - val_tn: 53286.0000 - val_fp: 11.0000 - val_fn: 76.0000 - val_precision: 0.7250 - val_recall: 0.2762 - val_auc: 0.9004\n",
            "Epoch 5/50\n",
            "161/161 [==============================] - 1s 8ms/step - loss: 0.0078 - accuracy: 0.9988 - tp: 84.0000 - tn: 159932.0000 - fp: 14.0000 - fn: 173.0000 - precision: 0.8571 - recall: 0.3268 - auc: 0.8839 - val_loss: 0.0078 - val_accuracy: 0.9984 - val_tp: 33.0000 - val_tn: 53284.0000 - val_fp: 13.0000 - val_fn: 72.0000 - val_precision: 0.7174 - val_recall: 0.3143 - val_auc: 0.9107\n",
            "Epoch 6/50\n",
            "161/161 [==============================] - 1s 7ms/step - loss: 0.0067 - accuracy: 0.9989 - tp: 101.0000 - tn: 159927.0000 - fp: 19.0000 - fn: 156.0000 - precision: 0.8417 - recall: 0.3930 - auc: 0.8898 - val_loss: 0.0070 - val_accuracy: 0.9985 - val_tp: 37.0000 - val_tn: 53284.0000 - val_fp: 13.0000 - val_fn: 68.0000 - val_precision: 0.7400 - val_recall: 0.3524 - val_auc: 0.8987\n",
            "Epoch 7/50\n",
            "161/161 [==============================] - 1s 9ms/step - loss: 0.0061 - accuracy: 0.9990 - tp: 105.0000 - tn: 159930.0000 - fp: 16.0000 - fn: 152.0000 - precision: 0.8678 - recall: 0.4086 - auc: 0.8927 - val_loss: 0.0064 - val_accuracy: 0.9985 - val_tp: 41.0000 - val_tn: 53283.0000 - val_fp: 14.0000 - val_fn: 64.0000 - val_precision: 0.7455 - val_recall: 0.3905 - val_auc: 0.9109\n",
            "Epoch 8/50\n",
            "161/161 [==============================] - 1s 7ms/step - loss: 0.0056 - accuracy: 0.9990 - tp: 117.0000 - tn: 159927.0000 - fp: 19.0000 - fn: 140.0000 - precision: 0.8603 - recall: 0.4553 - auc: 0.8993 - val_loss: 0.0059 - val_accuracy: 0.9987 - val_tp: 48.0000 - val_tn: 53283.0000 - val_fp: 14.0000 - val_fn: 57.0000 - val_precision: 0.7742 - val_recall: 0.4571 - val_auc: 0.9221\n",
            "Epoch 9/50\n",
            "161/161 [==============================] - 1s 7ms/step - loss: 0.0052 - accuracy: 0.9990 - tp: 124.0000 - tn: 159926.0000 - fp: 20.0000 - fn: 133.0000 - precision: 0.8611 - recall: 0.4825 - auc: 0.9011 - val_loss: 0.0056 - val_accuracy: 0.9987 - val_tp: 50.0000 - val_tn: 53283.0000 - val_fp: 14.0000 - val_fn: 55.0000 - val_precision: 0.7812 - val_recall: 0.4762 - val_auc: 0.9284\n",
            "Epoch 10/50\n",
            "161/161 [==============================] - 1s 7ms/step - loss: 0.0050 - accuracy: 0.9991 - tp: 126.0000 - tn: 159926.0000 - fp: 20.0000 - fn: 131.0000 - precision: 0.8630 - recall: 0.4903 - auc: 0.9134 - val_loss: 0.0054 - val_accuracy: 0.9987 - val_tp: 52.0000 - val_tn: 53283.0000 - val_fp: 14.0000 - val_fn: 53.0000 - val_precision: 0.7879 - val_recall: 0.4952 - val_auc: 0.9340\n",
            "Epoch 11/50\n",
            "161/161 [==============================] - 1s 7ms/step - loss: 0.0048 - accuracy: 0.9991 - tp: 135.0000 - tn: 159925.0000 - fp: 21.0000 - fn: 122.0000 - precision: 0.8654 - recall: 0.5253 - auc: 0.9163 - val_loss: 0.0052 - val_accuracy: 0.9987 - val_tp: 54.0000 - val_tn: 53281.0000 - val_fp: 16.0000 - val_fn: 51.0000 - val_precision: 0.7714 - val_recall: 0.5143 - val_auc: 0.9298\n",
            "Epoch 12/50\n",
            "161/161 [==============================] - 1s 9ms/step - loss: 0.0046 - accuracy: 0.9991 - tp: 138.0000 - tn: 159925.0000 - fp: 21.0000 - fn: 119.0000 - precision: 0.8679 - recall: 0.5370 - auc: 0.9130 - val_loss: 0.0050 - val_accuracy: 0.9988 - val_tp: 58.0000 - val_tn: 53281.0000 - val_fp: 16.0000 - val_fn: 47.0000 - val_precision: 0.7838 - val_recall: 0.5524 - val_auc: 0.9303\n",
            "Epoch 13/50\n",
            "161/161 [==============================] - 1s 9ms/step - loss: 0.0044 - accuracy: 0.9992 - tp: 144.0000 - tn: 159926.0000 - fp: 20.0000 - fn: 113.0000 - precision: 0.8780 - recall: 0.5603 - auc: 0.9134 - val_loss: 0.0049 - val_accuracy: 0.9989 - val_tp: 61.0000 - val_tn: 53281.0000 - val_fp: 16.0000 - val_fn: 44.0000 - val_precision: 0.7922 - val_recall: 0.5810 - val_auc: 0.9305\n",
            "Epoch 14/50\n",
            "161/161 [==============================] - 2s 10ms/step - loss: 0.0043 - accuracy: 0.9992 - tp: 149.0000 - tn: 159925.0000 - fp: 21.0000 - fn: 108.0000 - precision: 0.8765 - recall: 0.5798 - auc: 0.9136 - val_loss: 0.0048 - val_accuracy: 0.9988 - val_tp: 59.0000 - val_tn: 53281.0000 - val_fp: 16.0000 - val_fn: 46.0000 - val_precision: 0.7867 - val_recall: 0.5619 - val_auc: 0.9309\n",
            "Epoch 15/50\n",
            "161/161 [==============================] - 1s 8ms/step - loss: 0.0042 - accuracy: 0.9992 - tp: 151.0000 - tn: 159925.0000 - fp: 21.0000 - fn: 106.0000 - precision: 0.8779 - recall: 0.5875 - auc: 0.9177 - val_loss: 0.0048 - val_accuracy: 0.9990 - val_tp: 65.0000 - val_tn: 53281.0000 - val_fp: 16.0000 - val_fn: 40.0000 - val_precision: 0.8025 - val_recall: 0.6190 - val_auc: 0.9311\n",
            "Epoch 16/50\n",
            "161/161 [==============================] - 2s 10ms/step - loss: 0.0042 - accuracy: 0.9992 - tp: 154.0000 - tn: 159925.0000 - fp: 21.0000 - fn: 103.0000 - precision: 0.8800 - recall: 0.5992 - auc: 0.9159 - val_loss: 0.0047 - val_accuracy: 0.9990 - val_tp: 68.0000 - val_tn: 53281.0000 - val_fp: 16.0000 - val_fn: 37.0000 - val_precision: 0.8095 - val_recall: 0.6476 - val_auc: 0.9359\n",
            "Epoch 17/50\n",
            "161/161 [==============================] - 2s 11ms/step - loss: 0.0041 - accuracy: 0.9992 - tp: 156.0000 - tn: 159926.0000 - fp: 20.0000 - fn: 101.0000 - precision: 0.8864 - recall: 0.6070 - auc: 0.9161 - val_loss: 0.0047 - val_accuracy: 0.9990 - val_tp: 67.0000 - val_tn: 53281.0000 - val_fp: 16.0000 - val_fn: 38.0000 - val_precision: 0.8072 - val_recall: 0.6381 - val_auc: 0.9407\n",
            "Epoch 18/50\n",
            "161/161 [==============================] - 1s 9ms/step - loss: 0.0040 - accuracy: 0.9993 - tp: 158.0000 - tn: 159927.0000 - fp: 19.0000 - fn: 99.0000 - precision: 0.8927 - recall: 0.6148 - auc: 0.9163 - val_loss: 0.0046 - val_accuracy: 0.9990 - val_tp: 67.0000 - val_tn: 53281.0000 - val_fp: 16.0000 - val_fn: 38.0000 - val_precision: 0.8072 - val_recall: 0.6381 - val_auc: 0.9409\n",
            "Epoch 19/50\n",
            "161/161 [==============================] - 1s 7ms/step - loss: 0.0040 - accuracy: 0.9993 - tp: 160.0000 - tn: 159925.0000 - fp: 21.0000 - fn: 97.0000 - precision: 0.8840 - recall: 0.6226 - auc: 0.9183 - val_loss: 0.0046 - val_accuracy: 0.9990 - val_tp: 68.0000 - val_tn: 53281.0000 - val_fp: 16.0000 - val_fn: 37.0000 - val_precision: 0.8095 - val_recall: 0.6476 - val_auc: 0.9361\n",
            "Epoch 20/50\n",
            "161/161 [==============================] - 1s 9ms/step - loss: 0.0039 - accuracy: 0.9993 - tp: 161.0000 - tn: 159923.0000 - fp: 23.0000 - fn: 96.0000 - precision: 0.8750 - recall: 0.6265 - auc: 0.9202 - val_loss: 0.0045 - val_accuracy: 0.9990 - val_tp: 64.0000 - val_tn: 53282.0000 - val_fp: 15.0000 - val_fn: 41.0000 - val_precision: 0.8101 - val_recall: 0.6095 - val_auc: 0.9364\n",
            "Epoch 21/50\n",
            "161/161 [==============================] - 1s 7ms/step - loss: 0.0039 - accuracy: 0.9992 - tp: 156.0000 - tn: 159926.0000 - fp: 20.0000 - fn: 101.0000 - precision: 0.8864 - recall: 0.6070 - auc: 0.9203 - val_loss: 0.0045 - val_accuracy: 0.9990 - val_tp: 68.0000 - val_tn: 53281.0000 - val_fp: 16.0000 - val_fn: 37.0000 - val_precision: 0.8095 - val_recall: 0.6476 - val_auc: 0.9363\n",
            "Epoch 22/50\n",
            "161/161 [==============================] - 1s 8ms/step - loss: 0.0038 - accuracy: 0.9993 - tp: 160.0000 - tn: 159924.0000 - fp: 22.0000 - fn: 97.0000 - precision: 0.8791 - recall: 0.6226 - auc: 0.9186 - val_loss: 0.0045 - val_accuracy: 0.9990 - val_tp: 69.0000 - val_tn: 53281.0000 - val_fp: 16.0000 - val_fn: 36.0000 - val_precision: 0.8118 - val_recall: 0.6571 - val_auc: 0.9364\n",
            "Epoch 23/50\n",
            "161/161 [==============================] - 1s 7ms/step - loss: 0.0038 - accuracy: 0.9993 - tp: 163.0000 - tn: 159923.0000 - fp: 23.0000 - fn: 94.0000 - precision: 0.8763 - recall: 0.6342 - auc: 0.9185 - val_loss: 0.0045 - val_accuracy: 0.9990 - val_tp: 67.0000 - val_tn: 53281.0000 - val_fp: 16.0000 - val_fn: 38.0000 - val_precision: 0.8072 - val_recall: 0.6381 - val_auc: 0.9365\n",
            "Epoch 24/50\n",
            "161/161 [==============================] - 1s 7ms/step - loss: 0.0038 - accuracy: 0.9993 - tp: 163.0000 - tn: 159924.0000 - fp: 22.0000 - fn: 94.0000 - precision: 0.8811 - recall: 0.6342 - auc: 0.9262 - val_loss: 0.0044 - val_accuracy: 0.9990 - val_tp: 65.0000 - val_tn: 53282.0000 - val_fp: 15.0000 - val_fn: 40.0000 - val_precision: 0.8125 - val_recall: 0.6190 - val_auc: 0.9366\n",
            "Epoch 25/50\n",
            "161/161 [==============================] - 1s 8ms/step - loss: 0.0037 - accuracy: 0.9993 - tp: 161.0000 - tn: 159925.0000 - fp: 21.0000 - fn: 96.0000 - precision: 0.8846 - recall: 0.6265 - auc: 0.9186 - val_loss: 0.0044 - val_accuracy: 0.9990 - val_tp: 67.0000 - val_tn: 53282.0000 - val_fp: 15.0000 - val_fn: 38.0000 - val_precision: 0.8171 - val_recall: 0.6381 - val_auc: 0.9365\n",
            "Epoch 26/50\n",
            "161/161 [==============================] - 1s 7ms/step - loss: 0.0037 - accuracy: 0.9993 - tp: 162.0000 - tn: 159925.0000 - fp: 21.0000 - fn: 95.0000 - precision: 0.8852 - recall: 0.6304 - auc: 0.9244 - val_loss: 0.0044 - val_accuracy: 0.9991 - val_tp: 70.0000 - val_tn: 53282.0000 - val_fp: 15.0000 - val_fn: 35.0000 - val_precision: 0.8235 - val_recall: 0.6667 - val_auc: 0.9365\n",
            "Epoch 27/50\n",
            "161/161 [==============================] - 2s 9ms/step - loss: 0.0037 - accuracy: 0.9993 - tp: 166.0000 - tn: 159925.0000 - fp: 21.0000 - fn: 91.0000 - precision: 0.8877 - recall: 0.6459 - auc: 0.9282 - val_loss: 0.0044 - val_accuracy: 0.9990 - val_tp: 68.0000 - val_tn: 53282.0000 - val_fp: 15.0000 - val_fn: 37.0000 - val_precision: 0.8193 - val_recall: 0.6476 - val_auc: 0.9367\n",
            "Epoch 28/50\n",
            "161/161 [==============================] - 2s 9ms/step - loss: 0.0036 - accuracy: 0.9993 - tp: 166.0000 - tn: 159925.0000 - fp: 21.0000 - fn: 91.0000 - precision: 0.8877 - recall: 0.6459 - auc: 0.9264 - val_loss: 0.0044 - val_accuracy: 0.9991 - val_tp: 72.0000 - val_tn: 53282.0000 - val_fp: 15.0000 - val_fn: 33.0000 - val_precision: 0.8276 - val_recall: 0.6857 - val_auc: 0.9367\n",
            "Epoch 29/50\n",
            "161/161 [==============================] - 1s 9ms/step - loss: 0.0036 - accuracy: 0.9993 - tp: 165.0000 - tn: 159926.0000 - fp: 20.0000 - fn: 92.0000 - precision: 0.8919 - recall: 0.6420 - auc: 0.9302 - val_loss: 0.0043 - val_accuracy: 0.9991 - val_tp: 72.0000 - val_tn: 53282.0000 - val_fp: 15.0000 - val_fn: 33.0000 - val_precision: 0.8276 - val_recall: 0.6857 - val_auc: 0.9367\n",
            "Epoch 30/50\n",
            "161/161 [==============================] - 2s 9ms/step - loss: 0.0036 - accuracy: 0.9993 - tp: 167.0000 - tn: 159924.0000 - fp: 22.0000 - fn: 90.0000 - precision: 0.8836 - recall: 0.6498 - auc: 0.9303 - val_loss: 0.0043 - val_accuracy: 0.9991 - val_tp: 72.0000 - val_tn: 53282.0000 - val_fp: 15.0000 - val_fn: 33.0000 - val_precision: 0.8276 - val_recall: 0.6857 - val_auc: 0.9367\n",
            "Epoch 31/50\n",
            "161/161 [==============================] - 2s 9ms/step - loss: 0.0036 - accuracy: 0.9993 - tp: 166.0000 - tn: 159927.0000 - fp: 19.0000 - fn: 91.0000 - precision: 0.8973 - recall: 0.6459 - auc: 0.9303 - val_loss: 0.0043 - val_accuracy: 0.9991 - val_tp: 72.0000 - val_tn: 53281.0000 - val_fp: 16.0000 - val_fn: 33.0000 - val_precision: 0.8182 - val_recall: 0.6857 - val_auc: 0.9415\n",
            "Epoch 32/50\n",
            "161/161 [==============================] - 1s 8ms/step - loss: 0.0036 - accuracy: 0.9993 - tp: 169.0000 - tn: 159926.0000 - fp: 20.0000 - fn: 88.0000 - precision: 0.8942 - recall: 0.6576 - auc: 0.9303 - val_loss: 0.0043 - val_accuracy: 0.9991 - val_tp: 73.0000 - val_tn: 53281.0000 - val_fp: 16.0000 - val_fn: 32.0000 - val_precision: 0.8202 - val_recall: 0.6952 - val_auc: 0.9414\n",
            "Epoch 33/50\n",
            "161/161 [==============================] - 1s 7ms/step - loss: 0.0035 - accuracy: 0.9993 - tp: 171.0000 - tn: 159926.0000 - fp: 20.0000 - fn: 86.0000 - precision: 0.8953 - recall: 0.6654 - auc: 0.9303 - val_loss: 0.0043 - val_accuracy: 0.9991 - val_tp: 72.0000 - val_tn: 53281.0000 - val_fp: 16.0000 - val_fn: 33.0000 - val_precision: 0.8182 - val_recall: 0.6857 - val_auc: 0.9415\n",
            "Epoch 34/50\n",
            "161/161 [==============================] - 1s 7ms/step - loss: 0.0035 - accuracy: 0.9993 - tp: 168.0000 - tn: 159926.0000 - fp: 20.0000 - fn: 89.0000 - precision: 0.8936 - recall: 0.6537 - auc: 0.9303 - val_loss: 0.0043 - val_accuracy: 0.9991 - val_tp: 72.0000 - val_tn: 53281.0000 - val_fp: 16.0000 - val_fn: 33.0000 - val_precision: 0.8182 - val_recall: 0.6857 - val_auc: 0.9369\n",
            "Epoch 35/50\n",
            "161/161 [==============================] - 2s 9ms/step - loss: 0.0035 - accuracy: 0.9993 - tp: 169.0000 - tn: 159926.0000 - fp: 20.0000 - fn: 88.0000 - precision: 0.8942 - recall: 0.6576 - auc: 0.9305 - val_loss: 0.0042 - val_accuracy: 0.9991 - val_tp: 72.0000 - val_tn: 53281.0000 - val_fp: 16.0000 - val_fn: 33.0000 - val_precision: 0.8182 - val_recall: 0.6857 - val_auc: 0.9415\n",
            "Epoch 36/50\n",
            "161/161 [==============================] - 2s 10ms/step - loss: 0.0035 - accuracy: 0.9993 - tp: 168.0000 - tn: 159926.0000 - fp: 20.0000 - fn: 89.0000 - precision: 0.8936 - recall: 0.6537 - auc: 0.9324 - val_loss: 0.0042 - val_accuracy: 0.9991 - val_tp: 73.0000 - val_tn: 53281.0000 - val_fp: 16.0000 - val_fn: 32.0000 - val_precision: 0.8202 - val_recall: 0.6952 - val_auc: 0.9416\n",
            "Epoch 37/50\n",
            "161/161 [==============================] - 2s 10ms/step - loss: 0.0034 - accuracy: 0.9994 - tp: 171.0000 - tn: 159928.0000 - fp: 18.0000 - fn: 86.0000 - precision: 0.9048 - recall: 0.6654 - auc: 0.9343 - val_loss: 0.0042 - val_accuracy: 0.9991 - val_tp: 74.0000 - val_tn: 53281.0000 - val_fp: 16.0000 - val_fn: 31.0000 - val_precision: 0.8222 - val_recall: 0.7048 - val_auc: 0.9416\n",
            "Epoch 38/50\n",
            "161/161 [==============================] - 2s 10ms/step - loss: 0.0034 - accuracy: 0.9993 - tp: 169.0000 - tn: 159925.0000 - fp: 21.0000 - fn: 88.0000 - precision: 0.8895 - recall: 0.6576 - auc: 0.9325 - val_loss: 0.0042 - val_accuracy: 0.9990 - val_tp: 70.0000 - val_tn: 53281.0000 - val_fp: 16.0000 - val_fn: 35.0000 - val_precision: 0.8140 - val_recall: 0.6667 - val_auc: 0.9416\n",
            "Epoch 39/50\n",
            "161/161 [==============================] - 2s 11ms/step - loss: 0.0034 - accuracy: 0.9994 - tp: 174.0000 - tn: 159926.0000 - fp: 20.0000 - fn: 83.0000 - precision: 0.8969 - recall: 0.6770 - auc: 0.9324 - val_loss: 0.0042 - val_accuracy: 0.9991 - val_tp: 71.0000 - val_tn: 53281.0000 - val_fp: 16.0000 - val_fn: 34.0000 - val_precision: 0.8161 - val_recall: 0.6762 - val_auc: 0.9417\n",
            "Epoch 40/50\n",
            "161/161 [==============================] - 2s 11ms/step - loss: 0.0034 - accuracy: 0.9993 - tp: 171.0000 - tn: 159925.0000 - fp: 21.0000 - fn: 86.0000 - precision: 0.8906 - recall: 0.6654 - auc: 0.9344 - val_loss: 0.0042 - val_accuracy: 0.9991 - val_tp: 72.0000 - val_tn: 53281.0000 - val_fp: 16.0000 - val_fn: 33.0000 - val_precision: 0.8182 - val_recall: 0.6857 - val_auc: 0.9415\n",
            "Epoch 41/50\n",
            "161/161 [==============================] - 2s 11ms/step - loss: 0.0034 - accuracy: 0.9994 - tp: 174.0000 - tn: 159926.0000 - fp: 20.0000 - fn: 83.0000 - precision: 0.8969 - recall: 0.6770 - auc: 0.9364 - val_loss: 0.0042 - val_accuracy: 0.9991 - val_tp: 74.0000 - val_tn: 53281.0000 - val_fp: 16.0000 - val_fn: 31.0000 - val_precision: 0.8222 - val_recall: 0.7048 - val_auc: 0.9463\n",
            "Epoch 42/50\n",
            "161/161 [==============================] - 2s 11ms/step - loss: 0.0034 - accuracy: 0.9993 - tp: 173.0000 - tn: 159925.0000 - fp: 21.0000 - fn: 84.0000 - precision: 0.8918 - recall: 0.6732 - auc: 0.9344 - val_loss: 0.0042 - val_accuracy: 0.9991 - val_tp: 73.0000 - val_tn: 53281.0000 - val_fp: 16.0000 - val_fn: 32.0000 - val_precision: 0.8202 - val_recall: 0.6952 - val_auc: 0.9417\n",
            "Epoch 43/50\n",
            "161/161 [==============================] - 2s 10ms/step - loss: 0.0034 - accuracy: 0.9994 - tp: 176.0000 - tn: 159926.0000 - fp: 20.0000 - fn: 81.0000 - precision: 0.8980 - recall: 0.6848 - auc: 0.9346 - val_loss: 0.0041 - val_accuracy: 0.9991 - val_tp: 73.0000 - val_tn: 53281.0000 - val_fp: 16.0000 - val_fn: 32.0000 - val_precision: 0.8202 - val_recall: 0.6952 - val_auc: 0.9416\n",
            "Epoch 44/50\n",
            "161/161 [==============================] - 2s 10ms/step - loss: 0.0034 - accuracy: 0.9993 - tp: 171.0000 - tn: 159926.0000 - fp: 20.0000 - fn: 86.0000 - precision: 0.8953 - recall: 0.6654 - auc: 0.9363 - val_loss: 0.0041 - val_accuracy: 0.9991 - val_tp: 74.0000 - val_tn: 53281.0000 - val_fp: 16.0000 - val_fn: 31.0000 - val_precision: 0.8222 - val_recall: 0.7048 - val_auc: 0.9416\n",
            "Epoch 45/50\n",
            "161/161 [==============================] - 2s 11ms/step - loss: 0.0034 - accuracy: 0.9994 - tp: 177.0000 - tn: 159925.0000 - fp: 21.0000 - fn: 80.0000 - precision: 0.8939 - recall: 0.6887 - auc: 0.9364 - val_loss: 0.0041 - val_accuracy: 0.9991 - val_tp: 72.0000 - val_tn: 53281.0000 - val_fp: 16.0000 - val_fn: 33.0000 - val_precision: 0.8182 - val_recall: 0.6857 - val_auc: 0.9416\n",
            "Epoch 46/50\n",
            "161/161 [==============================] - 2s 10ms/step - loss: 0.0033 - accuracy: 0.9994 - tp: 175.0000 - tn: 159926.0000 - fp: 20.0000 - fn: 82.0000 - precision: 0.8974 - recall: 0.6809 - auc: 0.9345 - val_loss: 0.0041 - val_accuracy: 0.9991 - val_tp: 73.0000 - val_tn: 53281.0000 - val_fp: 16.0000 - val_fn: 32.0000 - val_precision: 0.8202 - val_recall: 0.6952 - val_auc: 0.9417\n",
            "Epoch 47/50\n",
            "161/161 [==============================] - 1s 9ms/step - loss: 0.0033 - accuracy: 0.9994 - tp: 176.0000 - tn: 159926.0000 - fp: 20.0000 - fn: 81.0000 - precision: 0.8980 - recall: 0.6848 - auc: 0.9365 - val_loss: 0.0041 - val_accuracy: 0.9991 - val_tp: 75.0000 - val_tn: 53281.0000 - val_fp: 16.0000 - val_fn: 30.0000 - val_precision: 0.8242 - val_recall: 0.7143 - val_auc: 0.9417\n",
            "Epoch 48/50\n",
            "161/161 [==============================] - 2s 9ms/step - loss: 0.0033 - accuracy: 0.9994 - tp: 175.0000 - tn: 159926.0000 - fp: 20.0000 - fn: 82.0000 - precision: 0.8974 - recall: 0.6809 - auc: 0.9384 - val_loss: 0.0041 - val_accuracy: 0.9992 - val_tp: 77.0000 - val_tn: 53281.0000 - val_fp: 16.0000 - val_fn: 28.0000 - val_precision: 0.8280 - val_recall: 0.7333 - val_auc: 0.9463\n",
            "Epoch 49/50\n",
            "161/161 [==============================] - 2s 9ms/step - loss: 0.0033 - accuracy: 0.9994 - tp: 174.0000 - tn: 159925.0000 - fp: 21.0000 - fn: 83.0000 - precision: 0.8923 - recall: 0.6770 - auc: 0.9422 - val_loss: 0.0041 - val_accuracy: 0.9992 - val_tp: 76.0000 - val_tn: 53281.0000 - val_fp: 16.0000 - val_fn: 29.0000 - val_precision: 0.8261 - val_recall: 0.7238 - val_auc: 0.9417\n",
            "Epoch 50/50\n",
            "161/161 [==============================] - 2s 9ms/step - loss: 0.0033 - accuracy: 0.9994 - tp: 176.0000 - tn: 159924.0000 - fp: 22.0000 - fn: 81.0000 - precision: 0.8889 - recall: 0.6848 - auc: 0.9364 - val_loss: 0.0041 - val_accuracy: 0.9991 - val_tp: 75.0000 - val_tn: 53281.0000 - val_fp: 16.0000 - val_fn: 30.0000 - val_precision: 0.8242 - val_recall: 0.7143 - val_auc: 0.9464\n"
          ],
          "name": "stdout"
        }
      ]
    },
    {
      "cell_type": "markdown",
      "metadata": {
        "id": "a08OVeO-thED"
      },
      "source": [
        "### Model Performance"
      ]
    },
    {
      "cell_type": "markdown",
      "metadata": {
        "id": "zfDWuoquthEE"
      },
      "source": [
        "#### Checking Training History"
      ]
    },
    {
      "cell_type": "code",
      "metadata": {
        "colab": {
          "base_uri": "https://localhost:8080/",
          "height": 312
        },
        "id": "PHS-6kb0thEE",
        "outputId": "6d96dbed-2a81-433d-88c1-de9eadda7dc0"
      },
      "source": [
        "# Plotting loss\n",
        "loss_df = pd.DataFrame(\n",
        "    {\n",
        "        \"Epoch\": range(1, epochs + 1),\n",
        "        \"Train\": training_history.history[\"loss\"],\n",
        "        \"Val\": training_history.history[\"val_loss\"],\n",
        "    }\n",
        ")\n",
        "loss_df.set_index(\"Epoch\", inplace=True)\n",
        "loss_df.plot(title=\"Loss\")"
      ],
      "execution_count": 13,
      "outputs": [
        {
          "output_type": "execute_result",
          "data": {
            "text/plain": [
              "<matplotlib.axes._subplots.AxesSubplot at 0x7f1f55f2e5d0>"
            ]
          },
          "metadata": {
            "tags": []
          },
          "execution_count": 13
        },
        {
          "output_type": "display_data",
          "data": {
            "image/png": "[encoded data removed]",
            "text/plain": [
              "<Figure size 432x288 with 1 Axes>"
            ]
          },
          "metadata": {
            "tags": [],
            "needs_background": "light"
          }
        }
      ]
    },
    {
      "cell_type": "code",
      "metadata": {
        "colab": {
          "base_uri": "https://localhost:8080/",
          "height": 312
        },
        "id": "kvyqevJhthEF",
        "outputId": "d30ab667-2425-4ca4-f232-38bbf23c7cd7"
      },
      "source": [
        "# Plotting accuracy\n",
        "accuracy_df = pd.DataFrame(\n",
        "    {\n",
        "        \"Epoch\": range(1, epochs + 1),\n",
        "        \"Train\": training_history.history[\"accuracy\"],\n",
        "        \"Val\": training_history.history[\"val_accuracy\"],\n",
        "    }\n",
        ")\n",
        "accuracy_df.set_index(\"Epoch\", inplace=True)\n",
        "accuracy_df.plot(title=\"Accuracy\")"
      ],
      "execution_count": 14,
      "outputs": [
        {
          "output_type": "execute_result",
          "data": {
            "text/plain": [
              "<matplotlib.axes._subplots.AxesSubplot at 0x7f1f55e58ad0>"
            ]
          },
          "metadata": {
            "tags": []
          },
          "execution_count": 14
        },
        {
          "output_type": "display_data",
          "data": {
            "image/png": "[encoded data removed]",
            "text/plain": [
              "<Figure size 432x288 with 1 Axes>"
            ]
          },
          "metadata": {
            "tags": [],
            "needs_background": "light"
          }
        }
      ]
    },
    {
      "cell_type": "code",
      "metadata": {
        "colab": {
          "base_uri": "https://localhost:8080/",
          "height": 312
        },
        "id": "G0UBbKmvthEF",
        "outputId": "cb0f04a7-91ee-4689-b778-d05d9ff106b5"
      },
      "source": [
        "# Plotting AUC\n",
        "auc_df = pd.DataFrame(\n",
        "    {\n",
        "        \"Epoch\": range(1, epochs + 1),\n",
        "        \"Train\": training_history.history[\"auc\"],\n",
        "        \"Val\": training_history.history[\"val_auc\"],\n",
        "    }\n",
        ")\n",
        "auc_df.set_index(\"Epoch\", inplace=True)\n",
        "auc_df.plot(title=\"AUC\")"
      ],
      "execution_count": 15,
      "outputs": [
        {
          "output_type": "execute_result",
          "data": {
            "text/plain": [
              "<matplotlib.axes._subplots.AxesSubplot at 0x7f1f5596edd0>"
            ]
          },
          "metadata": {
            "tags": []
          },
          "execution_count": 15
        },
        {
          "output_type": "display_data",
          "data": {
            "image/png": "[encoded data removed]",
            "text/plain": [
              "<Figure size 432x288 with 1 Axes>"
            ]
          },
          "metadata": {
            "tags": [],
            "needs_background": "light"
          }
        }
      ]
    },
    {
      "cell_type": "markdown",
      "metadata": {
        "id": "OoegcOEpthEG"
      },
      "source": [
        "#### Plotting the ROC Curve"
      ]
    },
    {
      "cell_type": "code",
      "metadata": {
        "id": "QlWsQyDxthEG"
      },
      "source": [
        "# Import the roc_curve and auc metrics from sklearn\n",
        "from sklearn.metrics import roc_curve, auc"
      ],
      "execution_count": 16,
      "outputs": []
    },
    {
      "cell_type": "code",
      "metadata": {
        "id": "nAczXbrNthEG"
      },
      "source": [
        "# Making predictions to feed the roc_curve module\n",
        "train_predictions = model.predict(X_train, batch_size=1000)\n",
        "test_predictions = model.predict(X_test, batch_size=1000)"
      ],
      "execution_count": 17,
      "outputs": []
    },
    {
      "cell_type": "code",
      "metadata": {
        "id": "u4tpP2kzthEH"
      },
      "source": [
        "# Calculate the ROC curve and AUC for the training set\n",
        "fpr_train, tpr_train, thresholds_train = roc_curve(y_train, train_predictions)\n",
        "auc_train = auc(fpr_train, tpr_train)\n",
        "auc_train = round(auc_train, 4)\n",
        "\n",
        "# Calculate the ROC curve and AUC for the testing set\n",
        "fpr_test, tpr_test, thresholds_test = roc_curve(y_test, test_predictions)\n",
        "auc_test = auc(fpr_test, tpr_test)\n",
        "auc_test = round(auc_test, 4)"
      ],
      "execution_count": 18,
      "outputs": []
    },
    {
      "cell_type": "code",
      "metadata": {
        "id": "7lwtL0NYthEH"
      },
      "source": [
        "# Create a DataFrame with the fpr and tpr results\n",
        "roc_df_train = pd.DataFrame({\"FPR Train\": fpr_train, \"TPR Train\": tpr_train,})\n",
        "\n",
        "roc_df_test = pd.DataFrame({\"FPR Test\": fpr_test, \"TPR Test\": tpr_test,})"
      ],
      "execution_count": 19,
      "outputs": []
    },
    {
      "cell_type": "code",
      "metadata": {
        "colab": {
          "base_uri": "https://localhost:8080/",
          "height": 590
        },
        "id": "VNFc9Dw-thEI",
        "outputId": "d87e5c2e-ad28-4b11-e44a-99f9ccaec187"
      },
      "source": [
        "# Plotting the ROC Curves\n",
        "roc_df_train.plot(\n",
        "    x=\"FPR Train\",\n",
        "    y=\"TPR Train\",\n",
        "    xlim=([-0.05, 1.05]),\n",
        "    title=f\"Train ROC Curve (AUC={auc_train})\",\n",
        ")\n",
        "\n",
        "roc_df_test.plot(\n",
        "    x=\"FPR Test\",\n",
        "    y=\"TPR Test\",\n",
        "    color=\"red\",\n",
        "    style=\"--\",\n",
        "    xlim=([-0.05, 1.05]),\n",
        "    title=f\"Test ROC Curve (AUC={auc_test})\",\n",
        ")"
      ],
      "execution_count": 20,
      "outputs": [
        {
          "output_type": "execute_result",
          "data": {
            "text/plain": [
              "<matplotlib.axes._subplots.AxesSubplot at 0x7f1f5582f5d0>"
            ]
          },
          "metadata": {
            "tags": []
          },
          "execution_count": 20
        },
        {
          "output_type": "display_data",
          "data": {
            "image/png": "[encoded data removed]",
            "text/plain": [
              "<Figure size 432x288 with 1 Axes>"
            ]
          },
          "metadata": {
            "tags": [],
            "needs_background": "light"
          }
        },
        {
          "output_type": "display_data",
          "data": {
            "image/png": "[encoded data removed]",
            "text/plain": [
              "<Figure size 432x288 with 1 Axes>"
            ]
          },
          "metadata": {
            "tags": [],
            "needs_background": "light"
          }
        }
      ]
    },
    {
      "cell_type": "markdown",
      "metadata": {
        "id": "YMD_8OJ7thEI"
      },
      "source": [
        "#### Evaluate the Model"
      ]
    },
    {
      "cell_type": "code",
      "metadata": {
        "colab": {
          "base_uri": "https://localhost:8080/",
          "height": 167
        },
        "id": "AjFcLdE9thEI",
        "outputId": "ddf80982-4678-4e1f-c764-7c9987beadd0"
      },
      "source": [
        "# Evaluate the model\n",
        "scores = model.evaluate(X_test, y_test, verbose=0)\n",
        "\n",
        "# Define metrics dictionary\n",
        "metrics = {k: v for k, v in zip(model.metrics_names, scores)}\n",
        "\n",
        "# Display evaluation metrics results\n",
        "display(metrics)"
      ],
      "execution_count": 21,
      "outputs": [
        {
          "output_type": "display_data",
          "data": {
            "text/plain": [
              "{'accuracy': 0.9992415904998779,\n",
              " 'auc': 0.9565338492393494,\n",
              " 'fn': 40.0,\n",
              " 'fp': 14.0,\n",
              " 'loss': 0.0034515950828790665,\n",
              " 'precision': 0.8653846383094788,\n",
              " 'recall': 0.692307710647583,\n",
              " 'tn': 71058.0,\n",
              " 'tp': 90.0}"
            ]
          },
          "metadata": {
            "tags": []
          }
        }
      ]
    },
    {
      "cell_type": "markdown",
      "metadata": {
        "id": "Qv9Kbqm4thEJ"
      },
      "source": [
        "#### Confusion Matrix"
      ]
    },
    {
      "cell_type": "code",
      "metadata": {
        "colab": {
          "base_uri": "https://localhost:8080/",
          "height": 141
        },
        "id": "A36ZY9hbthEJ",
        "outputId": "63f00a4b-72df-4fa1-8b68-0e70402e4494"
      },
      "source": [
        "# Define the confusion matrix data\n",
        "cm_df = pd.DataFrame(\n",
        "    {\n",
        "        \"Positive (1)\": [f\"TP={metrics['tp']}\", f\"FP={metrics['fn']}\"],\n",
        "        \"Negative (0)\": [f\"FN={metrics['fp']}\", f\"TN={metrics['tn']}\"],\n",
        "    },\n",
        "    index=[\"Positive(1)\", \"Negative(0)\"],\n",
        ")\n",
        "cm_df.index.name = \"Actual\"\n",
        "cm_df.columns.name = \"Predicted\"\n",
        "\n",
        "# Show the confusion matrix\n",
        "cm_df"
      ],
      "execution_count": 22,
      "outputs": [
        {
          "output_type": "execute_result",
          "data": {
            "text/html": [
              "<div>\n",
              "<style scoped>\n",
              "    .dataframe tbody tr th:only-of-type {\n",
              "        vertical-align: middle;\n",
              "    }\n",
              "\n",
              "    .dataframe tbody tr th {\n",
              "        vertical-align: top;\n",
              "    }\n",
              "\n",
              "    .dataframe thead th {\n",
              "        text-align: right;\n",
              "    }\n",
              "</style>\n",
              "<table border=\"1\" class=\"dataframe\">\n",
              "  <thead>\n",
              "    <tr style=\"text-align: right;\">\n",
              "      <th>Predicted</th>\n",
              "      <th>Positive (1)</th>\n",
              "      <th>Negative (0)</th>\n",
              "    </tr>\n",
              "    <tr>\n",
              "      <th>Actual</th>\n",
              "      <th></th>\n",
              "      <th></th>\n",
              "    </tr>\n",
              "  </thead>\n",
              "  <tbody>\n",
              "    <tr>\n",
              "      <th>Positive(1)</th>\n",
              "      <td>TP=90.0</td>\n",
              "      <td>FN=14.0</td>\n",
              "    </tr>\n",
              "    <tr>\n",
              "      <th>Negative(0)</th>\n",
              "      <td>FP=40.0</td>\n",
              "      <td>TN=71058.0</td>\n",
              "    </tr>\n",
              "  </tbody>\n",
              "</table>\n",
              "</div>"
            ],
            "text/plain": [
              "Predicted   Positive (1) Negative (0)\n",
              "Actual                               \n",
              "Positive(1)      TP=90.0      FN=14.0\n",
              "Negative(0)      FP=40.0   TN=71058.0"
            ]
          },
          "metadata": {
            "tags": []
          },
          "execution_count": 22
        }
      ]
    },
    {
      "cell_type": "markdown",
      "metadata": {
        "id": "guVjFvXhthEK"
      },
      "source": [
        "#### Classification Report"
      ]
    },
    {
      "cell_type": "code",
      "metadata": {
        "colab": {
          "base_uri": "https://localhost:8080/"
        },
        "id": "A71LENrxthEK",
        "outputId": "763c0cc6-4c85-4023-c703-38979cbeb6a3"
      },
      "source": [
        "# Import the classification_report method from sklearn\n",
        "from sklearn.metrics import classification_report\n",
        "\n",
        "# Predict classes using testing data\n",
        "y_predict_classes = model.predict_classes(X_test, batch_size=1000)\n",
        "\n",
        "# Display classification report\n",
        "print(classification_report(y_predict_classes, y_test))"
      ],
      "execution_count": 23,
      "outputs": [
        {
          "output_type": "stream",
          "text": [
            "              precision    recall  f1-score   support\n",
            "\n",
            "           0       1.00      1.00      1.00     71098\n",
            "           1       0.69      0.87      0.77       104\n",
            "\n",
            "    accuracy                           1.00     71202\n",
            "   macro avg       0.85      0.93      0.88     71202\n",
            "weighted avg       1.00      1.00      1.00     71202\n",
            "\n"
          ],
          "name": "stdout"
        },
        {
          "output_type": "stream",
          "text": [
            "/usr/local/lib/python3.7/dist-packages/tensorflow/python/keras/engine/sequential.py:455: UserWarning: `model.predict_classes()` is deprecated and will be removed after 2021-01-01. Please use instead:* `np.argmax(model.predict(x), axis=-1)`,   if your model does multi-class classification   (e.g. if it uses a `softmax` last-layer activation).* `(model.predict(x) > 0.5).astype(\"int32\")`,   if your model does binary classification   (e.g. if it uses a `sigmoid` last-layer activation).\n",
            "  warnings.warn('`model.predict_classes()` is deprecated and '\n"
          ],
          "name": "stderr"
        }
      ]
    }
  ]
}