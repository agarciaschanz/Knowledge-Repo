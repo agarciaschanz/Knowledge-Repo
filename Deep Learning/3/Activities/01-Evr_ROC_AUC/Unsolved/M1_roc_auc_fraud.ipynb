{
  "nbformat": 4,
  "nbformat_minor": 0,
  "metadata": {
    "file_extension": ".py",
    "kernelspec": {
      "display_name": "Python 3",
      "language": "python",
      "name": "python3"
    },
    "language_info": {
      "codemirror_mode": {
        "name": "ipython",
        "version": 3
      },
      "file_extension": ".py",
      "mimetype": "text/x-python",
      "name": "python",
      "nbconvert_exporter": "python",
      "pygments_lexer": "ipython3",
      "version": "3.7.3"
    },
    "mimetype": "text/x-python",
    "name": "python",
    "npconvert_exporter": "python",
    "pygments_lexer": "ipython3",
    "version": 3,
    "colab": {
      "name": "roc_auc_fraud.ipynb",
      "provenance": []
    }
  },
  "cells": [
    {
      "cell_type": "markdown",
      "metadata": {
        "id": "naPE56ALtkAm"
      },
      "source": [
        "# Instructor Do: Intro to the ROC Curve and AUC\n",
        "\n",
        "In this activity, students will learn how to measure the performance of a binary classification model by fetching metrics from Keras, as well as plotting and interpreting the ROC curve and AUC."
      ]
    },
    {
      "cell_type": "code",
      "metadata": {
        "id": "dsZD0K3CtkAn"
      },
      "source": [
        "# Initial imports\n",
        "import pandas as pd\n",
        "import numpy as np\n",
        "import matplotlib.pyplot as plt\n",
        "import tensorflow as tf\n",
        "\n",
        "%matplotlib inline"
      ],
      "execution_count": null,
      "outputs": []
    },
    {
      "cell_type": "markdown",
      "metadata": {
        "id": "_rfbDfvLtkAo"
      },
      "source": [
        "## The Dataset\n",
        "\n",
        "The data provided for this demo contains anonymous information about `284807` credit card transactions made by European credit cardholders in September 2013.\n",
        "\n",
        "The dataset is going to be used to create a binary classification model using a deep neural network to detect fraudulent transactions. It contains nine numerical variables, which are the result of PCA transformation to protect the confidentiality of credit cardholders. Only the transaction amount can be seen as is.\n",
        "\n",
        "This dataset is an abstract of the file shared by the [Machine Learning Group](http://mlg.ulb.ac.be) of the Université Libre de Bruxelles (ULB)."
      ]
    },
    {
      "cell_type": "code",
      "metadata": {
        "id": "yydZ-cZGuC8W"
      },
      "source": [
        "# Upload data to Colab\n",
        "from google.colab import files\n",
        "\n",
        "# Upload transactions.csv\n",
        "csv_file = files.upload()"
      ],
      "execution_count": null,
      "outputs": []
    },
    {
      "cell_type": "code",
      "metadata": {
        "id": "38uabVHStkAo"
      },
      "source": [
        "# Read csv into DataFrame\n",
        "transactions_df = pd.read_csv(\"transactions.csv\")\n",
        "transactions_df.head()"
      ],
      "execution_count": null,
      "outputs": []
    },
    {
      "cell_type": "markdown",
      "metadata": {
        "id": "Z--DcL5otkAp"
      },
      "source": [
        "## Data Preprocessing"
      ]
    },
    {
      "cell_type": "code",
      "metadata": {
        "id": "x6AMJ80mtkAp"
      },
      "source": [
        "# Creating the X and y sets\n"
      ],
      "execution_count": null,
      "outputs": []
    },
    {
      "cell_type": "code",
      "metadata": {
        "id": "mhRSCjYrtkAq"
      },
      "source": [
        "# Import the StandardScaler from sklearn\n",
        "from sklearn.preprocessing import StandardScaler\n",
        "\n",
        "# Scale the data\n"
      ],
      "execution_count": null,
      "outputs": []
    },
    {
      "cell_type": "markdown",
      "metadata": {
        "id": "KkAH3ruytkAq"
      },
      "source": [
        "Now that the data is scaled, the training, validation, and testing sets will be created."
      ]
    },
    {
      "cell_type": "code",
      "metadata": {
        "id": "zyyf7CbKtkAr"
      },
      "source": [
        "# Creating training, validation, and testing sets\n",
        "from sklearn.model_selection import train_test_split"
      ],
      "execution_count": null,
      "outputs": []
    },
    {
      "cell_type": "markdown",
      "metadata": {
        "id": "tObvwlBotkAr"
      },
      "source": [
        "## Build and Train the Deep Learning Model"
      ]
    },
    {
      "cell_type": "markdown",
      "metadata": {
        "id": "38MApctotkAs"
      },
      "source": [
        " ### Importing the Keras Modules"
      ]
    },
    {
      "cell_type": "code",
      "metadata": {
        "id": "7x01IHT2tkAs"
      },
      "source": [
        "# Import Keras modules for model creation\n",
        "from tensorflow.keras.models import Sequential\n",
        "from tensorflow.keras.layers import Dense"
      ],
      "execution_count": null,
      "outputs": []
    },
    {
      "cell_type": "markdown",
      "metadata": {
        "id": "6oBuXXOotkAs"
      },
      "source": [
        " ### Setting Up the Model"
      ]
    },
    {
      "cell_type": "code",
      "metadata": {
        "id": "6aJgQZU-tkAt"
      },
      "source": [
        "# Model set-up\n",
        "number_input_features = 10\n",
        "hidden_nodes_layer1 = 15\n",
        "hidden_nodes_layer2 = 5"
      ],
      "execution_count": null,
      "outputs": []
    },
    {
      "cell_type": "markdown",
      "metadata": {
        "id": "upy-pwcBtkAt"
      },
      "source": [
        " ### Defining the Model's Structure"
      ]
    },
    {
      "cell_type": "code",
      "metadata": {
        "id": "LMDG2cmotkAt"
      },
      "source": [
        "# Define the LSTM RNN model\n",
        "\n",
        "# Layer 1\n",
        "\n",
        "\n",
        "# Layer 2\n",
        "\n",
        "# Output layer\n"
      ],
      "execution_count": null,
      "outputs": []
    },
    {
      "cell_type": "markdown",
      "metadata": {
        "id": "RWmU4_DatkAt"
      },
      "source": [
        " ### Compiling the Model"
      ]
    },
    {
      "cell_type": "code",
      "metadata": {
        "id": "8xDK_ByitkAu"
      },
      "source": [
        "# Compile the model\n"
      ],
      "execution_count": null,
      "outputs": []
    },
    {
      "cell_type": "code",
      "metadata": {
        "id": "6CRgLLYItkAu"
      },
      "source": [
        "# Summarize the model\n",
        "model.summary()"
      ],
      "execution_count": null,
      "outputs": []
    },
    {
      "cell_type": "markdown",
      "metadata": {
        "id": "M2i2qIhUtkAu"
      },
      "source": [
        " ### Training the Model"
      ]
    },
    {
      "cell_type": "code",
      "metadata": {
        "id": "9bJ6p_EVtkAu"
      },
      "source": [
        "# Training the model\n",
        "batch_size = 1000\n",
        "epochs = 50\n"
      ],
      "execution_count": null,
      "outputs": []
    },
    {
      "cell_type": "markdown",
      "metadata": {
        "id": "XxJ8Qt1FtkAu"
      },
      "source": [
        "### Model Performance"
      ]
    },
    {
      "cell_type": "markdown",
      "metadata": {
        "id": "xBG2gX7ttkAv"
      },
      "source": [
        "#### Checking Training History"
      ]
    },
    {
      "cell_type": "code",
      "metadata": {
        "id": "JEx2lrrWtkAv"
      },
      "source": [
        "# Plotting loss\n",
        "loss_df = pd.DataFrame(\n",
        "    {\n",
        "        \"Epoch\": range(1, epochs + 1),\n",
        "        \"Train\": training_history.history[\"loss\"],\n",
        "        \"Val\": training_history.history[\"val_loss\"],\n",
        "    }\n",
        ")\n",
        "loss_df.set_index(\"Epoch\", inplace=True)\n",
        "loss_df.plot(title=\"Loss\")"
      ],
      "execution_count": null,
      "outputs": []
    },
    {
      "cell_type": "code",
      "metadata": {
        "id": "Lp3CmypgtkAv"
      },
      "source": [
        "# Plotting accuracy\n",
        "accuracy_df = pd.DataFrame(\n",
        "    {\n",
        "        \"Epoch\": range(1, epochs + 1),\n",
        "        \"Train\": training_history.history[\"accuracy\"],\n",
        "        \"Val\": training_history.history[\"val_accuracy\"],\n",
        "    }\n",
        ")\n",
        "accuracy_df.set_index(\"Epoch\", inplace=True)\n",
        "accuracy_df.plot(title=\"Accuracy\")"
      ],
      "execution_count": null,
      "outputs": []
    },
    {
      "cell_type": "code",
      "metadata": {
        "id": "1AVtU22KtkAv"
      },
      "source": [
        "# Plotting AUC\n",
        "auc_df = pd.DataFrame(\n",
        "    {\n",
        "        \"Epoch\": range(1, epochs + 1),\n",
        "        \"Train\": training_history.history[\"auc\"],\n",
        "        \"Val\": training_history.history[\"val_auc\"],\n",
        "    }\n",
        ")\n",
        "auc_df.set_index(\"Epoch\", inplace=True)\n",
        "auc_df.plot(title=\"AUC\")"
      ],
      "execution_count": null,
      "outputs": []
    },
    {
      "cell_type": "markdown",
      "metadata": {
        "id": "6-hcZYBJtkAw"
      },
      "source": [
        "#### Plotting the ROC Curve"
      ]
    },
    {
      "cell_type": "code",
      "metadata": {
        "id": "zpUdfDiRtkAw"
      },
      "source": [
        "# Import the roc_curve and auc metrics from sklearn\n",
        "from sklearn.metrics import roc_curve, auc"
      ],
      "execution_count": null,
      "outputs": []
    },
    {
      "cell_type": "code",
      "metadata": {
        "id": "NP6dHmdAtkAw"
      },
      "source": [
        "# Making predictions to feed the roc_curve module\n"
      ],
      "execution_count": null,
      "outputs": []
    },
    {
      "cell_type": "code",
      "metadata": {
        "id": "oHqxW_jptkAw"
      },
      "source": [
        "# Calculate the ROC curve and AUC for the training set\n",
        "\n",
        "# Calculate the ROC curve and AUC for the testing set\n"
      ],
      "execution_count": null,
      "outputs": []
    },
    {
      "cell_type": "code",
      "metadata": {
        "id": "lp4O-T8WtkAx"
      },
      "source": [
        "# Create a DataFrame with the fpr and tpr results\n"
      ],
      "execution_count": null,
      "outputs": []
    },
    {
      "cell_type": "code",
      "metadata": {
        "id": "_AHw4hH9tkAx"
      },
      "source": [
        "# Plotting the ROC Curves\n"
      ],
      "execution_count": null,
      "outputs": []
    },
    {
      "cell_type": "markdown",
      "metadata": {
        "id": "XdYyv2nZtkAx"
      },
      "source": [
        "#### Evaluate the Model"
      ]
    },
    {
      "cell_type": "code",
      "metadata": {
        "id": "MFzFMUZqtkAx"
      },
      "source": [
        "# Evaluate the model\n",
        "\n",
        "# Define metrics dictionary\n",
        "\n",
        "# Display evaluation metrics results\n"
      ],
      "execution_count": null,
      "outputs": []
    },
    {
      "cell_type": "markdown",
      "metadata": {
        "id": "_JmkxYcjtkAx"
      },
      "source": [
        "#### Confusion Matrix"
      ]
    },
    {
      "cell_type": "code",
      "metadata": {
        "id": "KUbpmBCmtkAy"
      },
      "source": [
        "# Define the confusion matrix data\n",
        "\n",
        "# Show the confusion matrix\n"
      ],
      "execution_count": null,
      "outputs": []
    },
    {
      "cell_type": "markdown",
      "metadata": {
        "id": "Dc5Y6WOztkAy"
      },
      "source": [
        "#### Classification Report"
      ]
    },
    {
      "cell_type": "code",
      "metadata": {
        "id": "BC-QwpgptkAy"
      },
      "source": [
        "# Import the classification_report method from sklearn\n",
        "from sklearn.metrics import classification_report\n",
        "\n",
        "# Predict classes using testing data\n",
        "\n",
        "# Display classification report\n"
      ],
      "execution_count": null,
      "outputs": []
    }
  ]
}