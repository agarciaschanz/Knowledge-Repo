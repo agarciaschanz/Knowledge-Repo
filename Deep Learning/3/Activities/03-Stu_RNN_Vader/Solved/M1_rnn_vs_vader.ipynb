{
  "nbformat": 4,
  "nbformat_minor": 0,
  "metadata": {
    "kernelspec": {
      "display_name": "Python 3",
      "language": "python",
      "name": "python3"
    },
    "language_info": {
      "codemirror_mode": {
        "name": "ipython",
        "version": 3
      },
      "file_extension": ".py",
      "mimetype": "text/x-python",
      "name": "python",
      "nbconvert_exporter": "python",
      "pygments_lexer": "ipython3",
      "version": "3.7.3"
    },
    "colab": {
      "name": "rnn_vs_vader.ipynb",
      "provenance": []
    }
  },
  "cells": [
    {
      "cell_type": "markdown",
      "metadata": {
        "id": "ZNcaX_hQy7Qv"
      },
      "source": [
        "# Students Do: Sentiment Analysis - RNNs Vs. Vader\n",
        "\n",
        "In this activity, students will use two different models to score sentiment. The goal is to put the performance metrics and techniques students have learned into action to decide which model performs better between VADER and RNN LSTM."
      ]
    },
    {
      "cell_type": "code",
      "metadata": {
        "id": "8lg1FpGly7Qy"
      },
      "source": [
        "# Initial imports\n",
        "import pandas as pd\n",
        "import numpy as np\n",
        "from pathlib import Path\n",
        "import tensorflow as tf\n",
        "\n",
        "%matplotlib inline"
      ],
      "execution_count": 1,
      "outputs": []
    },
    {
      "cell_type": "code",
      "metadata": {
        "id": "e19ywA_my7Qz"
      },
      "source": [
        "# Set the random seed for reproducibility\n",
        "from numpy.random import seed\n",
        "seed(1)\n",
        "\n",
        "from tensorflow import random\n",
        "random.set_seed(2)"
      ],
      "execution_count": 2,
      "outputs": []
    },
    {
      "cell_type": "markdown",
      "metadata": {
        "id": "j3dz3p8ny7Q0"
      },
      "source": [
        "## The DataSet: IMBD Movie Reviews\n",
        "\n",
        "The dataset provided contains `25000` movie reviews based on [the data shared by Andrew Mass from Stanford University](http://ai.stanford.edu/~amaas/data/sentiment/). This dataset is intended to serve as a benchmark for sentiment classification, that's why it's suitable for this activity.\n",
        "\n",
        "The movie reviews are split evenly into `12500` positive reviews and `12500` negative reviews. The reviews are not attached to a particular movie, and this is not crucial for our models' comparison since we would like to benchmark which model performs better to score sentiment.\n",
        "\n",
        "You can learn more about this dataset in the following research paper: [Andrew L. Maas, Raymond E. Daly, Peter T. Pham, Dan Huang, Andrew Y. Ng and Christopher Potts. (2011). **Learning Word Vectors for Sentiment Analysis**. The 49th Annual Meeting of the Association for Computational Linguistics (ACL 2011)](http://ai.stanford.edu/~amaas/papers/wvSent_acl2011.pdf)."
      ]
    },
    {
      "cell_type": "markdown",
      "metadata": {
        "id": "GdKyQ7Xiy7Q0"
      },
      "source": [
        "## Instructions"
      ]
    },
    {
      "cell_type": "markdown",
      "metadata": {
        "id": "ezuOVxzly7Q1"
      },
      "source": [
        "### Data Preprocessing\n",
        "\n",
        "Load the provided dataset in a Pandas DataFrame entitled `df_reviews` and show the first `10` records."
      ]
    },
    {
      "cell_type": "code",
      "metadata": {
        "colab": {
          "resources": {
            "http://localhost:8080/nbextensions/google.colab/files.js": {
              "data": "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",
              "ok": true,
              "headers": [
                [
                  "content-type",
                  "application/javascript"
                ]
              ],
              "status": 200,
              "status_text": ""
            }
          },
          "base_uri": "https://localhost:8080/",
          "height": 89
        },
        "id": "O18J7xn4zVN9",
        "outputId": "3e6f5973-c030-4ae4-bb5e-078918bf380a"
      },
      "source": [
        "# Upload data to Colab\n",
        "from google.colab import files\n",
        "\n",
        "# Upload movie_comments.csv\n",
        "csv_file = files.upload()"
      ],
      "execution_count": 3,
      "outputs": [
        {
          "output_type": "display_data",
          "data": {
            "text/html": [
              "\n",
              "     <input type=\"file\" id=\"files-dc7aa8cb-3a78-4c3d-bd7e-ecb3e650d444\" name=\"files[]\" multiple disabled\n",
              "        style=\"border:none\" />\n",
              "     <output id=\"result-dc7aa8cb-3a78-4c3d-bd7e-ecb3e650d444\">\n",
              "      Upload widget is only available when the cell has been executed in the\n",
              "      current browser session. Please rerun this cell to enable.\n",
              "      </output>\n",
              "      <script src=\"/nbextensions/google.colab/files.js\"></script> "
            ],
            "text/plain": [
              "<IPython.core.display.HTML object>"
            ]
          },
          "metadata": {
            "tags": []
          }
        },
        {
          "output_type": "stream",
          "text": [
            "Saving movie_comments.csv to movie_comments.csv\n"
          ],
          "name": "stdout"
        }
      ]
    },
    {
      "cell_type": "code",
      "metadata": {
        "colab": {
          "base_uri": "https://localhost:8080/",
          "height": 356
        },
        "id": "GJUHRVGWy7Q1",
        "outputId": "408c17f4-eddd-4015-f6ae-652d16d8ea8a"
      },
      "source": [
        "# Load csv into DataFrame\n",
        "df_reviews = pd.read_csv(\"movie_comments.csv\")\n",
        "df_reviews.head(10)"
      ],
      "execution_count": 4,
      "outputs": [
        {
          "output_type": "execute_result",
          "data": {
            "text/html": [
              "<div>\n",
              "<style scoped>\n",
              "    .dataframe tbody tr th:only-of-type {\n",
              "        vertical-align: middle;\n",
              "    }\n",
              "\n",
              "    .dataframe tbody tr th {\n",
              "        vertical-align: top;\n",
              "    }\n",
              "\n",
              "    .dataframe thead th {\n",
              "        text-align: right;\n",
              "    }\n",
              "</style>\n",
              "<table border=\"1\" class=\"dataframe\">\n",
              "  <thead>\n",
              "    <tr style=\"text-align: right;\">\n",
              "      <th></th>\n",
              "      <th>comment</th>\n",
              "      <th>sentiment</th>\n",
              "    </tr>\n",
              "  </thead>\n",
              "  <tbody>\n",
              "    <tr>\n",
              "      <th>0</th>\n",
              "      <td>A question for all you girls out there : If a ...</td>\n",
              "      <td>0</td>\n",
              "    </tr>\n",
              "    <tr>\n",
              "      <th>1</th>\n",
              "      <td>It was almost worth sitting through this entir...</td>\n",
              "      <td>0</td>\n",
              "    </tr>\n",
              "    <tr>\n",
              "      <th>2</th>\n",
              "      <td>One of the weaker Carry On adventures sees Sid...</td>\n",
              "      <td>0</td>\n",
              "    </tr>\n",
              "    <tr>\n",
              "      <th>3</th>\n",
              "      <td>First of all, I think the below comment is unw...</td>\n",
              "      <td>1</td>\n",
              "    </tr>\n",
              "    <tr>\n",
              "      <th>4</th>\n",
              "      <td>This is by far the worst film I have seen in m...</td>\n",
              "      <td>0</td>\n",
              "    </tr>\n",
              "    <tr>\n",
              "      <th>5</th>\n",
              "      <td>Well I don't know where to begin. Obviously th...</td>\n",
              "      <td>0</td>\n",
              "    </tr>\n",
              "    <tr>\n",
              "      <th>6</th>\n",
              "      <td>When George C. Scott played the title role in ...</td>\n",
              "      <td>0</td>\n",
              "    </tr>\n",
              "    <tr>\n",
              "      <th>7</th>\n",
              "      <td>Brilliant! My wife and I joined the sprawling ...</td>\n",
              "      <td>1</td>\n",
              "    </tr>\n",
              "    <tr>\n",
              "      <th>8</th>\n",
              "      <td>Kathryn Bigelow and Mark Boal are already prep...</td>\n",
              "      <td>0</td>\n",
              "    </tr>\n",
              "    <tr>\n",
              "      <th>9</th>\n",
              "      <td>I'm not sure how I missed this one when it fir...</td>\n",
              "      <td>1</td>\n",
              "    </tr>\n",
              "  </tbody>\n",
              "</table>\n",
              "</div>"
            ],
            "text/plain": [
              "                                             comment  sentiment\n",
              "0  A question for all you girls out there : If a ...          0\n",
              "1  It was almost worth sitting through this entir...          0\n",
              "2  One of the weaker Carry On adventures sees Sid...          0\n",
              "3  First of all, I think the below comment is unw...          1\n",
              "4  This is by far the worst film I have seen in m...          0\n",
              "5  Well I don't know where to begin. Obviously th...          0\n",
              "6  When George C. Scott played the title role in ...          0\n",
              "7  Brilliant! My wife and I joined the sprawling ...          1\n",
              "8  Kathryn Bigelow and Mark Boal are already prep...          0\n",
              "9  I'm not sure how I missed this one when it fir...          1"
            ]
          },
          "metadata": {
            "tags": []
          },
          "execution_count": 4
        }
      ]
    },
    {
      "cell_type": "markdown",
      "metadata": {
        "id": "Jk9RRhe7y7Q2"
      },
      "source": [
        "Create the features set `X` and the target vector `y` by assigning the `comment` column to `X` and the `sentiment` column to `y`."
      ]
    },
    {
      "cell_type": "code",
      "metadata": {
        "id": "CGq9i-BMy7Q2"
      },
      "source": [
        "# Create the features set (X) and the target vector (y)\n",
        "X = df_reviews[\"comment\"].values\n",
        "y = df_reviews[\"sentiment\"].values"
      ],
      "execution_count": 5,
      "outputs": []
    },
    {
      "cell_type": "markdown",
      "metadata": {
        "id": "cTCdKN_Uy7Q3"
      },
      "source": [
        "Use the `train_test_split` method from `sklearn` to create the training, testing, and validation sets."
      ]
    },
    {
      "cell_type": "code",
      "metadata": {
        "id": "0j7zmBJAy7Q3"
      },
      "source": [
        "# Create the train, test, and validation sets\n",
        "from sklearn.model_selection import train_test_split\n",
        "\n",
        "X_train, X_test, y_train, y_test = train_test_split(X, y)\n",
        "\n",
        "X_train, X_val, y_train, y_val = train_test_split(X_train, y_train)"
      ],
      "execution_count": 6,
      "outputs": []
    },
    {
      "cell_type": "markdown",
      "metadata": {
        "id": "xCXb8BVUy7Q3"
      },
      "source": [
        "## Scoring Sentiment Using VADER\n",
        "\n",
        "In this section, you will use VADER sentiment from the `nltk` library to score the sentiment of the testing set. Later, you will assess model performance using metrics such as accuracy, precision, recall, among others."
      ]
    },
    {
      "cell_type": "code",
      "metadata": {
        "colab": {
          "base_uri": "https://localhost:8080/"
        },
        "id": "WnN16S8py7Q4",
        "outputId": "c97b60a5-bd45-4928-be08-ba0eb85f37d0"
      },
      "source": [
        "# Import the libraries for sentiment scoring using Vader\n",
        "import nltk\n",
        "from nltk.sentiment.vader import SentimentIntensityAnalyzer"
      ],
      "execution_count": 7,
      "outputs": [
        {
          "output_type": "stream",
          "text": [
            "/usr/local/lib/python3.7/dist-packages/nltk/twitter/__init__.py:20: UserWarning: The twython library has not been installed. Some functionality from the twitter package will not be available.\n",
            "  warnings.warn(\"The twython library has not been installed. \"\n"
          ],
          "name": "stderr"
        }
      ]
    },
    {
      "cell_type": "markdown",
      "metadata": {
        "id": "xM5lMPkLy7Q4"
      },
      "source": [
        "Start by downloading or updating the VADER lexicon."
      ]
    },
    {
      "cell_type": "code",
      "metadata": {
        "colab": {
          "base_uri": "https://localhost:8080/"
        },
        "id": "udFfoDVBy7Q4",
        "outputId": "30a11cab-85c3-460e-e01c-e6d4ad2e1189"
      },
      "source": [
        "# Download/Update the VADER Lexicon\n",
        "nltk.download('vader_lexicon')"
      ],
      "execution_count": 8,
      "outputs": [
        {
          "output_type": "stream",
          "text": [
            "[nltk_data] Downloading package vader_lexicon to /root/nltk_data...\n"
          ],
          "name": "stdout"
        },
        {
          "output_type": "execute_result",
          "data": {
            "text/plain": [
              "True"
            ]
          },
          "metadata": {
            "tags": []
          },
          "execution_count": 8
        }
      ]
    },
    {
      "cell_type": "markdown",
      "metadata": {
        "id": "ckvVPjhvy7Q5"
      },
      "source": [
        "Create an instance of the `SentimentIntensityAnalyzer` and name it `analyzer`."
      ]
    },
    {
      "cell_type": "code",
      "metadata": {
        "id": "RsgPFhvgy7Q5"
      },
      "source": [
        "# Initialize the VADER sentiment analyzer\n",
        "analyzer = SentimentIntensityAnalyzer()"
      ],
      "execution_count": 9,
      "outputs": []
    },
    {
      "cell_type": "markdown",
      "metadata": {
        "id": "6XXUGcIfy7Q5"
      },
      "source": [
        "Define two lists to store the sentiment scoring results as follows:\n",
        "\n",
        "* `y_vader_pred` will save the scored sentiment, `1` for positive or `0` for negative.\n",
        "\n",
        "* `y_vader_prob` will store the normalized value of the `pos` polarity score."
      ]
    },
    {
      "cell_type": "code",
      "metadata": {
        "id": "c70jX10_y7Q5"
      },
      "source": [
        "# Define two lists to store vader sentiment scoring\n",
        "y_vader_pred = []\n",
        "y_vader_prob = []"
      ],
      "execution_count": 10,
      "outputs": []
    },
    {
      "cell_type": "markdown",
      "metadata": {
        "id": "9CEF1Xbry7Q6"
      },
      "source": [
        "Create a `for` loop to iterate across all the comments in the `X` set and score the sentiment of each review comment. Update the two lists for sentiment scores as follows:\n",
        "\n",
        "* Append the `pos` score to the `y_vader_prob`, you will normalize this list's values later.\n",
        "\n",
        "* To score a review comment as positive or negative, we will use the `compound` polarity score; as you may remember from the NLP unit, the `compound` score ranges between `-1` (most extreme negative) and `+1` (most extreme positive). Following the recommendations from [this research paper](https://scholar.smu.edu/cgi/viewcontent.cgi?article=1051&context=datasciencereview), we will define a threshold of `0.1` to label a review as positive, if the `compound` score is greater than or equal to `0.1`, the review comment will be positive (append `1` to `y_vader_pred`); if the `compound` score is below `0.1`, the review comment will be negative (append `0` to `y_vader_pred`)."
      ]
    },
    {
      "cell_type": "code",
      "metadata": {
        "id": "kcnNOld1y7Q6"
      },
      "source": [
        "# Score sentiment of test set using Vader\n",
        "for comment in X_test:\n",
        "    y_vader_prob.append(analyzer.polarity_scores(comment)[\"pos\"])\n",
        "    sentiment_score = analyzer.polarity_scores(comment)[\"compound\"]\n",
        "    if sentiment_score >= 0.1:\n",
        "        y_vader_pred.append(1)\n",
        "    else:\n",
        "        y_vader_pred.append(0)"
      ],
      "execution_count": 11,
      "outputs": []
    },
    {
      "cell_type": "markdown",
      "metadata": {
        "id": "M6Wg1ObNy7Q7"
      },
      "source": [
        "You will use the values from the `pos` polarity score to plot the ROC curve; we will consider the `pos` score as the probability of a review comment to be positive. To plot the ROC curve, these probabilities should range from `0` to `1`, so the values of the `y_vader_prob` list will be normalized using [min-max normalization](https://en.wikipedia.org/wiki/Feature_scaling#Rescaling_(min-max_normalization)).\n",
        "\n",
        "* Normalize the data stored in the `y_vader_prob` list and save the resulting normalized values in a variable called `y_vader_prob_norm`.\n",
        "\n",
        "_Hint:_ To normalize the data, you can use the `MinMaxScaler` method from `sklearn`, or you can code the min-max normalization formula using a comprehension list."
      ]
    },
    {
      "cell_type": "code",
      "metadata": {
        "colab": {
          "base_uri": "https://localhost:8080/"
        },
        "id": "AXR7mpM-y7Q7",
        "outputId": "6b5ba914-489c-45c4-ee37-f594d0d656be"
      },
      "source": [
        "# Option 1: Normalizing data using MinMaxScaler from sklearn\n",
        "from sklearn.preprocessing import MinMaxScaler\n",
        "\n",
        "scaler = MinMaxScaler()\n",
        "scaler.fit(np.array(y_vader_prob).reshape(-1,1))\n",
        "y_vader_prob_norm = scaler.transform(np.array(y_vader_prob).reshape(-1,1))\n",
        "y_vader_prob_norm[:5]"
      ],
      "execution_count": 12,
      "outputs": [
        {
          "output_type": "execute_result",
          "data": {
            "text/plain": [
              "array([[0.14226804],\n",
              "       [0.74226804],\n",
              "       [0.12783505],\n",
              "       [0.24742268],\n",
              "       [0.04948454]])"
            ]
          },
          "metadata": {
            "tags": []
          },
          "execution_count": 12
        }
      ]
    },
    {
      "cell_type": "code",
      "metadata": {
        "colab": {
          "base_uri": "https://localhost:8080/"
        },
        "id": "EgYS98mDy7Q7",
        "outputId": "aeb37d3d-9da6-4afe-de96-dfaadd57efa4"
      },
      "source": [
        "# Option 2: Using a comprehension list\n",
        "normalized = [(x - min(y_vader_prob)) / (max(y_vader_prob) - min(y_vader_prob))\n",
        "              for x in y_vader_prob]\n",
        "normalized[:5]"
      ],
      "execution_count": 13,
      "outputs": [
        {
          "output_type": "execute_result",
          "data": {
            "text/plain": [
              "[0.14226804123711342,\n",
              " 0.7422680412371134,\n",
              " 0.12783505154639174,\n",
              " 0.24742268041237114,\n",
              " 0.04948453608247423]"
            ]
          },
          "metadata": {
            "tags": []
          },
          "execution_count": 13
        }
      ]
    },
    {
      "cell_type": "markdown",
      "metadata": {
        "id": "8HIWisA4y7Q8"
      },
      "source": [
        "## Scoring Sentiment Using RNN LSTM\n",
        "\n",
        "In this section, you will build an RNN LSTM model to score the sentiment of the review comments. You will fit the model using the training and validations sets, and finally, you will get some predictions using the testing set for further performance assessment and comparison with VADER."
      ]
    },
    {
      "cell_type": "markdown",
      "metadata": {
        "id": "75349cEAy7Q8"
      },
      "source": [
        "Start encoding the review comments using the `Tokenizer` method from Keras."
      ]
    },
    {
      "cell_type": "code",
      "metadata": {
        "id": "62M-wc-Gy7Q8"
      },
      "source": [
        "# Import the Tokenizer method from Keras\n",
        "from tensorflow.keras.preprocessing.text import Tokenizer"
      ],
      "execution_count": 14,
      "outputs": []
    },
    {
      "cell_type": "markdown",
      "metadata": {
        "id": "TJPL5X4Qy7Q8"
      },
      "source": [
        "Create an instance of the `Tokenizer`, and fit it with all the review comments that you stored in `X`."
      ]
    },
    {
      "cell_type": "code",
      "metadata": {
        "id": "lPt_5TkAy7Q9"
      },
      "source": [
        "# Create an instance of the Tokenizer and fit it with the X text data\n",
        "tokenizer = Tokenizer(lower=True)\n",
        "tokenizer.fit_on_texts(X)"
      ],
      "execution_count": 15,
      "outputs": []
    },
    {
      "cell_type": "markdown",
      "metadata": {
        "id": "rQum3si8y7Q9"
      },
      "source": [
        "For testing proposes, print the first five elements of the encoded vocabulary created with the `Tokenizer`."
      ]
    },
    {
      "cell_type": "code",
      "metadata": {
        "colab": {
          "base_uri": "https://localhost:8080/"
        },
        "id": "y3FQ92mIy7Q9",
        "outputId": "effefb6c-7278-48d6-b0b2-8d597d30cf7e"
      },
      "source": [
        "# Print the first five elements of the encoded vocabulary\n",
        "for token in list(tokenizer.word_index)[:5]:\n",
        "    print(f\"word: '{token}', token: {tokenizer.word_index[token]}\")"
      ],
      "execution_count": 16,
      "outputs": [
        {
          "output_type": "stream",
          "text": [
            "word: 'the', token: 1\n",
            "word: 'and', token: 2\n",
            "word: 'a', token: 3\n",
            "word: 'of', token: 4\n",
            "word: 'to', token: 5\n"
          ],
          "name": "stdout"
        }
      ]
    },
    {
      "cell_type": "markdown",
      "metadata": {
        "id": "i5MpDelsy7Q9"
      },
      "source": [
        "To fit the RNN LSTM model for sentiment scoring, the text data in `X` should be encoded as sequences. Use the `text_to_sequence()` method of the `tokenizer` to transform the text data to numerical sequences and save the sequences in a variable called `X_seq`."
      ]
    },
    {
      "cell_type": "code",
      "metadata": {
        "id": "bDMZhFmey7Q-"
      },
      "source": [
        "# Transform the text data to numerical sequences\n",
        "X_seq = tokenizer.texts_to_sequences(X)"
      ],
      "execution_count": 17,
      "outputs": []
    },
    {
      "cell_type": "markdown",
      "metadata": {
        "id": "xfGaYMQgy7Q-"
      },
      "source": [
        "For testing proposes, compare the text representation of a movie review with its numerical representation, by printing the first text review in `X` and the first encoded element in `X_seq`."
      ]
    },
    {
      "cell_type": "code",
      "metadata": {
        "colab": {
          "base_uri": "https://localhost:8080/"
        },
        "id": "Ez1SJMX8y7Q-",
        "outputId": "f3648591-2a21-4fa0-ab63-8729cfb113e5"
      },
      "source": [
        "# Contrast a sample numerical sequence with its text version\n",
        "print(\"**Text comment**\")\n",
        "print({X[0]})"
      ],
      "execution_count": 18,
      "outputs": [
        {
          "output_type": "stream",
          "text": [
            "**Text comment**\n",
            "{'A question for all you girls out there : If a man you`ve never met before accidentally phoned you up on purpose and continued to do so at the most indiscreet moments would you be intrigued by him or so freaked out you`d phone the police ? Yeah that`s what I thought so I couldn`t swallow the idea of Marti Gerrard putting up with the unwarrented attention of Connor Hill<br /><br />***** MILD SPOILERS *****<br /><br />This is a really dumb story . Connor Hill`s wife is murdered and the plot revolves around the question is Connor phoning Marti so he can have an alibi ? But there`s a massive gap in logic here , couldn`t Connor have employed a hit man ? something the prosecution seem to have ignored . And wasn`t there any forensics at the murder scene ? So why does the whole trial rest on Connor phoning Marti at the time of the murder ? Dumb . Dumb . Dumb . And it`s as predictable as it is brainless .<br /><br />My abiding memory of this film is that for someone who made the winter Olympics Marti Gerrard is a really crap downhill skier'}\n"
          ],
          "name": "stdout"
        }
      ]
    },
    {
      "cell_type": "code",
      "metadata": {
        "colab": {
          "base_uri": "https://localhost:8080/"
        },
        "id": "jEzyzwLMy7Q-",
        "outputId": "919b8860-dfb8-4aa6-92d3-3c9e2af6a6f1"
      },
      "source": [
        "print(\"**Numerical sequence representation**\")\n",
        "print(X_seq[0])"
      ],
      "execution_count": 19,
      "outputs": [
        {
          "output_type": "stream",
          "text": [
            "**Numerical sequence representation**\n",
            "[3, 884, 15, 29, 22, 536, 43, 47, 44, 3, 129, 22, 12997, 112, 1829, 156, 2502, 14896, 22, 53, 20, 1284, 2, 3493, 5, 78, 35, 30, 1, 88, 34701, 385, 59, 22, 27, 3691, 31, 87, 39, 35, 8926, 43, 22, 1092, 1693, 1, 565, 1240, 12, 587, 48, 10, 194, 35, 10, 25242, 827, 6192, 1, 323, 4, 30568, 30569, 1484, 53, 16, 1, 52007, 688, 4, 9259, 2186, 7, 7, 3396, 1025, 7, 7, 11, 6, 3, 63, 989, 62, 9259, 2186, 587, 319, 6, 2016, 2, 1, 111, 3050, 184, 1, 884, 6, 9259, 16816, 30568, 35, 26, 67, 25, 32, 12998, 18, 47, 587, 3, 2553, 7180, 8, 2086, 130, 25242, 827, 9259, 25, 5621, 3, 566, 129, 139, 1, 14897, 303, 5, 25, 3692, 2, 27631, 827, 47, 98, 19499, 30, 1, 585, 133, 35, 135, 124, 1, 223, 3096, 357, 20, 9259, 16816, 30568, 30, 1, 55, 4, 1, 585, 989, 989, 989, 2, 9, 587, 14, 724, 14, 9, 6, 6887, 7, 7, 58, 11585, 1751, 4, 11, 19, 6, 12, 15, 291, 34, 90, 1, 3432, 17633, 30568, 30569, 6, 3, 63, 592, 4416, 30570]\n"
          ],
          "name": "stdout"
        }
      ]
    },
    {
      "cell_type": "markdown",
      "metadata": {
        "id": "XzK6IQNLy7Q-"
      },
      "source": [
        "Recall that RNN LSTM models need equal size inputs, so that, pad the sequences stored in `X_pad` up to `140` integers using the `pad_sequences` method from Keras. Store the pad size in a variable called `max_words`.\n",
        "\n",
        "**Note:** You may use a bigger padding size; however, using a bigger value will increase the time that takes fitting the RNN LSTM model."
      ]
    },
    {
      "cell_type": "code",
      "metadata": {
        "id": "kAhXN7M5y7Q_"
      },
      "source": [
        "# Import the pad_sequences method from Keras\n",
        "from tensorflow.keras.preprocessing.sequence import pad_sequences"
      ],
      "execution_count": 20,
      "outputs": []
    },
    {
      "cell_type": "code",
      "metadata": {
        "id": "rGWIPbDXy7Q_"
      },
      "source": [
        "# Set the pad size\n",
        "max_words = 140\n",
        "\n",
        "# Pad the sequences using the pad_sequences() method\n",
        "X_pad = pad_sequences(X_seq, maxlen=max_words, padding=\"post\")"
      ],
      "execution_count": 21,
      "outputs": []
    },
    {
      "cell_type": "markdown",
      "metadata": {
        "id": "hQY-TcwTy7Q_"
      },
      "source": [
        "### Create the Training, Validation, and Testing Sets\n",
        "\n",
        "You need to create suitable training, validation, and testing sets for fitting and testing the RNN LSTM model using the encoded review comments. Use the `train_test_split` method from `sklearn` to create these sets."
      ]
    },
    {
      "cell_type": "code",
      "metadata": {
        "id": "EXY9_0N5y7Q_"
      },
      "source": [
        "# Creating training, validation, and testing sets using the encoded data\n",
        "X_train_rnn, X_test_rnn, y_train_rnn, y_test_rnn = train_test_split(X_pad, y)\n",
        "\n",
        "X_train_rnn, X_val_rnn, y_train_rnn, y_val_rnn = train_test_split(X_train_rnn, y_train_rnn)"
      ],
      "execution_count": 22,
      "outputs": []
    },
    {
      "cell_type": "markdown",
      "metadata": {
        "id": "4lb4NMtVy7RA"
      },
      "source": [
        "### Build and Train the RNN LSTM Model\n",
        "\n",
        "Remember that we use `Embedding` layers to analyze text data in RNN LSTM models, so this section starts by setting-up some initial variables needed for the RNN LSTM to score sentiment.\n",
        "\n",
        "As it's defined in the [Embedding layer documentation of the Keras API](https://www.tensorflow.org/api_docs/python/tf/keras/layers/Embedding?version=stable), you should set the `input_dim` parameter to the size of your vocabulary, so we set the `vocabulary_size` variable to the length of the number of words in the `tokenizer` plus `1`.\n",
        "\n",
        "Also, we define a variable called `embedding_size` to specify how many dimensions will be used to represent each word."
      ]
    },
    {
      "cell_type": "code",
      "metadata": {
        "id": "UK7ZXWUay7RA"
      },
      "source": [
        "# Import Keras modules for model creation\n",
        "from tensorflow.keras.models import Sequential\n",
        "from tensorflow.keras.layers import Embedding, LSTM, Dense"
      ],
      "execution_count": 23,
      "outputs": []
    },
    {
      "cell_type": "code",
      "metadata": {
        "id": "GAM1ivyXy7RA"
      },
      "source": [
        "# Model set-up\n",
        "vocabulary_size = len(tokenizer.word_counts.keys()) + 1\n",
        "embedding_size = 64"
      ],
      "execution_count": 24,
      "outputs": []
    },
    {
      "cell_type": "markdown",
      "metadata": {
        "id": "rihnS7lLy7RA"
      },
      "source": [
        "Define an RNN LSTM model as follows:\n",
        "\n",
        "* _Layer 1:_ Add an `Embedding` layer using the `vocabulary_size` and `embedding_size` variables as the first two parameters, and setting `input_length=max_words` (the same size as the padding).\n",
        "\n",
        "* _Layer 2:_ Add an LSTM layer with `280` units.\n",
        "\n",
        "* _Output Layer:_ Add a `Dense` layer with `1` unit and `sigmoid` as activation function."
      ]
    },
    {
      "cell_type": "code",
      "metadata": {
        "id": "bDqtTZQAy7RB"
      },
      "source": [
        "# Define the LSTM RNN model\n",
        "model = Sequential()\n",
        "\n",
        "# Layer 1\n",
        "model.add(Embedding(vocabulary_size, embedding_size, input_length=max_words))\n",
        "\n",
        "# Layer 2\n",
        "model.add(LSTM(units=280))\n",
        "\n",
        "# Output layer\n",
        "model.add(Dense(units=1, activation=\"sigmoid\"))"
      ],
      "execution_count": 25,
      "outputs": []
    },
    {
      "cell_type": "markdown",
      "metadata": {
        "id": "eOYK8UaAy7RB"
      },
      "source": [
        "Compile the model using the `binary_crossentropy` loss function, the `adam` optimizer, and fetch the following metrics: Accuracy, True positives, True negatives, False positives, False negatives, Precision, Recall, and AUC."
      ]
    },
    {
      "cell_type": "code",
      "metadata": {
        "id": "14kxlZ6zy7RB"
      },
      "source": [
        "# Compile the model\n",
        "model.compile(\n",
        "    loss=\"binary_crossentropy\",\n",
        "    optimizer=\"adam\",\n",
        "    metrics=[\n",
        "        \"accuracy\",\n",
        "        tf.keras.metrics.TruePositives(name=\"tp\"),\n",
        "        tf.keras.metrics.TrueNegatives(name=\"tn\"),\n",
        "        tf.keras.metrics.FalsePositives(name=\"fp\"),\n",
        "        tf.keras.metrics.FalseNegatives(name=\"fn\"),\n",
        "        tf.keras.metrics.Precision(name=\"precision\"),\n",
        "        tf.keras.metrics.Recall(name=\"recall\"),\n",
        "        tf.keras.metrics.AUC(name=\"auc\"),\n",
        "    ],\n",
        ")"
      ],
      "execution_count": 26,
      "outputs": []
    },
    {
      "cell_type": "markdown",
      "metadata": {
        "id": "0amCg8QZy7RB"
      },
      "source": [
        "Display the summary of the model using the `summary` method of the model."
      ]
    },
    {
      "cell_type": "code",
      "metadata": {
        "colab": {
          "base_uri": "https://localhost:8080/"
        },
        "id": "pkaCpcsCy7RC",
        "outputId": "360de01f-b0dd-4871-a341-4a0f495ce343"
      },
      "source": [
        "# Show model summary\n",
        "model.summary()"
      ],
      "execution_count": 27,
      "outputs": [
        {
          "output_type": "stream",
          "text": [
            "Model: \"sequential\"\n",
            "_________________________________________________________________\n",
            "Layer (type)                 Output Shape              Param #   \n",
            "=================================================================\n",
            "embedding (Embedding)        (None, 140, 64)           5669312   \n",
            "_________________________________________________________________\n",
            "lstm (LSTM)                  (None, 280)               386400    \n",
            "_________________________________________________________________\n",
            "dense (Dense)                (None, 1)                 281       \n",
            "=================================================================\n",
            "Total params: 6,055,993\n",
            "Trainable params: 6,055,993\n",
            "Non-trainable params: 0\n",
            "_________________________________________________________________\n"
          ],
          "name": "stdout"
        }
      ]
    },
    {
      "cell_type": "markdown",
      "metadata": {
        "id": "WMXSrfjyy7RC"
      },
      "source": [
        "Train the RNN LSTM model using a batch size equals to `1000` and ten epochs. Remember to set the `validation_data` parameter to use your validation sets."
      ]
    },
    {
      "cell_type": "code",
      "metadata": {
        "colab": {
          "base_uri": "https://localhost:8080/"
        },
        "id": "HZwyH73gy7RC",
        "outputId": "2b5c2fcb-5106-40d5-b6f9-400ca285a761"
      },
      "source": [
        "# Training the model\n",
        "batch_size = 1000\n",
        "epochs = 10\n",
        "model.fit(\n",
        "    X_train_rnn,\n",
        "    y_train_rnn,\n",
        "    validation_data=(X_val_rnn, y_val_rnn),\n",
        "    epochs=epochs,\n",
        "    batch_size=batch_size,\n",
        "    verbose=1,\n",
        ")"
      ],
      "execution_count": null,
      "outputs": [
        {
          "output_type": "stream",
          "text": [
            "Epoch 1/10\n",
            "15/15 [==============================] - 126s 8s/step - loss: 0.6912 - accuracy: 0.5336 - tp: 4616.0000 - tn: 2887.0000 - fp: 4085.0000 - fn: 2474.0000 - precision: 0.5305 - recall: 0.6511 - auc: 0.5479 - val_loss: 0.9067 - val_accuracy: 0.5926 - val_tp: 618.0000 - val_tn: 2160.0000 - val_fp: 198.0000 - val_fn: 1712.0000 - val_precision: 0.7574 - val_recall: 0.2652 - val_auc: 0.7086\n",
            "Epoch 2/10\n",
            "15/15 [==============================] - 124s 8s/step - loss: 0.6971 - accuracy: 0.5316 - tp: 6674.0000 - tn: 802.0000 - fp: 6170.0000 - fn: 416.0000 - precision: 0.5196 - recall: 0.9413 - auc: 0.7225 - val_loss: 0.6871 - val_accuracy: 0.5064 - val_tp: 2330.0000 - val_tn: 44.0000 - val_fp: 2314.0000 - val_fn: 0.0000e+00 - val_precision: 0.5017 - val_recall: 1.0000 - val_auc: 0.6919\n",
            "Epoch 3/10\n",
            "15/15 [==============================] - 125s 8s/step - loss: 0.6798 - accuracy: 0.5209 - tp: 7079.0000 - tn: 246.0000 - fp: 6726.0000 - fn: 11.0000 - precision: 0.5128 - recall: 0.9984 - auc: 0.7717 - val_loss: 0.6816 - val_accuracy: 0.5183 - val_tp: 2326.0000 - val_tn: 104.0000 - val_fp: 2254.0000 - val_fn: 4.0000 - val_precision: 0.5079 - val_recall: 0.9983 - val_auc: 0.7097\n",
            "Epoch 4/10\n",
            " 8/15 [===============>..............] - ETA: 57s - loss: 0.6684 - accuracy: 0.5386 - tp: 3977.0000 - tn: 332.0000 - fp: 3674.0000 - fn: 17.0000 - precision: 0.5198 - recall: 0.9957 - auc: 0.7896 "
          ],
          "name": "stdout"
        }
      ]
    },
    {
      "cell_type": "markdown",
      "metadata": {
        "id": "WpuDVG47y7RD"
      },
      "source": [
        "Use the `predict_classes` method of your model to score the sentiment setting `batch_size=1000`."
      ]
    },
    {
      "cell_type": "code",
      "metadata": {
        "id": "T7tD9gd6y7RD"
      },
      "source": [
        "# Predict classes using the testing data\n",
        "y_rnn_pred = model.predict_classes(X_test_rnn, batch_size=1000)"
      ],
      "execution_count": null,
      "outputs": []
    },
    {
      "cell_type": "markdown",
      "metadata": {
        "id": "TLn9L9QVy7RD"
      },
      "source": [
        "## Models Comparison\n",
        "\n",
        "In this section, you will assess the performance of VADER and the RNN LSTM to score sentiment to decide which one is better."
      ]
    },
    {
      "cell_type": "markdown",
      "metadata": {
        "id": "o5tW6qVpy7RD"
      },
      "source": [
        "### Accuracy\n",
        "\n",
        "Use the `accuracy_score` method from `sklearn` to calculate the accuracy of each model. Display the results for further analysis."
      ]
    },
    {
      "cell_type": "code",
      "metadata": {
        "id": "3kZl_cYgy7RE"
      },
      "source": [
        "# Accuracy\n",
        "from sklearn.metrics import accuracy_score\n",
        "\n",
        "print(\"Vader Accuracy: %.2f\" % (accuracy_score(y_test, y_vader_pred)))\n",
        "print(\"RNN LSTM Accuracy %.2f\" % (accuracy_score(y_test_rnn, y_rnn_pred)))"
      ],
      "execution_count": null,
      "outputs": []
    },
    {
      "cell_type": "markdown",
      "metadata": {
        "id": "1JA8Sfr5y7RE"
      },
      "source": [
        "### Confusion Matrix\n",
        "\n",
        "Scoring the sentiment of the movie reviews as positive or negative is a binary classification problem, so use the `confusion_matrix` method from `sklearn` to calculate the confusion matrix for VADER and the RNN LSTM model."
      ]
    },
    {
      "cell_type": "code",
      "metadata": {
        "id": "27Twuo22y7RE"
      },
      "source": [
        "# Import the confusion_matrix method from sklearn\n",
        "from sklearn.metrics import confusion_matrix"
      ],
      "execution_count": null,
      "outputs": []
    },
    {
      "cell_type": "markdown",
      "metadata": {
        "id": "_6FGdA2Uy7RE"
      },
      "source": [
        "#### Confusion matrix for VADER\n",
        "\n",
        "Create the confusion matrix for vader passing the `y_test` and `y_vader_pred` variables as parameters."
      ]
    },
    {
      "cell_type": "code",
      "metadata": {
        "id": "jvbEtLimy7RF"
      },
      "source": [
        "# Confusion matrtix metrics from Vader\n",
        "tn_vader, fp_vader, fn_vader, tp_vader = confusion_matrix(y_test, y_vader_pred).ravel()\n",
        "\n",
        "# Dataframe to display confusion matrix from Vader\n",
        "cm_vader_df = pd.DataFrame(\n",
        "    {\n",
        "        \"Positive(1)\": [f\"TP={tp_vader}\", f\"FP={fp_vader}\"],\n",
        "        \"Negative(0)\": [f\"FN={fn_vader}\", f\"TN={tn_vader}\"],\n",
        "    },\n",
        "    index=[\"Positive(1)\", \"Negative(0)\"],\n",
        ")\n",
        "cm_vader_df.index.name = \"Actual\"\n",
        "cm_vader_df.columns.name = \"Predicted\"\n",
        "print(\"Confusion Matrix from Vader\")\n",
        "display(cm_vader_df)"
      ],
      "execution_count": null,
      "outputs": []
    },
    {
      "cell_type": "markdown",
      "metadata": {
        "id": "quz9XEnRy7RF"
      },
      "source": [
        "#### Confusion matrix for the RNN LSTM Model\n",
        "\n",
        "Create the confusion matrix for the RNN LSTM model passing the `y_test_rnn` and `y_rnn_pred` variables as parameters."
      ]
    },
    {
      "cell_type": "code",
      "metadata": {
        "id": "MnbIOflly7RF"
      },
      "source": [
        "# Confusion matrtix metrics from the RNN LSTM model\n",
        "tn_rnn, fp_rnn, fn_rnn, tp_rnn = confusion_matrix(y_test_rnn, y_rnn_pred).ravel()\n",
        "\n",
        "# Dataframe to display confusion matrix from the RNN LSTM model\n",
        "cm_rnn_df = pd.DataFrame(\n",
        "    {\n",
        "        \"Positive(1)\": [f\"TP={tp_rnn}\", f\"FP={fp_rnn}\"],\n",
        "        \"Negative(0)\": [f\"FN={fn_rnn}\", f\"TN={tn_rnn}\"],\n",
        "    },\n",
        "    index=[\"Positive(1)\", \"Negative(0)\"],\n",
        ")\n",
        "cm_rnn_df.index.name = \"Actual\"\n",
        "cm_rnn_df.columns.name = \"Predicted\"\n",
        "print(\"Confusion Matrix from the RNN LSTM Model\")\n",
        "display(cm_rnn_df)"
      ],
      "execution_count": null,
      "outputs": []
    },
    {
      "cell_type": "markdown",
      "metadata": {
        "id": "HKvWxDS9y7RG"
      },
      "source": [
        "### Classification Report\n",
        "\n",
        "Use the `classification_report` from `sklearn` and generate a report for each model."
      ]
    },
    {
      "cell_type": "code",
      "metadata": {
        "id": "g3FmL1c2y7RG"
      },
      "source": [
        "# Import the classification_report method from sklearn\n",
        "from sklearn.metrics import classification_report"
      ],
      "execution_count": null,
      "outputs": []
    },
    {
      "cell_type": "code",
      "metadata": {
        "id": "j9EkIHIVy7RG"
      },
      "source": [
        "# Display classification report for Vader\n",
        "print(\"Classification Report for Vader\")\n",
        "print(classification_report(y_vader_pred, y_test))"
      ],
      "execution_count": null,
      "outputs": []
    },
    {
      "cell_type": "code",
      "metadata": {
        "id": "ya52P5IPy7RG"
      },
      "source": [
        "# Display classification report for the RNN LSTM Model\n",
        "print(\"Classification Report for the RNN LSTM Model\")\n",
        "print(classification_report(y_rnn_pred, y_test_rnn))"
      ],
      "execution_count": null,
      "outputs": []
    },
    {
      "cell_type": "markdown",
      "metadata": {
        "id": "QZUQ4nsgy7RH"
      },
      "source": [
        "### Plotting the ROC Curve\n",
        "\n",
        "In this section, you will visually analyze the performance of both models by plotting the ROC Curve. You will use the `roc_curve` and `auc` methods from `sklearn` to gather the data needed to plot this curve."
      ]
    },
    {
      "cell_type": "code",
      "metadata": {
        "id": "fOgQiSS2y7RH"
      },
      "source": [
        "# Import the roc_curve and auc metrics from sklearn\n",
        "from sklearn.metrics import roc_curve, auc"
      ],
      "execution_count": null,
      "outputs": []
    },
    {
      "cell_type": "markdown",
      "metadata": {
        "id": "ESPf62JHy7RH"
      },
      "source": [
        "#### ROC Curve - VADER\n",
        "\n",
        "Use the `roc_curve` method from `sklearn` to calculate the false positives (`fpr`) and true positives (`tpr`) rates passing as parameters the testing target sentiments (`y_test`) and the normalized values of `y_vader_prob` (e.g. `y_vader_prob_norm`)."
      ]
    },
    {
      "cell_type": "code",
      "metadata": {
        "id": "Gc-6Qm1-y7RH"
      },
      "source": [
        "# Data for ROC Curve - VADER\n",
        "fpr_test_vader, tpr_test_vader, thresholds_test_vader = roc_curve(y_test, y_vader_prob_norm)"
      ],
      "execution_count": null,
      "outputs": []
    },
    {
      "cell_type": "markdown",
      "metadata": {
        "id": "273UDItGy7RH"
      },
      "source": [
        "After calculating the `fpr` and `tpr` for VADER, use the `auc` method of `sklearn` to calculate the AUC for VADER. Round the final result up to `4` decimals."
      ]
    },
    {
      "cell_type": "code",
      "metadata": {
        "id": "ighAZBEVy7RI"
      },
      "source": [
        "# AUC for VADER\n",
        "auc_test_vader = auc(fpr_test_vader, tpr_test_vader)\n",
        "auc_test_vader = round(auc_test_vader, 4)"
      ],
      "execution_count": null,
      "outputs": []
    },
    {
      "cell_type": "markdown",
      "metadata": {
        "id": "J9zGAZEiy7RI"
      },
      "source": [
        "Once you gather all the data needed to plot the ROC curve, create a DataFrame with the `fpr` and `tpr` data from VADER."
      ]
    },
    {
      "cell_type": "code",
      "metadata": {
        "id": "eTZvwlrxy7RI"
      },
      "source": [
        "# Dataframe to plot ROC Curve for VADER\n",
        "roc_df_test_vader = pd.DataFrame({\"FPR Test\": fpr_test_vader, \"TPR Test\": tpr_test_vader,})"
      ],
      "execution_count": null,
      "outputs": []
    },
    {
      "cell_type": "markdown",
      "metadata": {
        "id": "SRz36fvDy7RI"
      },
      "source": [
        "Using the `plot()` method of the DataFrame, plot the ROC Curve in red color and show the AUC value in the plot title.\n",
        "\n",
        "_Hint:_ You can pass `xlim=([-0.05, 1.05])` as a parameter to the `plot()` method to better adjust the curve."
      ]
    },
    {
      "cell_type": "code",
      "metadata": {
        "id": "l6VF1c_Ey7RI"
      },
      "source": [
        "roc_df_test_vader.plot(\n",
        "    x=\"FPR Test\",\n",
        "    y=\"TPR Test\",\n",
        "    color=\"red\",\n",
        "    style=\"--\",\n",
        "    xlim=([-0.05, 1.05]),\n",
        "    title=f\"Test ROC Curve - Vader (AUC={auc_test_vader})\",\n",
        ")"
      ],
      "execution_count": null,
      "outputs": []
    },
    {
      "cell_type": "markdown",
      "metadata": {
        "id": "Ad_WTGsTy7RJ"
      },
      "source": [
        "#### ROC Curve RNN LSTM\n",
        "\n",
        "Use the `predict()` method from the RNN LSTM model to predict the sentiment of the testing data `X_test_rnn`. Set `batch_size=1000` to speed up the predictions and store the results in a variable called `test_predictions_rnn`."
      ]
    },
    {
      "cell_type": "code",
      "metadata": {
        "id": "4QXrYZ3Ky7RJ"
      },
      "source": [
        "# Making predictions to feed the roc_curve module\n",
        "test_predictions_rnn = model.predict(X_test_rnn, batch_size=1000)"
      ],
      "execution_count": null,
      "outputs": []
    },
    {
      "cell_type": "markdown",
      "metadata": {
        "id": "PAhBnTXpy7RJ"
      },
      "source": [
        "Use the `roc_curve` method from `sklearn` to calculate the false positives (`fpr`) and true positives (`tpr`) rates passing as parameters the testing target sentiments (`y_test_rnn`) and the predictions you compute using the testing data (`test_predictions_rnn`)."
      ]
    },
    {
      "cell_type": "code",
      "metadata": {
        "id": "y66IYpRty7RJ"
      },
      "source": [
        "# Data for ROC Curve - RNN LSTM Model\n",
        "fpr_test_rnn, tpr_test_rnn, thresholds_test_rnn = roc_curve(y_test_rnn, test_predictions_rnn)"
      ],
      "execution_count": null,
      "outputs": []
    },
    {
      "cell_type": "markdown",
      "metadata": {
        "id": "0m8U-wBRy7RJ"
      },
      "source": [
        "After calculating the `fpr` and `tpr` for the RNN LSTM Model, use the `auc` method of `sklearn` to calculate the AUC for this model. Round the final result up to `4` decimals."
      ]
    },
    {
      "cell_type": "code",
      "metadata": {
        "id": "lHf-lY57y7RK"
      },
      "source": [
        "# AUC for the RNN LSTM Model\n",
        "auc_test_rnn = auc(fpr_test_rnn, tpr_test_rnn)\n",
        "auc_test_rnn = round(auc_test_rnn, 4)"
      ],
      "execution_count": null,
      "outputs": []
    },
    {
      "cell_type": "markdown",
      "metadata": {
        "id": "PBg2Mi_Ky7RK"
      },
      "source": [
        "Once you gather all the data needed to plot the ROC curve, create a DataFrame with the `fpr` and `tpr` data from the RNN LSTM model."
      ]
    },
    {
      "cell_type": "code",
      "metadata": {
        "id": "Yktxq1FNy7RK"
      },
      "source": [
        "# Dataframe to plot ROC Curve for the RNN LSTM model\n",
        "roc_df_test_rnn = pd.DataFrame({\"FPR Test\": fpr_test_rnn, \"TPR Test\": tpr_test_rnn,})"
      ],
      "execution_count": null,
      "outputs": []
    },
    {
      "cell_type": "markdown",
      "metadata": {
        "id": "RYRt-1a6y7RK"
      },
      "source": [
        "Using the `plot()` method of the DataFrame, plot the ROC Curve in blue color and show the AUC value in the plot title.\n",
        "\n",
        "_Hint:_ You can pass `xlim=([-0.05, 1.05])` as a parameter to the `plot()` method to better adjust the curve."
      ]
    },
    {
      "cell_type": "code",
      "metadata": {
        "id": "Wfrp-cuTy7RK"
      },
      "source": [
        "roc_df_test_rnn.plot(\n",
        "    x=\"FPR Test\",\n",
        "    y=\"TPR Test\",\n",
        "    color=\"blue\",\n",
        "    style=\"--\",\n",
        "    xlim=([-0.05, 1.05]),\n",
        "    title=f\"Test ROC Curve (AUC={auc_test_rnn})\",\n",
        ")"
      ],
      "execution_count": null,
      "outputs": []
    },
    {
      "cell_type": "markdown",
      "metadata": {
        "id": "Tw8GK1gly7RL"
      },
      "source": [
        "## Results Analysis and Conclusions\n",
        "\n",
        "Review all the metrics you computed, evaluate the ROC curve plots, and the AUC values to answer the following question:\n",
        "\n",
        "* Which model performed best scoring sentiments?\n",
        "\n",
        "    **Sample Answer:** After reviewing the results, we can conclude that the RNN LSTM model has a better performance to score sentiment. The RNN model has a higher accuracy and `F1` score values. Also, its ROC Curve plot has a better shape whose area under the curve (AUC) is very close to `1`."
      ]
    }
  ]
}