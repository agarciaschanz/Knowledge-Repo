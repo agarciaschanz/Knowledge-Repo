{
  "nbformat": 4,
  "nbformat_minor": 0,
  "metadata": {
    "kernelspec": {
      "display_name": "Python 3",
      "language": "python",
      "name": "python3"
    },
    "language_info": {
      "codemirror_mode": {
        "name": "ipython",
        "version": 3
      },
      "file_extension": ".py",
      "mimetype": "text/x-python",
      "name": "python",
      "nbconvert_exporter": "python",
      "pygments_lexer": "ipython3",
      "version": "3.7.3"
    },
    "colab": {
      "name": "gold_price_predict.ipynb",
      "provenance": []
    }
  },
  "cells": [
    {
      "cell_type": "markdown",
      "metadata": {
        "id": "mIARSdEPBo3C"
      },
      "source": [
        "# Students Do: Predicting Gold Closing Prices\n",
        "\n",
        "In this activity, you will gain hands-on experience by building an RNN LSTM for predicting gold closing prices using time-series data."
      ]
    },
    {
      "cell_type": "code",
      "metadata": {
        "id": "-0E09ApUBo3D"
      },
      "source": [
        "# Initial imports\n",
        "import numpy as np\n",
        "import pandas as pd\n",
        "\n",
        "%matplotlib inline"
      ],
      "execution_count": null,
      "outputs": []
    },
    {
      "cell_type": "markdown",
      "metadata": {
        "id": "yVPxop9RBo3D"
      },
      "source": [
        "## Instructions\n",
        "\n",
        "### Initial Setup\n",
        "\n",
        "To ensure models' reproducibility, set the random seed for `numpy` and `tensorflow` libraries."
      ]
    },
    {
      "cell_type": "code",
      "metadata": {
        "id": "B8l_b1uPBo3D"
      },
      "source": [
        "# Set the random seed for reproducibility\n",
        "# Note: This is used for model prototyping, but it is good practice to comment this out and run multiple experiments to evaluate your model.\n",
        "from numpy.random import seed\n",
        "\n",
        "seed(1)\n",
        "from tensorflow import random\n",
        "\n",
        "random.set_seed(2)"
      ],
      "execution_count": null,
      "outputs": []
    },
    {
      "cell_type": "markdown",
      "metadata": {
        "id": "4iK6xuxTBo3E"
      },
      "source": [
        "### Data Preparation\n",
        "\n",
        "In this section, you will retrieve the Gold historical prices from the London Bullion Market Association using the [Quandl API](https://www.quandl.com/data/LBMA/GOLD-Gold-Price-London-Fixing). Be sure to have your Quandl API key at hand.\n",
        "\n",
        "#### Data Retrieval\n",
        "\n",
        "Import your Quandl API key from an environment variable named `quandl_key`."
      ]
    },
    {
      "cell_type": "code",
      "metadata": {
        "id": "5qyrQChiBrFS"
      },
      "source": [
        "# Upload data to Colab\n",
        "from google.colab import files\n",
        "\n",
        "# Upload .env file\n",
        "csv_file = files.upload()"
      ],
      "execution_count": null,
      "outputs": []
    },
    {
      "cell_type": "code",
      "metadata": {
        "id": "zaBhSrCcBo3E"
      },
      "source": [
        "# Import the API key for QUANDL\n",
        "import os\n",
        "!pip install python-dotenv\n",
        "from dotenv import load_dotenv\n",
        "load_dotenv()\n",
        "quandl_key = os.getenv(\"QUANDL_API_KEY\")"
      ],
      "execution_count": null,
      "outputs": []
    },
    {
      "cell_type": "markdown",
      "metadata": {
        "id": "F7fcLwYQBo3F"
      },
      "source": [
        "Open the [\"Gold Price: London Fixing\" at the Quandl website](https://www.quandl.com/data/LBMA/GOLD-Gold-Price-London-Fixing), and set the URL to retrieve the historical prices of gold in `json` format."
      ]
    },
    {
      "cell_type": "code",
      "metadata": {
        "id": "KW73Wa07Bo3F"
      },
      "source": [
        "# Set Gold price URL\n",
        "request_url = \n",
        "\n",
        "gold_prices_url = request_url + quandl_key"
      ],
      "execution_count": null,
      "outputs": []
    },
    {
      "cell_type": "markdown",
      "metadata": {
        "id": "v2lZaQZqBo3F"
      },
      "source": [
        "Use the `requests` library to retrieve the historical prices of gold in `json` format."
      ]
    },
    {
      "cell_type": "code",
      "metadata": {
        "id": "UE9WUqcuBo3G"
      },
      "source": [
        "# Fetch Gold prices from QUANDL\n",
        "import requests\n",
        "\n",
        "response_data = "
      ],
      "execution_count": null,
      "outputs": []
    },
    {
      "cell_type": "markdown",
      "metadata": {
        "id": "z7-PXAMqBo3G"
      },
      "source": [
        "Explore the `json` response data and create a Pandas DataFrame containing the historical prices of gold in all the different currencies provided by the API, and set the data as the index of the DataFrame.\n",
        "\n",
        "Your DataFrame should look like the following sample:\n",
        "\n",
        "\n",
        "![Sample gold prices DataFrame](../Images/sample-gold-prices-df.png)\n",
        "\n",
        "**Note:** Remember that while working with time-series data, it's important to transform dates data to `datetime` data type explicitly. Review the [Quandl API documentation for time-series data](https://docs.quandl.com/docs/time-series) if needed."
      ]
    },
    {
      "cell_type": "code",
      "metadata": {
        "id": "sGEirgatBo3G"
      },
      "source": [
        "# Explore the `response_data` object\n",
        "\n",
        "# Fetch the keys of the `response_data` object\n"
      ],
      "execution_count": null,
      "outputs": []
    },
    {
      "cell_type": "code",
      "metadata": {
        "id": "EI7KPrJ-Bo3H"
      },
      "source": [
        "# Explore the contents of the main key\n"
      ],
      "execution_count": null,
      "outputs": []
    },
    {
      "cell_type": "code",
      "metadata": {
        "id": "Q2r4bIt_Bo3H"
      },
      "source": [
        "# Create a DataFrame with Gold prices\n",
        "\n",
        "#Transform the \"Date\" column to datetime\n",
        "\n",
        "# Set the \"Date\" column as the DataFrame Index\n",
        "\n",
        "# Show the DataFrame head\n"
      ],
      "execution_count": null,
      "outputs": []
    },
    {
      "cell_type": "markdown",
      "metadata": {
        "id": "fadw4TNoBo3H"
      },
      "source": [
        "#### Data Cleaning\n",
        "\n",
        "Before continue, corroborate if there are any `null` or missing values in the DataFrame, if so, fill the missing values with the previous price in the series.\n",
        "\n",
        "**Note:** You may want to review the [Working with missing data guide](https://pandas.pydata.org/pandas-docs/stable/user_guide/missing_data.html) from the Pandas documentation."
      ]
    },
    {
      "cell_type": "code",
      "metadata": {
        "id": "DbHJVMhEBo3H"
      },
      "source": [
        "# Looking for missing values\n"
      ],
      "execution_count": null,
      "outputs": []
    },
    {
      "cell_type": "code",
      "metadata": {
        "id": "kXw3zZLPBo3I"
      },
      "source": [
        "# Filling missing values with the previous ones\n"
      ],
      "execution_count": null,
      "outputs": []
    },
    {
      "cell_type": "markdown",
      "metadata": {
        "id": "j1Nn7h-GBo3I"
      },
      "source": [
        "#### Create the Features `X` and Target `y` Data\n",
        "\n",
        "Use the `window_data()` function bellow, to create the features set `X` and the target vector `y`. Define a window size of `30` days and use the column of the closing gold price (`USD (PM)`) for as feature and target column; this will allow your model to predict gold prices in USD."
      ]
    },
    {
      "cell_type": "code",
      "metadata": {
        "id": "1cGUqJMZBo3I"
      },
      "source": [
        "def window_data(df, window, feature_col_number, target_col_number):\n",
        "    \"\"\"\n",
        "    This function accepts the column number for the features (X) and the target (y).\n",
        "    It chunks the data up with a rolling window of Xt - window to predict Xt.\n",
        "    It returns two numpy arrays of X and y.\n",
        "    \"\"\"\n",
        "    X = []\n",
        "    y = []\n",
        "    for i in range(len(df) - window):\n",
        "        features = df.iloc[i : (i + window), feature_col_number]\n",
        "        target = df.iloc[(i + window), target_col_number]\n",
        "        X.append(features)\n",
        "        y.append(target)\n",
        "    return np.array(X), np.array(y).reshape(-1, 1)"
      ],
      "execution_count": null,
      "outputs": []
    },
    {
      "cell_type": "code",
      "metadata": {
        "id": "9nIe5PW0Bo3I"
      },
      "source": [
        "# Define the window size\n",
        "window_size =\n",
        "\n",
        "# Set the index of the feature and target columns\n",
        "feature_column =\n",
        "target_column =\n",
        "\n",
        "# Create the features (X) and target (y) data using the window_data() function.\n",
        "X, y = window_data(gold_df, window_size, feature_column, target_column)\n",
        "\n",
        "# Print a few sample values from X and y\n",
        "print (f\"X sample values:\\n{X[:3]} \\n\")\n",
        "print (f\"y sample values:\\n{y[:3]}\")"
      ],
      "execution_count": null,
      "outputs": []
    },
    {
      "cell_type": "markdown",
      "metadata": {
        "id": "AOa2O160Bo3J"
      },
      "source": [
        "#### Split Data Between Training and Testing Sets\n",
        "\n",
        "To avoid the dataset being randomized, manually create the training and testing sets using array slicing. Use 70% of the data for training and the remainder for testing."
      ]
    },
    {
      "cell_type": "code",
      "metadata": {
        "id": "aEaXSZ_7Bo3J"
      },
      "source": [
        "# Manually splitting the data\n"
      ],
      "execution_count": null,
      "outputs": []
    },
    {
      "cell_type": "markdown",
      "metadata": {
        "id": "dZk9YA1tBo3J"
      },
      "source": [
        "#### Scale Data with `MinMaxScaler`\n",
        "\n",
        "Before training the RNN LSTM model, use the `MinMaxScaler` from `sklearn` to scale the training and testing data between `0` and `1`.\n",
        "\n",
        "**Note:** You need to scale both features and target sets."
      ]
    },
    {
      "cell_type": "code",
      "metadata": {
        "id": "-KjITg2vBo3K"
      },
      "source": [
        "# Importing the MinMaxScaler from sklearn\n",
        "from sklearn.preprocessing import MinMaxScaler\n",
        "\n",
        "# Create a MinMaxScaler object\n",
        "\n",
        "# Fit the MinMaxScaler object with the features data X\n",
        "\n",
        "# Scale the features training and testing sets\n",
        "\n",
        "\n",
        "# Fit the MinMaxScaler object with the target data Y\n",
        "\n",
        "# Scale the target training and testing sets\n"
      ],
      "execution_count": null,
      "outputs": []
    },
    {
      "cell_type": "markdown",
      "metadata": {
        "id": "-_on7sCjBo3K"
      },
      "source": [
        "#### Reshape Features Data for the LSTM Model\n",
        "\n",
        "The LSTM API from Keras needs to receive the features data as a _vertical vector_, so that reshape the `X` data in the form `reshape((X_train.shape[0], X_train.shape[1], 1))`. Both sets, training, and testing should be reshaped."
      ]
    },
    {
      "cell_type": "code",
      "metadata": {
        "id": "W5_Jou30Bo3K"
      },
      "source": [
        "# Reshape the features data\n",
        "\n",
        "# Print some sample data after reshaping the datasets\n",
        "print (f\"X_train sample values:\\n{X_train[:3]} \\n\")\n",
        "print (f\"X_test sample values:\\n{X_test[:3]}\")"
      ],
      "execution_count": null,
      "outputs": []
    },
    {
      "cell_type": "markdown",
      "metadata": {
        "id": "Eo4xFUWOBo3K"
      },
      "source": [
        "---\n",
        "\n",
        "### Build and Train the LSTM RNN\n",
        "\n",
        "In this section, you will design a custom LSTM RNN in Keras and fit (train) it using the training data we defined.\n",
        "\n",
        "You will need to:\n",
        "\n",
        "1. Define the model architecture in Keras.\n",
        "\n",
        "2. Compile the model.\n",
        "\n",
        "3. Fit the model with the training data."
      ]
    },
    {
      "cell_type": "code",
      "metadata": {
        "id": "aoXif01-Bo3L"
      },
      "source": [
        "# Importing required Keras modules\n",
        "from tensorflow.keras.models import Sequential\n",
        "from tensorflow.keras.layers import LSTM, Dense, Dropout"
      ],
      "execution_count": null,
      "outputs": []
    },
    {
      "cell_type": "markdown",
      "metadata": {
        "id": "TyIcEC8QBo3L"
      },
      "source": [
        "#### Create the LSTM RNN Model Structure\n",
        "\n",
        "Design the structure of your RNN LSTM as follows:\n",
        "\n",
        "* Number of units per layer: `30` (same as the window size)\n",
        "\n",
        "* Dropout fraction: `0.2` (20% of neurons will be randomly dropped on each epoch)\n",
        "\n",
        "* Add three `LSTM` layers to your model, remember to add a `Dropout` layer after each `LSTM` layer, and to set `return_sequences=True` in the first two layers only.\n",
        "\n",
        "* Add a `Dense` output layer with one unit."
      ]
    },
    {
      "cell_type": "code",
      "metadata": {
        "id": "bNVMZ7beBo3L"
      },
      "source": [
        "# Define the LSTM RNN model.\n",
        "\n",
        "# Initial model setup\n",
        "number_units =\n",
        "dropout_fraction =\n",
        "\n",
        "# Layer 1\n",
        "\n",
        "# Layer 2\n",
        "\n",
        "# Layer 3\n",
        "\n",
        "# Output layer\n"
      ],
      "execution_count": null,
      "outputs": []
    },
    {
      "cell_type": "markdown",
      "metadata": {
        "id": "4hUGe-s1Bo3L"
      },
      "source": [
        "#### Compile the LSTM RNN Model\n",
        "\n",
        "Compile the model using the `adam` optimizer, and `mean_square_error` as loss function since the value you want to predict is continuous."
      ]
    },
    {
      "cell_type": "code",
      "metadata": {
        "id": "kFukNKL5Bo3M"
      },
      "source": [
        "# Compile the model\n"
      ],
      "execution_count": null,
      "outputs": []
    },
    {
      "cell_type": "code",
      "metadata": {
        "id": "bnuU2FKwBo3M"
      },
      "source": [
        "# Show the model summary\n",
        "model.summary()"
      ],
      "execution_count": null,
      "outputs": []
    },
    {
      "cell_type": "markdown",
      "metadata": {
        "id": "JlPztSUiBo3M"
      },
      "source": [
        "#### Train the Model\n",
        "\n",
        "Train (fit) the model with the training data using `10` epochs and a `batch_size=90`. Since you are working with time-series data, remember to set `shuffle=False` since it's necessary to keep the sequential order of the data."
      ]
    },
    {
      "cell_type": "code",
      "metadata": {
        "id": "EfGptxAgBo3M"
      },
      "source": [
        "# Train the model\n"
      ],
      "execution_count": null,
      "outputs": []
    },
    {
      "cell_type": "markdown",
      "metadata": {
        "id": "eeNS5iurBo3M"
      },
      "source": [
        "---\n",
        "\n",
        "### Model Performance\n",
        "\n",
        "In this section, you will evaluate the model using the test data. \n",
        "\n",
        "You will need to:\n",
        "\n",
        "1. Evaluate the model using the `X_test` and `y_test` data.\n",
        "\n",
        "2. Use the `X_test` data to make predictions.\n",
        "\n",
        "3. Create a DataFrame of Real (`y_test`) vs. predicted values.\n",
        "\n",
        "4. Plot the real vs. predicted values as a line chart."
      ]
    },
    {
      "cell_type": "markdown",
      "metadata": {
        "id": "gOjxRT0yBo3M"
      },
      "source": [
        "#### Evaluate the Model\n",
        "\n",
        "Use the `evaluate()` method of the model using the testing data."
      ]
    },
    {
      "cell_type": "code",
      "metadata": {
        "id": "XLy95XFwBo3N"
      },
      "source": [
        "# Evaluate the model\n"
      ],
      "execution_count": null,
      "outputs": []
    },
    {
      "cell_type": "markdown",
      "metadata": {
        "id": "qvs4YO9pBo3N"
      },
      "source": [
        "#### Make Predictions\n",
        "\n",
        "Use the `predict()` method of the model to make some closing gold price predictions using your brand new LSTM RNN model and your testing data. Save the predictions in a variable called `predicted`."
      ]
    },
    {
      "cell_type": "code",
      "metadata": {
        "id": "C-ar4EkPBo3N"
      },
      "source": [
        "# Make predictions using the testing data X_test\n"
      ],
      "execution_count": null,
      "outputs": []
    },
    {
      "cell_type": "markdown",
      "metadata": {
        "id": "OHZBovSIBo3N"
      },
      "source": [
        "Since you scaled the original values using the `MinMaxScaler`, you need to recover the original gold prices to better understand of the predictions. Use the `inverse_transform()` method of the scaler to decode the scaled testing and predicted values to their original scale."
      ]
    },
    {
      "cell_type": "code",
      "metadata": {
        "id": "caWo0Lm9Bo3N"
      },
      "source": [
        "# Recover the original prices instead of the scaled version\n"
      ],
      "execution_count": null,
      "outputs": []
    },
    {
      "cell_type": "markdown",
      "metadata": {
        "id": "Qer51D3PBo3O"
      },
      "source": [
        "#### Plotting Predicted Vs. Real Prices\n",
        "\n",
        "Create a Pandas DataFrame with an index and two columns as follows to plot the predicted vs. the actual gold prices.\n",
        "\n",
        "* Index: The datetime index from the `gold_df` DataFrame created previously. \n",
        "\n",
        "* Column 1: Actual prices (testing data)\n",
        "\n",
        "* Column 2: Predicted prices\n",
        "\n",
        "Your DataFrame should look like the sample below:\n",
        "\n",
        "![Sample actual vs. predicted gold prices](../Images/sample-gold-prices-predictions-df.png)"
      ]
    },
    {
      "cell_type": "code",
      "metadata": {
        "id": "h_-TA97zBo3O"
      },
      "source": [
        "# Create a DataFrame of Real and Predicted values\n",
        "\n",
        "# Show the DataFrame's head\n"
      ],
      "execution_count": null,
      "outputs": []
    },
    {
      "cell_type": "markdown",
      "metadata": {
        "id": "cYRSmcSmBo3O"
      },
      "source": [
        "Use the `plot()` method from the DataFrame to create a line chart to contrast the actual vs. the predicted gold prices."
      ]
    },
    {
      "cell_type": "code",
      "metadata": {
        "id": "_xSFotlSBo3O"
      },
      "source": [
        "# Plot the real vs predicted prices as a line chart\n"
      ],
      "execution_count": null,
      "outputs": []
    }
  ]
}