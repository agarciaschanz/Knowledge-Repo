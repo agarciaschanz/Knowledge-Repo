{
  "nbformat": 4,
  "nbformat_minor": 0,
  "metadata": {
    "file_extension": ".py",
    "kernelspec": {
      "name": "python3",
      "display_name": "Python 3"
    },
    "mimetype": "text/x-python",
    "name": "python",
    "npconvert_exporter": "python",
    "pygments_lexer": "ipython3",
    "version": 3,
    "colab": {
      "name": "lstm_predictor.ipynb",
      "provenance": []
    },
    "language_info": {
      "name": "python"
    }
  },
  "cells": [
    {
      "cell_type": "markdown",
      "metadata": {
        "id": "fFViD0e6-CLw"
      },
      "source": [
        "# LSTM Stock Predictor Using Closing Prices"
      ]
    },
    {
      "cell_type": "markdown",
      "metadata": {
        "id": "RFMFB1C7-CLy"
      },
      "source": [
        "## Data Preparation\n",
        "\n",
        "In this section, we will prepare the training and testing data for the LSTM model.\n",
        "\n",
        "We will need to:\n",
        "1. Use the `window_data` function to generate the X and y values for the model.\n",
        "2. Split the data into 70% training and 30% testing\n",
        "3. Apply the MinMaxScaler to the `X` and `y` values\n",
        "4. Reshape the `X_train` and `X_test` data for the model.\n",
        "\n",
        "**Note:** The required input format for the LSTM is:\n",
        "\n",
        "```python\n",
        "reshape((X_train.shape[0], X_train.shape[1], 1))\n",
        "```"
      ]
    },
    {
      "cell_type": "code",
      "metadata": {
        "id": "hyNjsx1X-CLz"
      },
      "source": [
        "# Initial imports\n",
        "import numpy as np\n",
        "import pandas as pd\n",
        "from pathlib import Path\n",
        "\n",
        "%matplotlib inline"
      ],
      "execution_count": 1,
      "outputs": []
    },
    {
      "cell_type": "code",
      "metadata": {
        "id": "UOY-xKd3-CLz"
      },
      "source": [
        "# Set the random seed for reproducibility\n",
        "# Note: This is used for model prototyping, but it is good practice to comment this out and run multiple experiments to evaluate your model.\n",
        "from numpy.random import seed\n",
        "\n",
        "seed(1)\n",
        "from tensorflow import random\n",
        "\n",
        "random.set_seed(2)"
      ],
      "execution_count": 2,
      "outputs": []
    },
    {
      "cell_type": "markdown",
      "metadata": {
        "id": "rXFj6-dr-CL0"
      },
      "source": [
        "### Data Loading\n",
        "\n",
        "In this activity, we will use closing prices from different stocks to make predictions of future closing prices based on the temporal data of each stock."
      ]
    },
    {
      "cell_type": "code",
      "metadata": {
        "colab": {
          "resources": {
            "http://localhost:8080/nbextensions/google.colab/files.js": {
              "data": "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",
              "ok": true,
              "headers": [
                [
                  "content-type",
                  "application/javascript"
                ]
              ],
              "status": 200,
              "status_text": ""
            }
          },
          "base_uri": "https://localhost:8080/",
          "height": 73
        },
        "id": "eVTPzIVH-GcZ",
        "outputId": "8128556e-1159-40dd-9a99-85d45a0c9b8a"
      },
      "source": [
        "# Upload data to Colab\n",
        "from google.colab import files\n",
        "\n",
        "# Upload stock_data.csv\n",
        "csv_file = files.upload()"
      ],
      "execution_count": 3,
      "outputs": [
        {
          "output_type": "display_data",
          "data": {
            "text/html": [
              "\n",
              "     <input type=\"file\" id=\"files-5ff89c8e-6aac-4c1f-8d89-803f4b989a56\" name=\"files[]\" multiple disabled\n",
              "        style=\"border:none\" />\n",
              "     <output id=\"result-5ff89c8e-6aac-4c1f-8d89-803f4b989a56\">\n",
              "      Upload widget is only available when the cell has been executed in the\n",
              "      current browser session. Please rerun this cell to enable.\n",
              "      </output>\n",
              "      <script src=\"/nbextensions/google.colab/files.js\"></script> "
            ],
            "text/plain": [
              "<IPython.core.display.HTML object>"
            ]
          },
          "metadata": {
            "tags": []
          }
        },
        {
          "output_type": "stream",
          "text": [
            "Saving stock_data.csv to stock_data.csv\n"
          ],
          "name": "stdout"
        }
      ]
    },
    {
      "cell_type": "code",
      "metadata": {
        "colab": {
          "base_uri": "https://localhost:8080/",
          "height": 233
        },
        "id": "ZKl0u37Z-CL0",
        "outputId": "e697aeb8-bd51-46bb-f8bb-4f9d944bfc44"
      },
      "source": [
        "# Load csv into DataFrame\n",
        "df = pd.read_csv(\n",
        "    \"stock_data.csv\",\n",
        "    index_col=\"date\",\n",
        "    infer_datetime_format=True,\n",
        "    parse_dates=True,\n",
        ")\n",
        "df.head()"
      ],
      "execution_count": 4,
      "outputs": [
        {
          "output_type": "execute_result",
          "data": {
            "text/html": [
              "<div>\n",
              "<style scoped>\n",
              "    .dataframe tbody tr th:only-of-type {\n",
              "        vertical-align: middle;\n",
              "    }\n",
              "\n",
              "    .dataframe tbody tr th {\n",
              "        vertical-align: top;\n",
              "    }\n",
              "\n",
              "    .dataframe thead th {\n",
              "        text-align: right;\n",
              "    }\n",
              "</style>\n",
              "<table border=\"1\" class=\"dataframe\">\n",
              "  <thead>\n",
              "    <tr style=\"text-align: right;\">\n",
              "      <th></th>\n",
              "      <th>VIX</th>\n",
              "      <th>Gold</th>\n",
              "      <th>T-Bonds</th>\n",
              "      <th>Junk Bonds</th>\n",
              "      <th>Oil</th>\n",
              "    </tr>\n",
              "    <tr>\n",
              "      <th>date</th>\n",
              "      <th></th>\n",
              "      <th></th>\n",
              "      <th></th>\n",
              "      <th></th>\n",
              "      <th></th>\n",
              "    </tr>\n",
              "  </thead>\n",
              "  <tbody>\n",
              "    <tr>\n",
              "      <th>2014-10-20</th>\n",
              "      <td>97500.0</td>\n",
              "      <td>119.80</td>\n",
              "      <td>29.18</td>\n",
              "      <td>121.08</td>\n",
              "      <td>33.78</td>\n",
              "    </tr>\n",
              "    <tr>\n",
              "      <th>2014-10-21</th>\n",
              "      <td>83000.0</td>\n",
              "      <td>120.02</td>\n",
              "      <td>29.14</td>\n",
              "      <td>121.59</td>\n",
              "      <td>34.17</td>\n",
              "    </tr>\n",
              "    <tr>\n",
              "      <th>2014-10-22</th>\n",
              "      <td>95250.0</td>\n",
              "      <td>119.34</td>\n",
              "      <td>29.01</td>\n",
              "      <td>120.75</td>\n",
              "      <td>33.53</td>\n",
              "    </tr>\n",
              "    <tr>\n",
              "      <th>2014-10-23</th>\n",
              "      <td>84750.0</td>\n",
              "      <td>118.52</td>\n",
              "      <td>28.96</td>\n",
              "      <td>120.84</td>\n",
              "      <td>34.37</td>\n",
              "    </tr>\n",
              "    <tr>\n",
              "      <th>2014-10-24</th>\n",
              "      <td>82750.0</td>\n",
              "      <td>118.35</td>\n",
              "      <td>28.96</td>\n",
              "      <td>121.32</td>\n",
              "      <td>34.17</td>\n",
              "    </tr>\n",
              "  </tbody>\n",
              "</table>\n",
              "</div>"
            ],
            "text/plain": [
              "                VIX    Gold  T-Bonds  Junk Bonds    Oil\n",
              "date                                                   \n",
              "2014-10-20  97500.0  119.80    29.18      121.08  33.78\n",
              "2014-10-21  83000.0  120.02    29.14      121.59  34.17\n",
              "2014-10-22  95250.0  119.34    29.01      120.75  33.53\n",
              "2014-10-23  84750.0  118.52    28.96      120.84  34.37\n",
              "2014-10-24  82750.0  118.35    28.96      121.32  34.17"
            ]
          },
          "metadata": {
            "tags": []
          },
          "execution_count": 4
        }
      ]
    },
    {
      "cell_type": "markdown",
      "metadata": {
        "id": "jo2xbVGZ-CL1"
      },
      "source": [
        "### Creating the Features `X` and Target `y` Data\n",
        "\n",
        "The first step towards preparing the data is to create the input features vectors `X` and the target vector `y`. We will use the `window_data()` function to create these vectors.\n",
        "\n",
        "This function chunks the data up with a rolling window of _X<sub>t</sub> - window_ to predict _X<sub>t</sub>_.\n",
        "\n",
        "The function returns two `numpy` arrays:\n",
        "\n",
        "* `X`: The input features vectors.\n",
        "\n",
        "* `y`: The target vector.\n",
        "\n",
        "The function has the following parameters:\n",
        "\n",
        "* `df`: The original DataFrame with the time series data.\n",
        "\n",
        "* `window`: The window size in days of previous closing prices that will be used for the prediction.\n",
        "\n",
        "* `feature_col_number`: The column number from the original DataFrame where the features are located.\n",
        "\n",
        "* `target_col_number`: The column number from the original DataFrame where the target is located."
      ]
    },
    {
      "cell_type": "code",
      "metadata": {
        "id": "CC2j7xY5-CL1"
      },
      "source": [
        "def window_data(df, window, feature_col_number, target_col_number):\n",
        "    \"\"\"\n",
        "    This function accepts the column number for the features (X) and the target (y).\n",
        "    It chunks the data up with a rolling window of Xt - window to predict Xt.\n",
        "    It returns two numpy arrays of X and y.\n",
        "    \"\"\"\n",
        "    X = []\n",
        "    y = []\n",
        "    for i in range(len(df) - window):\n",
        "        features = df.iloc[i : (i + window), feature_col_number]\n",
        "        target = df.iloc[(i + window), target_col_number]\n",
        "        X.append(features)\n",
        "        y.append(target)\n",
        "    return np.array(X), np.array(y).reshape(-1, 1)"
      ],
      "execution_count": 5,
      "outputs": []
    },
    {
      "cell_type": "markdown",
      "metadata": {
        "id": "kqJHdnYy-CL2"
      },
      "source": [
        "In the forthcoming activities, we will predict closing prices using a `5` days windows of previous _T-Bonds_ closing prices, so that, we will create the `X` and `y` vectors by calling the `window_data` function and defining a window size of `5` and setting the features and target column numbers to `2` (this is the column with the _T-Bonds_ closing prices)."
      ]
    },
    {
      "cell_type": "code",
      "metadata": {
        "colab": {
          "base_uri": "https://localhost:8080/"
        },
        "id": "IpCKOyr2-CL2",
        "outputId": "13808198-bfe9-4e4a-983b-b12b0d931ef0"
      },
      "source": [
        "# Creating the features (X) and target (y) data using the window_data() function.\n",
        "window_size = 5\n",
        "\n",
        "feature_column = 2\n",
        "target_column = 2\n",
        "X, y = window_data(df, window_size, feature_column, target_column)\n",
        "print (f\"X sample values:\\n{X[:5]} \\n\")\n",
        "print (f\"y sample values:\\n{y[:5]}\")"
      ],
      "execution_count": 6,
      "outputs": [
        {
          "output_type": "stream",
          "text": [
            "X sample values:\n",
            "[[29.18 29.14 29.01 28.96 28.96]\n",
            " [29.14 29.01 28.96 28.96 29.06]\n",
            " [29.01 28.96 28.96 29.06 29.1 ]\n",
            " [28.96 28.96 29.06 29.1  28.88]\n",
            " [28.96 29.06 29.1  28.88 28.82]] \n",
            "\n",
            "y sample values:\n",
            "[[29.06]\n",
            " [29.1 ]\n",
            " [28.88]\n",
            " [28.82]\n",
            " [28.59]]\n"
          ],
          "name": "stdout"
        }
      ]
    },
    {
      "cell_type": "markdown",
      "metadata": {
        "id": "ZE2rDr9T-CL3"
      },
      "source": [
        "### Splitting Data Between Training and Testing Sets\n",
        "\n",
        "To avoid the dataset being randomized, we will manually split the data using array slicing."
      ]
    },
    {
      "cell_type": "code",
      "metadata": {
        "id": "rGSDk8Sb-CL3"
      },
      "source": [
        "# Use 70% of the data for training and the remainder for testing\n",
        "split = int(0.7 * len(X))\n",
        "X_train = X[: split]\n",
        "X_test = X[split:]\n",
        "y_train = y[: split]\n",
        "y_test = y[split:]"
      ],
      "execution_count": 7,
      "outputs": []
    },
    {
      "cell_type": "markdown",
      "metadata": {
        "id": "bc-wg4GM-CL3"
      },
      "source": [
        "### Scaling Data with `MinMaxScaler`\n",
        "\n",
        "Once the training and test datasets are created, we need to scale the data before training the LSTM model. We will use the `MinMaxScaler` from `sklearn` to scale all values between `0` and `1`.\n",
        "\n",
        "Note that we scale both features and target sets."
      ]
    },
    {
      "cell_type": "code",
      "metadata": {
        "id": "ORgIa35z-CL4"
      },
      "source": [
        "# Use the MinMaxScaler to scale data between 0 and 1.\n",
        "from sklearn.preprocessing import MinMaxScaler\n",
        "\n",
        "scaler = MinMaxScaler()\n",
        "scaler.fit(X)\n",
        "X_train = scaler.transform(X_train)\n",
        "X_test = scaler.transform(X_test)\n",
        "scaler.fit(y)\n",
        "y_train = scaler.transform(y_train)\n",
        "y_test = scaler.transform(y_test)"
      ],
      "execution_count": 8,
      "outputs": []
    },
    {
      "cell_type": "markdown",
      "metadata": {
        "id": "7kmPFzS_-CL4"
      },
      "source": [
        "### Reshape Features Data for the LSTM Model\n",
        "\n",
        "The LSTM API from Keras needs to receive the features data as a _vertical vector_, so that we need to reshape the `X` data in the form `reshape((X_train.shape[0], X_train.shape[1], 1))`.\n",
        "\n",
        "Both sets, training, and testing are reshaped."
      ]
    },
    {
      "cell_type": "code",
      "metadata": {
        "colab": {
          "base_uri": "https://localhost:8080/"
        },
        "id": "cfe1e8Z_-CL4",
        "outputId": "cb541e13-5b60-413e-f90c-18d441c66857"
      },
      "source": [
        "# Reshape the features for the model\n",
        "X_train = X_train.reshape((X_train.shape[0], X_train.shape[1], 1))\n",
        "X_test = X_test.reshape((X_test.shape[0], X_test.shape[1], 1))\n",
        "print (f\"X_train sample values:\\n{X_train[:5]} \\n\")\n",
        "print (f\"X_test sample values:\\n{X_test[:5]}\")"
      ],
      "execution_count": 9,
      "outputs": [
        {
          "output_type": "stream",
          "text": [
            "X_train sample values:\n",
            "[[[0.8973747 ]\n",
            "  [0.88782816]\n",
            "  [0.85680191]\n",
            "  [0.84486874]\n",
            "  [0.84486874]]\n",
            "\n",
            " [[0.88782816]\n",
            "  [0.85680191]\n",
            "  [0.84486874]\n",
            "  [0.84486874]\n",
            "  [0.86873508]]\n",
            "\n",
            " [[0.85680191]\n",
            "  [0.84486874]\n",
            "  [0.84486874]\n",
            "  [0.86873508]\n",
            "  [0.87828162]]\n",
            "\n",
            " [[0.84486874]\n",
            "  [0.84486874]\n",
            "  [0.86873508]\n",
            "  [0.87828162]\n",
            "  [0.82577566]]\n",
            "\n",
            " [[0.84486874]\n",
            "  [0.86873508]\n",
            "  [0.87828162]\n",
            "  [0.82577566]\n",
            "  [0.81145585]]] \n",
            "\n",
            "X_test sample values:\n",
            "[[[0.96897375]\n",
            "  [0.97136038]\n",
            "  [0.96181384]\n",
            "  [0.93078759]\n",
            "  [0.87828162]]\n",
            "\n",
            " [[0.97136038]\n",
            "  [0.96181384]\n",
            "  [0.93078759]\n",
            "  [0.87828162]\n",
            "  [0.82100239]]\n",
            "\n",
            " [[0.96181384]\n",
            "  [0.93078759]\n",
            "  [0.87828162]\n",
            "  [0.82100239]\n",
            "  [0.81861575]]\n",
            "\n",
            " [[0.93078759]\n",
            "  [0.87828162]\n",
            "  [0.82100239]\n",
            "  [0.81861575]\n",
            "  [0.78042959]]\n",
            "\n",
            " [[0.87828162]\n",
            "  [0.82100239]\n",
            "  [0.81861575]\n",
            "  [0.78042959]\n",
            "  [0.78281623]]]\n"
          ],
          "name": "stdout"
        }
      ]
    },
    {
      "cell_type": "markdown",
      "metadata": {
        "id": "5U1bOWun-CL5"
      },
      "source": [
        "---\n",
        "\n",
        "## Build and Train the LSTM RNN\n",
        "\n",
        "In this section, we will design a custom LSTM RNN in Keras and fit (train) it using the training data we defined.\n",
        "\n",
        "We will need to:\n",
        "\n",
        "1. Define the model architecture in Keras.\n",
        "\n",
        "2. Compile the model.\n",
        "\n",
        "3. Fit the model to the training data."
      ]
    },
    {
      "cell_type": "markdown",
      "metadata": {
        "id": "PrMxPPQj-CL5"
      },
      "source": [
        "### Importing the Keras Modules\n",
        "\n",
        "The LSTM RNN model in Keras uses the `Sequential` model and the `LSTM` layer as we did before. However, there is a new type of layer called `Dropout`.\n",
        "\n",
        "* `Dropout`: Dropout is a regularization technique for reducing overfitting in neural networks. This type of layer applies the dropout technique to the input."
      ]
    },
    {
      "cell_type": "code",
      "metadata": {
        "id": "8ZqlltDm-CL5"
      },
      "source": [
        "# Import required Keras modules\n",
        "from tensorflow.keras.models import Sequential\n",
        "from tensorflow.keras.layers import LSTM, Dense, Dropout"
      ],
      "execution_count": 10,
      "outputs": []
    },
    {
      "cell_type": "markdown",
      "metadata": {
        "id": "G8taQxBf-CL6"
      },
      "source": [
        "### Defining the LSTM RNN Model Structure\n",
        "\n",
        "To create an LSTM RNN model, we will add `LSTM` layers. The `return_sequences` parameter needs to set to `True` every time we add a new `LSTM` layer, excluding the final layer. The `input_shape` is the number of time steps and the number of indicators\n",
        "\n",
        "After each `LSTM` layer, we add a `Dropout` layer to prevent overfitting. The parameter passed to the `Dropout` layer is the fraction of nodes that will be drop on each epoch, for this demo, we will use a dropout value of `0.2`, it means that on each epoch we will randomly drop `20%` of the units.\n",
        "\n",
        "The number of units in each `LSTM` layers, is equal to the size of the time window, in this demo, we are taking five previous `T-Bons` closing price to predict the next closing price."
      ]
    },
    {
      "cell_type": "code",
      "metadata": {
        "id": "2lc1hiYm-CL6"
      },
      "source": [
        "# Define the LSTM RNN model.\n",
        "model = Sequential()\n",
        "\n",
        "number_units = 5\n",
        "dropout_fraction = 0.2\n",
        "\n",
        "# Layer 1\n",
        "model.add(LSTM(\n",
        "    units=number_units,\n",
        "    return_sequences=True,\n",
        "    input_shape=(X_train.shape[1], 1))\n",
        "    )\n",
        "model.add(Dropout(dropout_fraction))\n",
        "# Layer 2\n",
        "model.add(LSTM(units=number_units, return_sequences=True))\n",
        "model.add(Dropout(dropout_fraction))\n",
        "# Layer 3\n",
        "model.add(LSTM(units=number_units))\n",
        "model.add(Dropout(dropout_fraction))\n",
        "# Output layer\n",
        "model.add(Dense(1))"
      ],
      "execution_count": 11,
      "outputs": []
    },
    {
      "cell_type": "markdown",
      "metadata": {
        "id": "4cRbHVzv-CL6"
      },
      "source": [
        "### Compiling the LSTM RNN Model\n",
        "\n",
        "We will compile the model, using the `adam` optimizer, as loss function, we will use `mean_square_error` since the value we want to predict is continuous."
      ]
    },
    {
      "cell_type": "code",
      "metadata": {
        "id": "ZK_eGCKt-CL6"
      },
      "source": [
        "# Compile the model\n",
        "model.compile(optimizer=\"adam\", loss=\"mean_squared_error\")"
      ],
      "execution_count": 12,
      "outputs": []
    },
    {
      "cell_type": "code",
      "metadata": {
        "colab": {
          "base_uri": "https://localhost:8080/"
        },
        "id": "jiXW_98w-CL7",
        "outputId": "a24914e2-a7b8-4cc3-c528-96012d5e306d"
      },
      "source": [
        "# Summarize the model\n",
        "model.summary()"
      ],
      "execution_count": 13,
      "outputs": [
        {
          "output_type": "stream",
          "text": [
            "Model: \"sequential\"\n",
            "_________________________________________________________________\n",
            "Layer (type)                 Output Shape              Param #   \n",
            "=================================================================\n",
            "lstm (LSTM)                  (None, 5, 5)              140       \n",
            "_________________________________________________________________\n",
            "dropout (Dropout)            (None, 5, 5)              0         \n",
            "_________________________________________________________________\n",
            "lstm_1 (LSTM)                (None, 5, 5)              220       \n",
            "_________________________________________________________________\n",
            "dropout_1 (Dropout)          (None, 5, 5)              0         \n",
            "_________________________________________________________________\n",
            "lstm_2 (LSTM)                (None, 5)                 220       \n",
            "_________________________________________________________________\n",
            "dropout_2 (Dropout)          (None, 5)                 0         \n",
            "_________________________________________________________________\n",
            "dense (Dense)                (None, 1)                 6         \n",
            "=================================================================\n",
            "Total params: 586\n",
            "Trainable params: 586\n",
            "Non-trainable params: 0\n",
            "_________________________________________________________________\n"
          ],
          "name": "stdout"
        }
      ]
    },
    {
      "cell_type": "markdown",
      "metadata": {
        "id": "s6iHTvb2-CL7"
      },
      "source": [
        "### Training the Model\n",
        "\n",
        "Once the model is defined, we train (fit) the model using `10` epochs. Since we are working with time-series data, it's important to set `shuffle=False` since it's necessary to keep the sequential order of the data.\n",
        "\n",
        "We can experiment with the `batch_size` parameter; however, smaller batch size is recommended; in this demo, we will use a `batch_size=1`."
      ]
    },
    {
      "cell_type": "code",
      "metadata": {
        "colab": {
          "base_uri": "https://localhost:8080/"
        },
        "id": "-JeQ9swJ-CL7",
        "outputId": "d05115dc-4abc-4897-ec0c-ba03733bfed2"
      },
      "source": [
        "# Train the model\n",
        "model.fit(X_train, y_train, epochs=10, shuffle=False, batch_size=1, verbose=1)"
      ],
      "execution_count": 14,
      "outputs": [
        {
          "output_type": "stream",
          "text": [
            "Epoch 1/10\n",
            "877/877 [==============================] - 10s 6ms/step - loss: 0.0445\n",
            "Epoch 2/10\n",
            "877/877 [==============================] - 5s 6ms/step - loss: 0.0211\n",
            "Epoch 3/10\n",
            "877/877 [==============================] - 5s 5ms/step - loss: 0.0225\n",
            "Epoch 4/10\n",
            "877/877 [==============================] - 4s 5ms/step - loss: 0.0199\n",
            "Epoch 5/10\n",
            "877/877 [==============================] - 4s 5ms/step - loss: 0.0166\n",
            "Epoch 6/10\n",
            "877/877 [==============================] - 4s 5ms/step - loss: 0.0130\n",
            "Epoch 7/10\n",
            "877/877 [==============================] - 4s 5ms/step - loss: 0.0129\n",
            "Epoch 8/10\n",
            "877/877 [==============================] - 4s 5ms/step - loss: 0.0113\n",
            "Epoch 9/10\n",
            "877/877 [==============================] - 4s 5ms/step - loss: 0.0111\n",
            "Epoch 10/10\n",
            "877/877 [==============================] - 4s 5ms/step - loss: 0.0112\n"
          ],
          "name": "stdout"
        },
        {
          "output_type": "execute_result",
          "data": {
            "text/plain": [
              "<tensorflow.python.keras.callbacks.History at 0x7f94f192e1d0>"
            ]
          },
          "metadata": {
            "tags": []
          },
          "execution_count": 14
        }
      ]
    },
    {
      "cell_type": "markdown",
      "metadata": {
        "id": "Jdk9FJS_-CL7"
      },
      "source": [
        "---\n",
        "## Model Performance\n",
        "\n",
        "In this section, we will evaluate the model using the test data. \n",
        "\n",
        "We will need to:\n",
        "\n",
        "1. Evaluate the model using the `X_test` and `y_test` data.\n",
        "\n",
        "2. Use the `X_test` data to make predictions.\n",
        "\n",
        "3. Create a DataFrame of real (`y_test`) vs predicted values.\n",
        "\n",
        "4. Plot the Real vs predicted values as a line chart."
      ]
    },
    {
      "cell_type": "markdown",
      "metadata": {
        "id": "CZ_mHKGX-CL8"
      },
      "source": [
        "### Evaluate the Model\n",
        "\n",
        "It's time to evaluate our model to assess its performance. We will use the `evaluate` method using the testing data."
      ]
    },
    {
      "cell_type": "code",
      "metadata": {
        "colab": {
          "base_uri": "https://localhost:8080/"
        },
        "id": "M-r_XbAz-CL8",
        "outputId": "1ac395d9-fd47-4d7b-954b-82f35a2d47ff"
      },
      "source": [
        "# Evaluate the model\n",
        "model.evaluate(X_test, y_test)"
      ],
      "execution_count": 15,
      "outputs": [
        {
          "output_type": "stream",
          "text": [
            "12/12 [==============================] - 1s 3ms/step - loss: 0.0658\n"
          ],
          "name": "stdout"
        },
        {
          "output_type": "execute_result",
          "data": {
            "text/plain": [
              "0.06575222313404083"
            ]
          },
          "metadata": {
            "tags": []
          },
          "execution_count": 15
        }
      ]
    },
    {
      "cell_type": "markdown",
      "metadata": {
        "id": "DSs-7fBS-CL8"
      },
      "source": [
        "### Making Predictions\n",
        "\n",
        "We will make some closing price predictions using our brand new LSTM RNN model and our testing data."
      ]
    },
    {
      "cell_type": "code",
      "metadata": {
        "id": "SrRfbCSm-CL8"
      },
      "source": [
        "# Make some predictions\n",
        "predicted = model.predict(X_test)"
      ],
      "execution_count": 16,
      "outputs": []
    },
    {
      "cell_type": "markdown",
      "metadata": {
        "id": "eDgB99pU-CL9"
      },
      "source": [
        "Since we scaled the original values using the `MinMaxScaler`, we need to recover the original prices to better understand the predictions.\n",
        "\n",
        "We will use the `inverse_transform()` method of the scaler to decode the scaled values to their original scale."
      ]
    },
    {
      "cell_type": "code",
      "metadata": {
        "id": "KW8-aoAT-CL9"
      },
      "source": [
        "# Recover the original prices instead of the scaled version\n",
        "predicted_prices = scaler.inverse_transform(predicted)\n",
        "real_prices = scaler.inverse_transform(y_test.reshape(-1, 1))"
      ],
      "execution_count": 17,
      "outputs": []
    },
    {
      "cell_type": "markdown",
      "metadata": {
        "id": "b7A78919-CL9"
      },
      "source": [
        "### Plotting Predicted Vs. Real Prices\n",
        "\n",
        "To plot the predicted vs. the real values, we will create a DataFrame."
      ]
    },
    {
      "cell_type": "code",
      "metadata": {
        "colab": {
          "base_uri": "https://localhost:8080/",
          "height": 233
        },
        "id": "0s2R19jP-CL9",
        "outputId": "587a0a10-ec72-45cc-ac46-5beb9353d5dc"
      },
      "source": [
        "# Create a DataFrame of Real and Predicted values\n",
        "stocks = pd.DataFrame({\n",
        "    \"Real\": real_prices.ravel(),\n",
        "    \"Predicted\": predicted_prices.ravel()\n",
        "    }, index = df.index[-len(real_prices): ])\n",
        "stocks.head()"
      ],
      "execution_count": 18,
      "outputs": [
        {
          "output_type": "execute_result",
          "data": {
            "text/html": [
              "<div>\n",
              "<style scoped>\n",
              "    .dataframe tbody tr th:only-of-type {\n",
              "        vertical-align: middle;\n",
              "    }\n",
              "\n",
              "    .dataframe tbody tr th {\n",
              "        vertical-align: top;\n",
              "    }\n",
              "\n",
              "    .dataframe thead th {\n",
              "        text-align: right;\n",
              "    }\n",
              "</style>\n",
              "<table border=\"1\" class=\"dataframe\">\n",
              "  <thead>\n",
              "    <tr style=\"text-align: right;\">\n",
              "      <th></th>\n",
              "      <th>Real</th>\n",
              "      <th>Predicted</th>\n",
              "    </tr>\n",
              "    <tr>\n",
              "      <th>date</th>\n",
              "      <th></th>\n",
              "      <th></th>\n",
              "    </tr>\n",
              "  </thead>\n",
              "  <tbody>\n",
              "    <tr>\n",
              "      <th>2018-04-23</th>\n",
              "      <td>28.86</td>\n",
              "      <td>29.419153</td>\n",
              "    </tr>\n",
              "    <tr>\n",
              "      <th>2018-04-24</th>\n",
              "      <td>28.85</td>\n",
              "      <td>29.410542</td>\n",
              "    </tr>\n",
              "    <tr>\n",
              "      <th>2018-04-25</th>\n",
              "      <td>28.69</td>\n",
              "      <td>29.394138</td>\n",
              "    </tr>\n",
              "    <tr>\n",
              "      <th>2018-04-26</th>\n",
              "      <td>28.70</td>\n",
              "      <td>29.369345</td>\n",
              "    </tr>\n",
              "    <tr>\n",
              "      <th>2018-04-27</th>\n",
              "      <td>28.78</td>\n",
              "      <td>29.340612</td>\n",
              "    </tr>\n",
              "  </tbody>\n",
              "</table>\n",
              "</div>"
            ],
            "text/plain": [
              "             Real  Predicted\n",
              "date                        \n",
              "2018-04-23  28.86  29.419153\n",
              "2018-04-24  28.85  29.410542\n",
              "2018-04-25  28.69  29.394138\n",
              "2018-04-26  28.70  29.369345\n",
              "2018-04-27  28.78  29.340612"
            ]
          },
          "metadata": {
            "tags": []
          },
          "execution_count": 18
        }
      ]
    },
    {
      "cell_type": "code",
      "metadata": {
        "colab": {
          "base_uri": "https://localhost:8080/",
          "height": 294
        },
        "id": "LJCuV5eS-CL-",
        "outputId": "5d945e43-e8cc-474e-c080-b10750d0fcbb"
      },
      "source": [
        "# Plot the real vs predicted prices as a line chart\n",
        "stocks.plot()"
      ],
      "execution_count": 19,
      "outputs": [
        {
          "output_type": "execute_result",
          "data": {
            "text/plain": [
              "<matplotlib.axes._subplots.AxesSubplot at 0x7f94ed501a50>"
            ]
          },
          "metadata": {
            "tags": []
          },
          "execution_count": 19
        },
        {
          "output_type": "display_data",
          "data": {
            "image/png": "[encoded data removed]",
            "text/plain": [
              "<Figure size 432x288 with 1 Axes>"
            ]
          },
          "metadata": {
            "tags": [],
            "needs_background": "light"
          }
        }
      ]
    }
  ]
}