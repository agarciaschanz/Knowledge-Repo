{
  "nbformat": 4,
  "nbformat_minor": 0,
  "metadata": {
    "file_extension": ".py",
    "kernelspec": {
      "display_name": "Python 3",
      "language": "python",
      "name": "python3"
    },
    "language_info": {
      "codemirror_mode": {
        "name": "ipython",
        "version": 3
      },
      "file_extension": ".py",
      "mimetype": "text/x-python",
      "name": "python",
      "nbconvert_exporter": "python",
      "pygments_lexer": "ipython3",
      "version": "3.7.3"
    },
    "mimetype": "text/x-python",
    "name": "python",
    "npconvert_exporter": "python",
    "pygments_lexer": "ipython3",
    "version": 3,
    "colab": {
      "name": "lstm_predictor.ipynb",
      "provenance": []
    }
  },
  "cells": [
    {
      "cell_type": "markdown",
      "metadata": {
        "id": "Y5j160PU-ebg"
      },
      "source": [
        "# LSTM Stock Predictor Using Closing Prices"
      ]
    },
    {
      "cell_type": "markdown",
      "metadata": {
        "id": "rdGXQvjh-ebj"
      },
      "source": [
        "## Data Preparation\n",
        "\n",
        "In this section, we will prepare the training and testing data for the LSTM model.\n",
        "\n",
        "We will need to:\n",
        "1. Use the `window_data` function to generate the X and y values for the model.\n",
        "2. Split the data into 70% training and 30% testing\n",
        "3. Apply the MinMaxScaler to the `X` and `y` values\n",
        "4. Reshape the `X_train` and `X_test` data for the model.\n",
        "\n",
        "**Note:** The required input format for the LSTM is:\n",
        "\n",
        "```python\n",
        "reshape((X_train.shape[0], X_train.shape[1], 1))\n",
        "```"
      ]
    },
    {
      "cell_type": "code",
      "metadata": {
        "id": "_jNBrPzU-ebk"
      },
      "source": [
        "# Initial imports\n",
        "import numpy as np\n",
        "import pandas as pd\n",
        "from pathlib import Path\n",
        "\n",
        "%matplotlib inline"
      ],
      "execution_count": null,
      "outputs": []
    },
    {
      "cell_type": "code",
      "metadata": {
        "id": "Z8Gwkhk2-ebk"
      },
      "source": [
        "# Set the random seed for reproducibility\n",
        "# Note: This is used for model prototyping, but it is good practice to comment this out and run multiple experiments to evaluate your model.\n",
        "from numpy.random import seed\n",
        "\n",
        "seed(1)\n",
        "from tensorflow import random\n",
        "\n",
        "random.set_seed(2)"
      ],
      "execution_count": null,
      "outputs": []
    },
    {
      "cell_type": "markdown",
      "metadata": {
        "id": "tpTB7V2x-ebk"
      },
      "source": [
        "### Data Loading\n",
        "\n",
        "In this activity, we will use closing prices from different stocks to make predictions of future closing prices based on the temporal data of each stock."
      ]
    },
    {
      "cell_type": "code",
      "metadata": {
        "id": "huhyZRcX-g8U"
      },
      "source": [
        "# Upload data to Colab\n",
        "from google.colab import files\n",
        "\n",
        "# Upload stock_data.csv\n",
        "csv_file = files.upload()"
      ],
      "execution_count": null,
      "outputs": []
    },
    {
      "cell_type": "code",
      "metadata": {
        "id": "_dH0yKBR-ebl"
      },
      "source": [
        "# Load csv into DataFrame\n",
        "df = pd.read_csv(\n",
        "    \"stock_data.csv\",\n",
        "    index_col=\"date\",\n",
        "    infer_datetime_format=True,\n",
        "    parse_dates=True,\n",
        ")\n",
        "df.head()"
      ],
      "execution_count": null,
      "outputs": []
    },
    {
      "cell_type": "markdown",
      "metadata": {
        "id": "s-TRl6sJ-ebl"
      },
      "source": [
        "### Creating the Features `X` and Target `y` Data\n",
        "\n",
        "The first step towards preparing the data is to create the input features vectors `X` and the target vector `y`. We will use the `window_data()` function to create these vectors.\n",
        "\n",
        "This function chunks the data up with a rolling window of _X<sub>t</sub> - window_ to predict _X<sub>t</sub>_.\n",
        "\n",
        "The function returns two `numpy` arrays:\n",
        "\n",
        "* `X`: The input features vectors.\n",
        "\n",
        "* `y`: The target vector.\n",
        "\n",
        "The function has the following parameters:\n",
        "\n",
        "* `df`: The original DataFrame with the time series data.\n",
        "\n",
        "* `window`: The window size in days of previous closing prices that will be used for the prediction.\n",
        "\n",
        "* `feature_col_number`: The column number from the original DataFrame where the features are located.\n",
        "\n",
        "* `target_col_number`: The column number from the original DataFrame where the target is located."
      ]
    },
    {
      "cell_type": "code",
      "metadata": {
        "id": "5j6fnFBf-ebm"
      },
      "source": [
        "def window_data(df, window, feature_col_number, target_col_number):\n",
        "    \"\"\"\n",
        "    This function accepts the column number for the features (X) and the target (y).\n",
        "    It chunks the data up with a rolling window of Xt - window to predict Xt.\n",
        "    It returns two numpy arrays of X and y.\n",
        "    \"\"\"\n",
        "    X = []\n",
        "    y = []\n",
        "    for i in range(len(df) - window):\n",
        "        features = df.iloc[i : (i + window), feature_col_number]\n",
        "        target = df.iloc[(i + window), target_col_number]\n",
        "        X.append(features)\n",
        "        y.append(target)\n",
        "    return np.array(X), np.array(y).reshape(-1, 1)"
      ],
      "execution_count": null,
      "outputs": []
    },
    {
      "cell_type": "markdown",
      "metadata": {
        "id": "VxkjfdgM-ebm"
      },
      "source": [
        "In the forthcoming activities, we will predict closing prices using a `5` days windows of previous _T-Bonds_ closing prices, so that, we will create the `X` and `y` vectors by calling the `window_data` function and defining a window size of `5` and setting the features and target column numbers to `2` (this is the column with the _T-Bonds_ closing prices)."
      ]
    },
    {
      "cell_type": "code",
      "metadata": {
        "id": "vUqqzl6W-ebn"
      },
      "source": [
        "# Creating the features (X) and target (y) data using the window_data() function.\n"
      ],
      "execution_count": null,
      "outputs": []
    },
    {
      "cell_type": "markdown",
      "metadata": {
        "id": "ByrmWy3b-ebn"
      },
      "source": [
        "### Splitting Data Between Training and Testing Sets\n",
        "\n",
        "To avoid the dataset being randomized, we will manually split the data using array slicing."
      ]
    },
    {
      "cell_type": "code",
      "metadata": {
        "id": "0xkzezmI-ebn"
      },
      "source": [
        "# Use 70% of the data for training and the remainder for testing\n"
      ],
      "execution_count": null,
      "outputs": []
    },
    {
      "cell_type": "markdown",
      "metadata": {
        "id": "kOlqCimP-ebn"
      },
      "source": [
        "### Scaling Data with `MinMaxScaler`\n",
        "\n",
        "Once the training and test datasets are created, we need to scale the data before training the LSTM model. We will use the `MinMaxScaler` from `sklearn` to scale all values between `0` and `1`.\n",
        "\n",
        "Note that we scale both features and target sets."
      ]
    },
    {
      "cell_type": "code",
      "metadata": {
        "id": "O7p8cbhf-ebo"
      },
      "source": [
        "# Use the MinMaxScaler to scale data between 0 and 1.\n",
        "from sklearn.preprocessing import MinMaxScaler\n"
      ],
      "execution_count": null,
      "outputs": []
    },
    {
      "cell_type": "markdown",
      "metadata": {
        "id": "pAGEdCp8-ebo"
      },
      "source": [
        "### Reshape Features Data for the LSTM Model\n",
        "\n",
        "The LSTM API from Keras needs to receive the features data as a _vertical vector_, so that we need to reshape the `X` data in the form `reshape((X_train.shape[0], X_train.shape[1], 1))`.\n",
        "\n",
        "Both sets, training, and testing are reshaped."
      ]
    },
    {
      "cell_type": "code",
      "metadata": {
        "id": "rf2A_iSH-ebo"
      },
      "source": [
        "# Reshape the features for the model\n"
      ],
      "execution_count": null,
      "outputs": []
    },
    {
      "cell_type": "markdown",
      "metadata": {
        "id": "ghTcgyts-ebo"
      },
      "source": [
        "---\n",
        "\n",
        "## Build and Train the LSTM RNN\n",
        "\n",
        "In this section, we will design a custom LSTM RNN in Keras and fit (train) it using the training data we defined.\n",
        "\n",
        "We will need to:\n",
        "\n",
        "1. Define the model architecture in Keras.\n",
        "\n",
        "2. Compile the model.\n",
        "\n",
        "3. Fit the model to the training data."
      ]
    },
    {
      "cell_type": "markdown",
      "metadata": {
        "id": "q0myLoTL-ebp"
      },
      "source": [
        "### Importing the Keras Modules\n",
        "\n",
        "The LSTM RNN model in Keras uses the `Sequential` model and the `LSTM` layer as we did before. However, there is a new type of layer called `Dropout`.\n",
        "\n",
        "* `Dropout`: Dropout is a regularization technique for reducing overfitting in neural networks. This type of layer applies the dropout technique to the input."
      ]
    },
    {
      "cell_type": "code",
      "metadata": {
        "id": "OZ57r95f-ebp"
      },
      "source": [
        "# Import required Keras modules\n",
        "from tensorflow.keras.models import Sequential\n",
        "from tensorflow.keras.layers import LSTM, Dense, Dropout"
      ],
      "execution_count": null,
      "outputs": []
    },
    {
      "cell_type": "markdown",
      "metadata": {
        "id": "PGm2LOQ3-ebp"
      },
      "source": [
        "### Defining the LSTM RNN Model Structure\n",
        "\n",
        "To create an LSTM RNN model, we will add `LSTM` layers. The `return_sequences` parameter needs to set to `True` every time we add a new `LSTM` layer, excluding the final layer. The `input_shape` is the number of time steps and the number of indicators\n",
        "\n",
        "After each `LSTM` layer, we add a `Dropout` layer to prevent overfitting. The parameter passed to the `Dropout` layer is the fraction of nodes that will be drop on each epoch, for this demo, we will use a dropout value of `0.2`, it means that on each epoch we will randomly drop `20%` of the units.\n",
        "\n",
        "The number of units in each `LSTM` layers, is equal to the size of the time window, in this demo, we are taking five previous `T-Bons` closing price to predict the next closing price."
      ]
    },
    {
      "cell_type": "code",
      "metadata": {
        "id": "yE9TFaw0-ebq"
      },
      "source": [
        "# Define the LSTM RNN model.\n",
        "\n",
        "# Layer 1\n",
        "\n",
        "# Layer 2\n",
        "\n",
        "# Layer 3\n",
        "\n",
        "# Output layer\n"
      ],
      "execution_count": null,
      "outputs": []
    },
    {
      "cell_type": "markdown",
      "metadata": {
        "id": "TmS1gcaO-ebq"
      },
      "source": [
        "### Compiling the LSTM RNN Model\n",
        "\n",
        "We will compile the model, using the `adam` optimizer, as loss function, we will use `mean_square_error` since the value we want to predict is continuous."
      ]
    },
    {
      "cell_type": "code",
      "metadata": {
        "id": "jXbxD7jU-ebq"
      },
      "source": [
        "# Compile the model\n"
      ],
      "execution_count": null,
      "outputs": []
    },
    {
      "cell_type": "code",
      "metadata": {
        "id": "vaqRR-di-ebr"
      },
      "source": [
        "# Summarize the model\n"
      ],
      "execution_count": null,
      "outputs": []
    },
    {
      "cell_type": "markdown",
      "metadata": {
        "id": "m3RG5kvr-ebr"
      },
      "source": [
        "### Training the Model\n",
        "\n",
        "Once the model is defined, we train (fit) the model using `10` epochs. Since we are working with time-series data, it's important to set `shuffle=False` since it's necessary to keep the sequential order of the data.\n",
        "\n",
        "We can experiment with the `batch_size` parameter; however, smaller batch size is recommended; in this demo, we will use a `batch_size=1`."
      ]
    },
    {
      "cell_type": "code",
      "metadata": {
        "id": "wbgNBuqx-ebr"
      },
      "source": [
        "# Train the model\n"
      ],
      "execution_count": null,
      "outputs": []
    },
    {
      "cell_type": "markdown",
      "metadata": {
        "id": "8vvOc_z--ebr"
      },
      "source": [
        "---\n",
        "## Model Performance\n",
        "\n",
        "In this section, we will evaluate the model using the test data. \n",
        "\n",
        "We will need to:\n",
        "\n",
        "1. Evaluate the model using the `X_test` and `y_test` data.\n",
        "\n",
        "2. Use the `X_test` data to make predictions.\n",
        "\n",
        "3. Create a DataFrame of real (`y_test`) vs predicted values.\n",
        "\n",
        "4. Plot the Real vs predicted values as a line chart."
      ]
    },
    {
      "cell_type": "markdown",
      "metadata": {
        "id": "QNB_VG8P-ebr"
      },
      "source": [
        "### Evaluate the Model\n",
        "\n",
        "It's time to evaluate our model to assess its performance. We will use the `evaluate` method using the testing data."
      ]
    },
    {
      "cell_type": "code",
      "metadata": {
        "id": "NohoWxxa-ebs"
      },
      "source": [
        "# Evaluate the model\n"
      ],
      "execution_count": null,
      "outputs": []
    },
    {
      "cell_type": "markdown",
      "metadata": {
        "id": "mlMZEudp-ebs"
      },
      "source": [
        "### Making Predictions\n",
        "\n",
        "We will make some closing price predictions using our brand new LSTM RNN model and our testing data."
      ]
    },
    {
      "cell_type": "code",
      "metadata": {
        "id": "1LPp13qO-ebs"
      },
      "source": [
        "# Make some predictions\n"
      ],
      "execution_count": null,
      "outputs": []
    },
    {
      "cell_type": "markdown",
      "metadata": {
        "id": "CYpe89om-ebs"
      },
      "source": [
        "Since we scaled the original values using the `MinMaxScaler`, we need to recover the original prices to better understand the predictions.\n",
        "\n",
        "We will use the `inverse_transform()` method of the scaler to decode the scaled values to their original scale."
      ]
    },
    {
      "cell_type": "code",
      "metadata": {
        "id": "HHcKKXPs-ebs"
      },
      "source": [
        "# Recover the original prices instead of the scaled version\n"
      ],
      "execution_count": null,
      "outputs": []
    },
    {
      "cell_type": "markdown",
      "metadata": {
        "id": "20VHMLUB-ebt"
      },
      "source": [
        "### Plotting Predicted Vs. Real Prices\n",
        "\n",
        "To plot the predicted vs. the real values, we will create a DataFrame."
      ]
    },
    {
      "cell_type": "code",
      "metadata": {
        "id": "JFdKjrTy-ebt"
      },
      "source": [
        "# Create a DataFrame of Real and Predicted values\n"
      ],
      "execution_count": null,
      "outputs": []
    },
    {
      "cell_type": "code",
      "metadata": {
        "id": "hqBkq4qv-ebt"
      },
      "source": [
        "# Plot the real vs predicted prices as a line chart\n"
      ],
      "execution_count": null,
      "outputs": []
    }
  ]
}