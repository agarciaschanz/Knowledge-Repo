{
  "nbformat": 4,
  "nbformat_minor": 0,
  "metadata": {
    "file_extension": ".py",
    "kernelspec": {
      "display_name": "Python 3",
      "language": "python",
      "name": "python3"
    },
    "language_info": {
      "codemirror_mode": {
        "name": "ipython",
        "version": 3
      },
      "file_extension": ".py",
      "mimetype": "text/x-python",
      "name": "python",
      "nbconvert_exporter": "python",
      "pygments_lexer": "ipython3",
      "version": "3.7.3"
    },
    "mimetype": "text/x-python",
    "name": "python",
    "npconvert_exporter": "python",
    "pygments_lexer": "ipython3",
    "version": 3,
    "colab": {
      "name": "austin_coffee_sentiment.ipynb",
      "provenance": []
    }
  },
  "cells": [
    {
      "cell_type": "markdown",
      "metadata": {
        "id": "AyG62c6qxnvy"
      },
      "source": [
        "# Instructor Do: RNNs for NLP - Sentiment Analysis\n",
        "\n",
        "In this activity, students will learn how to define a LSTM RNN model for sentiment analysis using Keras. Also, data preparation for using LSTM models for natural language processing is introduced."
      ]
    },
    {
      "cell_type": "code",
      "metadata": {
        "id": "7oWWVIEKxnv5"
      },
      "source": [
        "# Initial imports\n",
        "import pandas as pd\n",
        "import numpy as np\n",
        "import matplotlib.pyplot as plt\n",
        "import tensorflow as tf\n",
        "\n",
        "%matplotlib inline"
      ],
      "execution_count": null,
      "outputs": []
    },
    {
      "cell_type": "markdown",
      "metadata": {
        "id": "9TXbhE69xnv6"
      },
      "source": [
        "## The Dataset\n",
        "\n",
        "The provided data file contains `6878` customer reviews of Coffee Shops in Austin, Texas. The reviews were taken from Yelp; however, the names of the Coffee Shops were anonymized for privacy reasons.\n",
        "\n",
        "The dataset has the following columns:\n",
        "\n",
        "* `coffee_shop_name`: The anonymized name of the coffee shop.\n",
        "\n",
        "* `full_review_text`: The customer reviews.\n",
        "\n",
        "* `sentiment`: The sentiment of each customer's review. `0` - Negative, `1` - Positive."
      ]
    },
    {
      "cell_type": "code",
      "metadata": {
        "id": "u86gsoc0xnv7"
      },
      "source": [
        "# Upload data to Colab\n",
        "from google.colab import files\n",
        "\n",
        "# Upload austin_coffee_shops_reviews.csv\n",
        "csv_file = files.upload()"
      ],
      "execution_count": null,
      "outputs": []
    },
    {
      "cell_type": "code",
      "metadata": {
        "id": "BrevUBV-xsSC"
      },
      "source": [
        "reviews_df = pd.read_csv(\"austin_coffee_shops_reviews.csv\")\n",
        "reviews_df.head()"
      ],
      "execution_count": null,
      "outputs": []
    },
    {
      "cell_type": "markdown",
      "metadata": {
        "id": "A6Awb8O1xnv8"
      },
      "source": [
        "## Data Preprocessing\n",
        "\n",
        "RNN input requires an array data type. The `full_review_text` column will be transformed into the `X` array and the “sentiment” column into the `y` array."
      ]
    },
    {
      "cell_type": "code",
      "metadata": {
        "id": "tpLXJWUpxnv9"
      },
      "source": [
        "# Creating the X and y vectors\n",
        "X = \n",
        "y = "
      ],
      "execution_count": null,
      "outputs": []
    },
    {
      "cell_type": "markdown",
      "metadata": {
        "id": "kRW0TeJoxnv-"
      },
      "source": [
        "To train the RNN model, we need to encode the text data as an integer. This transformation can be done using the following tools from Keras."
      ]
    },
    {
      "cell_type": "code",
      "metadata": {
        "id": "gLRfqwcHxnv_"
      },
      "source": [
        "# Import Keras modules for data encoding\n"
      ],
      "execution_count": null,
      "outputs": []
    },
    {
      "cell_type": "code",
      "metadata": {
        "id": "UlDQzONFxnv_"
      },
      "source": [
        "# Create an instance of the Tokenizer and fit it with the X text data\n",
        "tokenizer = "
      ],
      "execution_count": null,
      "outputs": []
    },
    {
      "cell_type": "code",
      "metadata": {
        "id": "XacQ7RqyxnwA"
      },
      "source": [
        "# Print the first five elements of the encoded vocabulary\n"
      ],
      "execution_count": null,
      "outputs": []
    },
    {
      "cell_type": "code",
      "metadata": {
        "id": "hrkmxiakxnwB"
      },
      "source": [
        "# Transform the text data to numerical sequences\n",
        "X_seq = \n",
        "\n",
        "# Contrast a sample numerical sequence with its text version\n"
      ],
      "execution_count": null,
      "outputs": []
    },
    {
      "cell_type": "markdown",
      "metadata": {
        "id": "EIg6HTLAxnwB"
      },
      "source": [
        "The RNN model requires that all the values of the `X` vector have the same length; the `pad_sequences` method will ensure that all integer encoded reviews have the same size. Each entry in `X` will be shortened to `140` integers, or pad with `0's` in case it's shorter."
      ]
    },
    {
      "cell_type": "code",
      "metadata": {
        "id": "56f8JaC4xnwC"
      },
      "source": [
        "# Padding sequences\n",
        "X_pad = "
      ],
      "execution_count": null,
      "outputs": []
    },
    {
      "cell_type": "markdown",
      "metadata": {
        "id": "eVOmcKxqxnwC"
      },
      "source": [
        "Now that the data is encoded, the training and testing sets will be created."
      ]
    },
    {
      "cell_type": "code",
      "metadata": {
        "id": "A_JFa0nZxnwD"
      },
      "source": [
        "# Creating training, validation, and testing sets\n",
        "from sklearn.model_selection import train_test_split\n"
      ],
      "execution_count": null,
      "outputs": []
    },
    {
      "cell_type": "markdown",
      "metadata": {
        "id": "mMXZyKXAxnwE"
      },
      "source": [
        "## Build and Train the LSTM RNN Model\n",
        "\n",
        "In this section, a custom LSTM RNN model is going to be designed in Keras, and it's going to be fitted (trained) using the training data we defined.\n",
        "\n",
        "These are the steps that will be followed:\n",
        "\n",
        "* Define the model architecture in Keras.\n",
        "\n",
        "* Compile the model.\n",
        "\n",
        "* Fit the model to the training data."
      ]
    },
    {
      "cell_type": "markdown",
      "metadata": {
        "id": "xGPs7uGfxnwE"
      },
      "source": [
        "### Importing the Keras Modules\n",
        "\n",
        "To build an LSTM RNN model in Keras, the `Sequential` model is used; however, there are two new types of layers that are needed:\n",
        "\n",
        "* `Embeding`: It's a type of layer that is used in neural networks to process encoded text data.\n",
        "\n",
        "* `LSTM`: It's used to add an LSTM layer to the model."
      ]
    },
    {
      "cell_type": "code",
      "metadata": {
        "id": "4bhi8geexnwF"
      },
      "source": [
        "# Import Keras modules for model creation\n",
        "from tensorflow.keras.models import Sequential\n",
        "from tensorflow.keras.layers import Embedding, LSTM, Dense"
      ],
      "execution_count": null,
      "outputs": []
    },
    {
      "cell_type": "markdown",
      "metadata": {
        "id": "8p0bH1wExnwF"
      },
      "source": [
        "### Setting Up the Model\n",
        "\n",
        "The `Embedding` layer requires as parameter the size of the vocabulary in the text that is going to be processed. The `vocabulary_size` is set at the total number of words in the `tokenizer` dictionary plus `1`. The other parameter needed by this layer is the `input_length`; this parameter is set at `140` (`max_words` variable) that is the value defined for padding the reviews.\n",
        "\n",
        "The `embedding_size` parameter specifies how many dimensions will be used to represent each word. As a rule-of-thumb, a multiple of eight could be used; for this demo, tuning the model value to `64` delivered the best result."
      ]
    },
    {
      "cell_type": "code",
      "metadata": {
        "id": "INNYdDVtxnwG"
      },
      "source": [
        "# Model set-up\n",
        "vocabulary_size = \n",
        "max_words = \n",
        "embedding_size = "
      ],
      "execution_count": null,
      "outputs": []
    },
    {
      "cell_type": "markdown",
      "metadata": {
        "id": "9USfavh0xnwG"
      },
      "source": [
        "### Defining the Model's Structure"
      ]
    },
    {
      "cell_type": "code",
      "metadata": {
        "id": "GggB1V82xnwH"
      },
      "source": [
        "# Define the LSTM RNN model\n",
        "\n",
        "# Layer 1\n",
        "\n",
        "# Layer 2\n",
        "\n",
        "# Output layer\n"
      ],
      "execution_count": null,
      "outputs": []
    },
    {
      "cell_type": "markdown",
      "metadata": {
        "id": "6o-P6pRUxnwH"
      },
      "source": [
        "### Compiling the Model"
      ]
    },
    {
      "cell_type": "code",
      "metadata": {
        "id": "AUyyDDyZxnwH"
      },
      "source": [
        "# Compile the model\n"
      ],
      "execution_count": null,
      "outputs": []
    },
    {
      "cell_type": "code",
      "metadata": {
        "id": "MPn4YH_pxnwI"
      },
      "source": [
        "# Summarize the model\n"
      ],
      "execution_count": null,
      "outputs": []
    },
    {
      "cell_type": "markdown",
      "metadata": {
        "id": "WEHhQL1MxnwI"
      },
      "source": [
        "### Training the Model"
      ]
    },
    {
      "cell_type": "code",
      "metadata": {
        "id": "5Dg7mtuvxnwI"
      },
      "source": [
        "# Training the model\n",
        "batch_size = 1000\n"
      ],
      "execution_count": null,
      "outputs": []
    },
    {
      "cell_type": "markdown",
      "metadata": {
        "id": "cZSRkdR0xnwJ"
      },
      "source": [
        " ### Making Predictions"
      ]
    },
    {
      "cell_type": "code",
      "metadata": {
        "id": "2az11RWoxnwJ"
      },
      "source": [
        "# Make sentiment predictions\n"
      ],
      "execution_count": null,
      "outputs": []
    },
    {
      "cell_type": "code",
      "metadata": {
        "id": "_tTYizNhxnwJ"
      },
      "source": [
        "# Create a DataFrame of Real and Predicted values\n"
      ],
      "execution_count": null,
      "outputs": []
    }
  ]
}