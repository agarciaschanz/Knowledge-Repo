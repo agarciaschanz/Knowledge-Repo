{
 "cells": [
  {
   "cell_type": "code",
   "execution_count": 1,
   "metadata": {},
   "outputs": [],
   "source": [
    "import pandas as pd\n",
    "from pathlib import Path\n",
    "%matplotlib inline"
   ]
  },
  {
   "cell_type": "code",
   "execution_count": 2,
   "metadata": {},
   "outputs": [
    {
     "data": {
      "text/plain": [
       "'/Users/andrewgarcia-schanz/Desktop/pepp-mal-virt-fin-pt-04-2021-u-c/01-Lesson-Plans/03-Python-Pandas/2/Activities/11-Stu_Returns/Resources'"
      ]
     },
     "execution_count": 2,
     "metadata": {},
     "output_type": "execute_result"
    }
   ],
   "source": [
    "pwd"
   ]
  },
  {
   "cell_type": "code",
   "execution_count": 6,
   "metadata": {},
   "outputs": [
    {
     "data": {
      "text/plain": [
       "'/Users/andrewgarcia-schanz/Desktop/pepp-mal-virt-fin-pt-04-2021-u-c/01-Lesson-Plans/03-Python-Pandas/2/Activities/11-Stu_Returns/Resources'"
      ]
     },
     "execution_count": 6,
     "metadata": {},
     "output_type": "execute_result"
    }
   ],
   "source": [
    "pwd"
   ]
  },
  {
   "cell_type": "code",
   "execution_count": 1,
   "metadata": {},
   "outputs": [
    {
     "data": {
      "text/plain": [
       "'/Users/andrewgarcia-schanz/Desktop/pepp-mal-virt-fin-pt-04-2021-u-c/01-Lesson-Plans/03-Python-Pandas/2/Activities/11-Stu_Returns/Resources'"
      ]
     },
     "execution_count": 1,
     "metadata": {},
     "output_type": "execute_result"
    }
   ],
   "source": [
    "pwd"
   ]
  },
  {
   "cell_type": "code",
   "execution_count": 2,
   "metadata": {},
   "outputs": [
    {
     "data": {
      "text/plain": [
       "'/Users/andrewgarcia-schanz/Desktop/pepp-mal-virt-fin-pt-04-2021-u-c/01-Lesson-Plans/03-Python-Pandas/2/Activities/11-Stu_Returns/Resources'"
      ]
     },
     "execution_count": 2,
     "metadata": {},
     "output_type": "execute_result"
    }
   ],
   "source": [
    "pwd"
   ]
  },
  {
   "cell_type": "code",
   "execution_count": 5,
   "metadata": {},
   "outputs": [
    {
     "name": "stdout",
     "output_type": "stream",
     "text": [
      "[Errno 2] No such file or directory: '/~Desktop'\n",
      "/Users/andrewgarcia-schanz/Desktop/pepp-mal-virt-fin-pt-04-2021-u-c/01-Lesson-Plans/03-Python-Pandas/2/Activities/11-Stu_Returns/Resources\n"
     ]
    }
   ],
   "source": [
    "cd /~Desktop"
   ]
  },
  {
   "cell_type": "code",
   "execution_count": 6,
   "metadata": {},
   "outputs": [
    {
     "name": "stdout",
     "output_type": "stream",
     "text": [
      "/Users/andrewgarcia-schanz/Desktop\n"
     ]
    }
   ],
   "source": [
    "cd ~/Desktop"
   ]
  },
  {
   "cell_type": "code",
   "execution_count": 7,
   "metadata": {},
   "outputs": [
    {
     "name": "stdout",
     "output_type": "stream",
     "text": [
      "\u001b[34mActivity-1\u001b[m\u001b[m/\n",
      "\u001b[34mCaseStudy-\u001b[m\u001b[m/\n",
      "\u001b[34mFinTechClass\u001b[m\u001b[m/\n",
      "\u001b[34mJupyter\u001b[m\u001b[m/\n",
      "\u001b[34mJupyter Lab \u001b[m\u001b[m/\n",
      "\u001b[34mPREWORK_AGS\u001b[m\u001b[m/\n",
      "Psuedo Practice.ipynb\n",
      "\u001b[34mPython-Homework\u001b[m\u001b[m/\n",
      "Screen Shot 2021-04-24 at 8.27.40 AM (2).png\n",
      "Screen Shot 2021-04-24 at 8.27.40 AM.png\n",
      "Screen Shot 2021-04-24 at 8.28.02 AM.png\n",
      "Screen Shot 2021-04-24 at 8.35.29 AM.png\n",
      "Screen Shot 2021-04-24 at 8.43.46 AM.png\n",
      "Untitled.ipynb\n",
      "Untitled1.ipynb\n",
      "Untitled10.ipynb\n",
      "Untitled2.ipynb\n",
      "Untitled3.ipynb\n",
      "Untitled8.ipynb\n",
      "Untitled9.ipynb\n",
      "\u001b[34mpepp-mal-virt-fin-pt-04-2021-u-c\u001b[m\u001b[m/\n",
      "\u001b[34mpets\u001b[m\u001b[m/\n",
      "practice list .ipynb\n",
      "practice.ipynb\n",
      "prctice.ipynb\n",
      "print(\"Hello World\").py\n",
      "pytho. practice 2 .ipynb\n",
      "python practice.ipynb\n"
     ]
    }
   ],
   "source": [
    "ls\n"
   ]
  },
  {
   "cell_type": "code",
   "execution_count": 8,
   "metadata": {},
   "outputs": [
    {
     "name": "stdout",
     "output_type": "stream",
     "text": [
      "/Users/andrewgarcia-schanz/Desktop/pepp-mal-virt-fin-pt-04-2021-u-c\n"
     ]
    }
   ],
   "source": [
    "cd pepp-mal-virt-fin-pt-04-2021-u-c/"
   ]
  },
  {
   "cell_type": "code",
   "execution_count": 9,
   "metadata": {},
   "outputs": [
    {
     "name": "stdout",
     "output_type": "stream",
     "text": [
      "\u001b[34m01-Lesson-Plans\u001b[m\u001b[m/ \u001b[34m02-Homework\u001b[m\u001b[m/     README.md        Untitled.ipynb\n"
     ]
    }
   ],
   "source": [
    "ls"
   ]
  },
  {
   "cell_type": "code",
   "execution_count": 10,
   "metadata": {},
   "outputs": [
    {
     "name": "stdout",
     "output_type": "stream",
     "text": [
      "/Users/andrewgarcia-schanz/Desktop/pepp-mal-virt-fin-pt-04-2021-u-c/01-Lesson-Plans\n"
     ]
    }
   ],
   "source": [
    "cd 01-Lesson-Plans/"
   ]
  },
  {
   "cell_type": "code",
   "execution_count": 11,
   "metadata": {},
   "outputs": [
    {
     "name": "stdout",
     "output_type": "stream",
     "text": [
      "\u001b[34m00-Intro-to-Finance\u001b[m\u001b[m/ \u001b[34m02-Python\u001b[m\u001b[m/\n",
      "\u001b[34m01-Intro-to-FinTech\u001b[m\u001b[m/ \u001b[34m03-Python-Pandas\u001b[m\u001b[m/\n"
     ]
    }
   ],
   "source": [
    "ls"
   ]
  },
  {
   "cell_type": "code",
   "execution_count": 12,
   "metadata": {},
   "outputs": [
    {
     "name": "stdout",
     "output_type": "stream",
     "text": [
      "/Users/andrewgarcia-schanz/Desktop/pepp-mal-virt-fin-pt-04-2021-u-c/01-Lesson-Plans/03-Python-Pandas\n"
     ]
    }
   ],
   "source": [
    "cd 03-Python-Pandas/"
   ]
  },
  {
   "cell_type": "code",
   "execution_count": 13,
   "metadata": {},
   "outputs": [
    {
     "name": "stdout",
     "output_type": "stream",
     "text": [
      "\u001b[34m1\u001b[m\u001b[m/            \u001b[34m2\u001b[m\u001b[m/            \u001b[34m3\u001b[m\u001b[m/            \u001b[34mSupplemental\u001b[m\u001b[m/\n"
     ]
    }
   ],
   "source": [
    "ls"
   ]
  },
  {
   "cell_type": "code",
   "execution_count": 14,
   "metadata": {},
   "outputs": [
    {
     "name": "stdout",
     "output_type": "stream",
     "text": [
      "/Users/andrewgarcia-schanz/Desktop/pepp-mal-virt-fin-pt-04-2021-u-c/01-Lesson-Plans/03-Python-Pandas/3\n"
     ]
    }
   ],
   "source": [
    "cd 3/"
   ]
  },
  {
   "cell_type": "code",
   "execution_count": 15,
   "metadata": {},
   "outputs": [
    {
     "name": "stdout",
     "output_type": "stream",
     "text": [
      "\u001b[34mActivities\u001b[m\u001b[m/\n"
     ]
    }
   ],
   "source": [
    "ls"
   ]
  },
  {
   "cell_type": "code",
   "execution_count": 16,
   "metadata": {},
   "outputs": [
    {
     "name": "stdout",
     "output_type": "stream",
     "text": [
      "/Users/andrewgarcia-schanz/Desktop/pepp-mal-virt-fin-pt-04-2021-u-c/01-Lesson-Plans/03-Python-Pandas/3/Activities\n"
     ]
    }
   ],
   "source": [
    "cd Activities/"
   ]
  },
  {
   "cell_type": "code",
   "execution_count": 17,
   "metadata": {},
   "outputs": [
    {
     "name": "stdout",
     "output_type": "stream",
     "text": [
      "\u001b[34m01-Ins_Welcome\u001b[m\u001b[m/           \u001b[34m06-Stu_Groupby\u001b[m\u001b[m/           \u001b[34m13-Stu_Concat_Dataframes\u001b[m\u001b[m/\n",
      "\u001b[34m02-Ins_Sorting\u001b[m\u001b[m/           \u001b[34m08-Ins_Multi_Indexing\u001b[m\u001b[m/    \u001b[34m15-Ins_Std_Dev_Risk\u001b[m\u001b[m/\n",
      "\u001b[34m03-Stu_Sorting\u001b[m\u001b[m/           \u001b[34m09-Stu_Multi_Indexing\u001b[m\u001b[m/    \u001b[34m16-Ins_Sharpe_Ratios\u001b[m\u001b[m/\n",
      "\u001b[34m05-Ins_Groupby\u001b[m\u001b[m/           \u001b[34m12-Ins_Concat_DataFrame\u001b[m\u001b[m/  \u001b[34m17-Stu_Risky_Business\u001b[m\u001b[m/\n"
     ]
    }
   ],
   "source": [
    "ls"
   ]
  },
  {
   "cell_type": "code",
   "execution_count": 18,
   "metadata": {},
   "outputs": [
    {
     "name": "stdout",
     "output_type": "stream",
     "text": [
      "/Users/andrewgarcia-schanz/Desktop/pepp-mal-virt-fin-pt-04-2021-u-c/01-Lesson-Plans/03-Python-Pandas/3/Activities/03-Stu_Sorting\n"
     ]
    }
   ],
   "source": [
    "cd 03-Stu_Sorting/"
   ]
  },
  {
   "cell_type": "code",
   "execution_count": 19,
   "metadata": {},
   "outputs": [
    {
     "name": "stdout",
     "output_type": "stream",
     "text": [
      "README.md  \u001b[34mResources\u001b[m\u001b[m/ \u001b[34mSolved\u001b[m\u001b[m/    \u001b[34mUnsolved\u001b[m\u001b[m/\n"
     ]
    }
   ],
   "source": [
    "ls"
   ]
  },
  {
   "cell_type": "code",
   "execution_count": 20,
   "metadata": {},
   "outputs": [
    {
     "data": {
      "text/plain": [
       "'/Users/andrewgarcia-schanz/Desktop/pepp-mal-virt-fin-pt-04-2021-u-c/01-Lesson-Plans/03-Python-Pandas/3/Activities/03-Stu_Sorting'"
      ]
     },
     "execution_count": 20,
     "metadata": {},
     "output_type": "execute_result"
    }
   ],
   "source": [
    "pwd"
   ]
  },
  {
   "cell_type": "code",
   "execution_count": 23,
   "metadata": {},
   "outputs": [
    {
     "name": "stdout",
     "output_type": "stream",
     "text": [
      "tsla_google_finance.csv\n"
     ]
    }
   ],
   "source": [
    "ls Resources/"
   ]
  },
  {
   "cell_type": "code",
   "execution_count": 24,
   "metadata": {},
   "outputs": [
    {
     "data": {
      "text/plain": [
       "'/Users/andrewgarcia-schanz/Desktop/pepp-mal-virt-fin-pt-04-2021-u-c/01-Lesson-Plans/03-Python-Pandas/3/Activities/03-Stu_Sorting'"
      ]
     },
     "execution_count": 24,
     "metadata": {},
     "output_type": "execute_result"
    }
   ],
   "source": []
  },
  {
   "cell_type": "code",
   "execution_count": 25,
   "metadata": {},
   "outputs": [
    {
     "name": "stdout",
     "output_type": "stream",
     "text": [
      "README.md  \u001b[34mResources\u001b[m\u001b[m/ \u001b[34mSolved\u001b[m\u001b[m/    \u001b[34mUnsolved\u001b[m\u001b[m/\n"
     ]
    }
   ],
   "source": [
    "ls"
   ]
  },
  {
   "cell_type": "code",
   "execution_count": 26,
   "metadata": {},
   "outputs": [
    {
     "name": "stdout",
     "output_type": "stream",
     "text": [
      "/Users/andrewgarcia-schanz/Desktop/pepp-mal-virt-fin-pt-04-2021-u-c/01-Lesson-Plans/03-Python-Pandas/3/Activities/03-Stu_Sorting/Resources\n"
     ]
    }
   ],
   "source": [
    "cd Resources/"
   ]
  },
  {
   "cell_type": "code",
   "execution_count": 27,
   "metadata": {},
   "outputs": [
    {
     "data": {
      "text/plain": [
       "'/Users/andrewgarcia-schanz/Desktop/pepp-mal-virt-fin-pt-04-2021-u-c/01-Lesson-Plans/03-Python-Pandas/3/Activities/03-Stu_Sorting/Resources'"
      ]
     },
     "execution_count": 27,
     "metadata": {},
     "output_type": "execute_result"
    }
   ],
   "source": [
    "pwd"
   ]
  },
  {
   "cell_type": "code",
   "execution_count": 28,
   "metadata": {},
   "outputs": [],
   "source": [
    "import pandas as pd\n",
    "from pathlib import Path\n",
    "%matplotlib inline"
   ]
  },
  {
   "cell_type": "code",
   "execution_count": 31,
   "metadata": {},
   "outputs": [
    {
     "data": {
      "text/html": [
       "<div>\n",
       "<style scoped>\n",
       "    .dataframe tbody tr th:only-of-type {\n",
       "        vertical-align: middle;\n",
       "    }\n",
       "\n",
       "    .dataframe tbody tr th {\n",
       "        vertical-align: top;\n",
       "    }\n",
       "\n",
       "    .dataframe thead th {\n",
       "        text-align: right;\n",
       "    }\n",
       "</style>\n",
       "<table border=\"1\" class=\"dataframe\">\n",
       "  <thead>\n",
       "    <tr style=\"text-align: right;\">\n",
       "      <th></th>\n",
       "      <th>Date</th>\n",
       "      <th>Close</th>\n",
       "    </tr>\n",
       "  </thead>\n",
       "  <tbody>\n",
       "    <tr>\n",
       "      <th>0</th>\n",
       "      <td>11/13/18</td>\n",
       "      <td>338.73</td>\n",
       "    </tr>\n",
       "    <tr>\n",
       "      <th>1</th>\n",
       "      <td>11/14/18</td>\n",
       "      <td>344.00</td>\n",
       "    </tr>\n",
       "    <tr>\n",
       "      <th>2</th>\n",
       "      <td>11/15/18</td>\n",
       "      <td>348.44</td>\n",
       "    </tr>\n",
       "    <tr>\n",
       "      <th>3</th>\n",
       "      <td>11/16/18</td>\n",
       "      <td>354.31</td>\n",
       "    </tr>\n",
       "    <tr>\n",
       "      <th>4</th>\n",
       "      <td>11/19/18</td>\n",
       "      <td>353.47</td>\n",
       "    </tr>\n",
       "  </tbody>\n",
       "</table>\n",
       "</div>"
      ],
      "text/plain": [
       "       Date   Close\n",
       "0  11/13/18  338.73\n",
       "1  11/14/18  344.00\n",
       "2  11/15/18  348.44\n",
       "3  11/16/18  354.31\n",
       "4  11/19/18  353.47"
      ]
     },
     "execution_count": 31,
     "metadata": {},
     "output_type": "execute_result"
    }
   ],
   "source": [
    "# Read in csv\n",
    "csv_path = Path(\"../Resources/tsla_google_finance.csv\")\n",
    "tsla_df = pd.read_csv(csv_path)\n",
    "tsla_df.head()"
   ]
  },
  {
   "cell_type": "code",
   "execution_count": 32,
   "metadata": {},
   "outputs": [
    {
     "data": {
      "text/html": [
       "<div>\n",
       "<style scoped>\n",
       "    .dataframe tbody tr th:only-of-type {\n",
       "        vertical-align: middle;\n",
       "    }\n",
       "\n",
       "    .dataframe tbody tr th {\n",
       "        vertical-align: top;\n",
       "    }\n",
       "\n",
       "    .dataframe thead th {\n",
       "        text-align: right;\n",
       "    }\n",
       "</style>\n",
       "<table border=\"1\" class=\"dataframe\">\n",
       "  <thead>\n",
       "    <tr style=\"text-align: right;\">\n",
       "      <th></th>\n",
       "      <th>Close</th>\n",
       "    </tr>\n",
       "    <tr>\n",
       "      <th>Date</th>\n",
       "      <th></th>\n",
       "    </tr>\n",
       "  </thead>\n",
       "  <tbody>\n",
       "    <tr>\n",
       "      <th>11/13/18</th>\n",
       "      <td>338.73</td>\n",
       "    </tr>\n",
       "    <tr>\n",
       "      <th>11/14/18</th>\n",
       "      <td>344.00</td>\n",
       "    </tr>\n",
       "    <tr>\n",
       "      <th>11/15/18</th>\n",
       "      <td>348.44</td>\n",
       "    </tr>\n",
       "    <tr>\n",
       "      <th>11/16/18</th>\n",
       "      <td>354.31</td>\n",
       "    </tr>\n",
       "    <tr>\n",
       "      <th>11/19/18</th>\n",
       "      <td>353.47</td>\n",
       "    </tr>\n",
       "  </tbody>\n",
       "</table>\n",
       "</div>"
      ],
      "text/plain": [
       "           Close\n",
       "Date            \n",
       "11/13/18  338.73\n",
       "11/14/18  344.00\n",
       "11/15/18  348.44\n",
       "11/16/18  354.31\n",
       "11/19/18  353.47"
      ]
     },
     "execution_count": 32,
     "metadata": {},
     "output_type": "execute_result"
    }
   ],
   "source": [
    " # Set `Date` as index\n",
    "tsla_df = tsla_df.set_index('Date')\n",
    "tsla_df.head()"
   ]
  },
  {
   "cell_type": "code",
   "execution_count": 33,
   "metadata": {},
   "outputs": [
    {
     "data": {
      "text/html": [
       "<div>\n",
       "<style scoped>\n",
       "    .dataframe tbody tr th:only-of-type {\n",
       "        vertical-align: middle;\n",
       "    }\n",
       "\n",
       "    .dataframe tbody tr th {\n",
       "        vertical-align: top;\n",
       "    }\n",
       "\n",
       "    .dataframe thead th {\n",
       "        text-align: right;\n",
       "    }\n",
       "</style>\n",
       "<table border=\"1\" class=\"dataframe\">\n",
       "  <thead>\n",
       "    <tr style=\"text-align: right;\">\n",
       "      <th></th>\n",
       "      <th>Close</th>\n",
       "    </tr>\n",
       "    <tr>\n",
       "      <th>Date</th>\n",
       "      <th></th>\n",
       "    </tr>\n",
       "  </thead>\n",
       "  <tbody>\n",
       "    <tr>\n",
       "      <th>11/13/18</th>\n",
       "      <td>338.73</td>\n",
       "    </tr>\n",
       "    <tr>\n",
       "      <th>11/14/18</th>\n",
       "      <td>344.00</td>\n",
       "    </tr>\n",
       "    <tr>\n",
       "      <th>11/15/18</th>\n",
       "      <td>348.44</td>\n",
       "    </tr>\n",
       "    <tr>\n",
       "      <th>11/16/18</th>\n",
       "      <td>354.31</td>\n",
       "    </tr>\n",
       "    <tr>\n",
       "      <th>11/19/18</th>\n",
       "      <td>353.47</td>\n",
       "    </tr>\n",
       "  </tbody>\n",
       "</table>\n",
       "</div>"
      ],
      "text/plain": [
       "           Close\n",
       "Date            \n",
       "11/13/18  338.73\n",
       "11/14/18  344.00\n",
       "11/15/18  348.44\n",
       "11/16/18  354.31\n",
       "11/19/18  353.47"
      ]
     },
     "execution_count": 33,
     "metadata": {},
     "output_type": "execute_result"
    }
   ],
   "source": [
    "# Check for nulls\n",
    "tsla_df.isnull().mean() * 100\n",
    "tsla_df.isnull().sum()\n",
    "\n",
    "# Drop missing values\n",
    "tsla_df = tsla_df.dropna()\n",
    "\n",
    "# Validate no more missing values\n",
    "tsla_df.isnull().sum()\n",
    "tsla_df.head()"
   ]
  },
  {
   "cell_type": "code",
   "execution_count": 34,
   "metadata": {},
   "outputs": [
    {
     "data": {
      "text/html": [
       "<div>\n",
       "<style scoped>\n",
       "    .dataframe tbody tr th:only-of-type {\n",
       "        vertical-align: middle;\n",
       "    }\n",
       "\n",
       "    .dataframe tbody tr th {\n",
       "        vertical-align: top;\n",
       "    }\n",
       "\n",
       "    .dataframe thead th {\n",
       "        text-align: right;\n",
       "    }\n",
       "</style>\n",
       "<table border=\"1\" class=\"dataframe\">\n",
       "  <thead>\n",
       "    <tr style=\"text-align: right;\">\n",
       "      <th></th>\n",
       "      <th>Close</th>\n",
       "    </tr>\n",
       "    <tr>\n",
       "      <th>Date</th>\n",
       "      <th></th>\n",
       "    </tr>\n",
       "  </thead>\n",
       "  <tbody>\n",
       "    <tr>\n",
       "      <th>11/13/18</th>\n",
       "      <td>NaN</td>\n",
       "    </tr>\n",
       "    <tr>\n",
       "      <th>11/14/18</th>\n",
       "      <td>0.015558</td>\n",
       "    </tr>\n",
       "    <tr>\n",
       "      <th>11/15/18</th>\n",
       "      <td>0.012907</td>\n",
       "    </tr>\n",
       "    <tr>\n",
       "      <th>11/16/18</th>\n",
       "      <td>0.016847</td>\n",
       "    </tr>\n",
       "    <tr>\n",
       "      <th>11/19/18</th>\n",
       "      <td>-0.002371</td>\n",
       "    </tr>\n",
       "  </tbody>\n",
       "</table>\n",
       "</div>"
      ],
      "text/plain": [
       "             Close\n",
       "Date              \n",
       "11/13/18       NaN\n",
       "11/14/18  0.015558\n",
       "11/15/18  0.012907\n",
       "11/16/18  0.016847\n",
       "11/19/18 -0.002371"
      ]
     },
     "execution_count": 34,
     "metadata": {},
     "output_type": "execute_result"
    }
   ],
   "source": [
    "# Calculate daily returns\n",
    "tsla_daily_returns = tsla_df.pct_change()\n",
    "tsla_daily_returns.head()"
   ]
  },
  {
   "cell_type": "code",
   "execution_count": 35,
   "metadata": {},
   "outputs": [
    {
     "data": {
      "text/html": [
       "<div>\n",
       "<style scoped>\n",
       "    .dataframe tbody tr th:only-of-type {\n",
       "        vertical-align: middle;\n",
       "    }\n",
       "\n",
       "    .dataframe tbody tr th {\n",
       "        vertical-align: top;\n",
       "    }\n",
       "\n",
       "    .dataframe thead th {\n",
       "        text-align: right;\n",
       "    }\n",
       "</style>\n",
       "<table border=\"1\" class=\"dataframe\">\n",
       "  <thead>\n",
       "    <tr style=\"text-align: right;\">\n",
       "      <th></th>\n",
       "      <th>Close</th>\n",
       "    </tr>\n",
       "    <tr>\n",
       "      <th>Date</th>\n",
       "      <th></th>\n",
       "    </tr>\n",
       "  </thead>\n",
       "  <tbody>\n",
       "    <tr>\n",
       "      <th>12/26/18</th>\n",
       "      <td>0.103930</td>\n",
       "    </tr>\n",
       "    <tr>\n",
       "      <th>11/26/18</th>\n",
       "      <td>0.061903</td>\n",
       "    </tr>\n",
       "    <tr>\n",
       "      <th>1/4/19</th>\n",
       "      <td>0.057697</td>\n",
       "    </tr>\n",
       "    <tr>\n",
       "      <th>2/27/19</th>\n",
       "      <td>0.056671</td>\n",
       "    </tr>\n",
       "    <tr>\n",
       "      <th>12/28/18</th>\n",
       "      <td>0.056116</td>\n",
       "    </tr>\n",
       "  </tbody>\n",
       "</table>\n",
       "</div>"
      ],
      "text/plain": [
       "             Close\n",
       "Date              \n",
       "12/26/18  0.103930\n",
       "11/26/18  0.061903\n",
       "1/4/19    0.057697\n",
       "2/27/19   0.056671\n",
       "12/28/18  0.056116"
      ]
     },
     "execution_count": 35,
     "metadata": {},
     "output_type": "execute_result"
    }
   ],
   "source": [
    " # Sort data by `Close` in descending order\n",
    "tsla_top_changes = tsla_daily_returns.sort_values(\"Close\", ascending=False)\n",
    "tsla_top_changes.head()"
   ]
  },
  {
   "cell_type": "code",
   "execution_count": 36,
   "metadata": {},
   "outputs": [
    {
     "data": {
      "text/html": [
       "<div>\n",
       "<style scoped>\n",
       "    .dataframe tbody tr th:only-of-type {\n",
       "        vertical-align: middle;\n",
       "    }\n",
       "\n",
       "    .dataframe tbody tr th {\n",
       "        vertical-align: top;\n",
       "    }\n",
       "\n",
       "    .dataframe thead th {\n",
       "        text-align: right;\n",
       "    }\n",
       "</style>\n",
       "<table border=\"1\" class=\"dataframe\">\n",
       "  <thead>\n",
       "    <tr style=\"text-align: right;\">\n",
       "      <th></th>\n",
       "      <th>Close</th>\n",
       "    </tr>\n",
       "    <tr>\n",
       "      <th>Date</th>\n",
       "      <th></th>\n",
       "    </tr>\n",
       "  </thead>\n",
       "  <tbody>\n",
       "    <tr>\n",
       "      <th>12/26/18</th>\n",
       "      <td>0.103930</td>\n",
       "    </tr>\n",
       "    <tr>\n",
       "      <th>11/26/18</th>\n",
       "      <td>0.061903</td>\n",
       "    </tr>\n",
       "    <tr>\n",
       "      <th>1/4/19</th>\n",
       "      <td>0.057697</td>\n",
       "    </tr>\n",
       "    <tr>\n",
       "      <th>2/27/19</th>\n",
       "      <td>0.056671</td>\n",
       "    </tr>\n",
       "    <tr>\n",
       "      <th>12/28/18</th>\n",
       "      <td>0.056116</td>\n",
       "    </tr>\n",
       "  </tbody>\n",
       "</table>\n",
       "</div>"
      ],
      "text/plain": [
       "             Close\n",
       "Date              \n",
       "12/26/18  0.103930\n",
       "11/26/18  0.061903\n",
       "1/4/19    0.057697\n",
       "2/27/19   0.056671\n",
       "12/28/18  0.056116"
      ]
     },
     "execution_count": 36,
     "metadata": {},
     "output_type": "execute_result"
    }
   ],
   "source": [
    "# Slice out top 5\n",
    "tsla_top_five = tsla_top_changes.iloc[:5]\n",
    "tsla_top_five"
   ]
  },
  {
   "cell_type": "code",
   "execution_count": 37,
   "metadata": {},
   "outputs": [
    {
     "data": {
      "text/plain": [
       "<AxesSubplot:xlabel='Date'>"
      ]
     },
     "execution_count": 37,
     "metadata": {},
     "output_type": "execute_result"
    },
    {
     "data": {
      "image/png": "[encoded data removed]",
      "text/plain": [
       "<Figure size 432x288 with 1 Axes>"
      ]
     },
     "metadata": {
      "needs_background": "light"
     },
     "output_type": "display_data"
    }
   ],
   "source": [
    "# Plot top 5 performing days\n",
    "tsla_top_five.plot()"
   ]
  },
  {
   "cell_type": "code",
   "execution_count": 38,
   "metadata": {},
   "outputs": [
    {
     "data": {
      "text/plain": [
       "<AxesSubplot:xlabel='Date'>"
      ]
     },
     "execution_count": 38,
     "metadata": {},
     "output_type": "execute_result"
    },
    {
     "data": {
      "image/png": "[encoded data removed]",
      "text/plain": [
       "<Figure size 432x288 with 1 Axes>"
      ]
     },
     "metadata": {
      "needs_background": "light"
     },
     "output_type": "display_data"
    }
   ],
   "source": [
    "# Alternatively, visualizing the returns as a bar chart:\n",
    "tsla_top_five.plot(kind='bar')"
   ]
  },
  {
   "cell_type": "code",
   "execution_count": null,
   "metadata": {},
   "outputs": [],
   "source": []
  }
 ],
 "metadata": {
  "kernelspec": {
   "display_name": "Python 3",
   "language": "python",
   "name": "python3"
  },
  "language_info": {
   "codemirror_mode": {
    "name": "ipython",
    "version": 3
   },
   "file_extension": ".py",
   "mimetype": "text/x-python",
   "name": "python",
   "nbconvert_exporter": "python",
   "pygments_lexer": "ipython3",
   "version": "3.8.5"
  }
 },
 "nbformat": 4,
 "nbformat_minor": 4
}
