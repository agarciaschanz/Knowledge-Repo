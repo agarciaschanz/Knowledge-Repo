{
 "cells": [
  {
   "cell_type": "code",
   "execution_count": 1,
   "metadata": {},
   "outputs": [],
   "source": [
    "import pandas as pd\n",
    "from pathlib import Path\n",
    "csvpath = Path('../Resources/nasdaq.csv')\n",
    "df = pd.read_csv(csvpath, parse_dates=True, index_col='Date')\n",
    "%matplotlib inline"
   ]
  },
  {
   "cell_type": "code",
   "execution_count": 2,
   "metadata": {},
   "outputs": [
    {
     "data": {
      "text/html": [
       "<div>\n",
       "<style scoped>\n",
       "    .dataframe tbody tr th:only-of-type {\n",
       "        vertical-align: middle;\n",
       "    }\n",
       "\n",
       "    .dataframe tbody tr th {\n",
       "        vertical-align: top;\n",
       "    }\n",
       "\n",
       "    .dataframe thead th {\n",
       "        text-align: right;\n",
       "    }\n",
       "</style>\n",
       "<table border=\"1\" class=\"dataframe\">\n",
       "  <thead>\n",
       "    <tr style=\"text-align: right;\">\n",
       "      <th></th>\n",
       "      <th>Open</th>\n",
       "      <th>High</th>\n",
       "      <th>Low</th>\n",
       "      <th>Close</th>\n",
       "      <th>Adj Close</th>\n",
       "      <th>Volume</th>\n",
       "      <th>Return</th>\n",
       "    </tr>\n",
       "    <tr>\n",
       "      <th>Date</th>\n",
       "      <th></th>\n",
       "      <th></th>\n",
       "      <th></th>\n",
       "      <th></th>\n",
       "      <th></th>\n",
       "      <th></th>\n",
       "      <th></th>\n",
       "    </tr>\n",
       "  </thead>\n",
       "  <tbody>\n",
       "    <tr>\n",
       "      <td>2012-01-03</td>\n",
       "      <td>25.030001</td>\n",
       "      <td>25.270000</td>\n",
       "      <td>24.910000</td>\n",
       "      <td>24.959999</td>\n",
       "      <td>21.894108</td>\n",
       "      <td>1468800</td>\n",
       "      <td>0.018360</td>\n",
       "    </tr>\n",
       "    <tr>\n",
       "      <td>2012-01-04</td>\n",
       "      <td>24.690001</td>\n",
       "      <td>24.799999</td>\n",
       "      <td>24.430000</td>\n",
       "      <td>24.620001</td>\n",
       "      <td>21.595875</td>\n",
       "      <td>1100900</td>\n",
       "      <td>-0.013622</td>\n",
       "    </tr>\n",
       "    <tr>\n",
       "      <td>2012-01-05</td>\n",
       "      <td>24.360001</td>\n",
       "      <td>24.719999</td>\n",
       "      <td>24.139999</td>\n",
       "      <td>24.660000</td>\n",
       "      <td>21.630962</td>\n",
       "      <td>1072200</td>\n",
       "      <td>0.001625</td>\n",
       "    </tr>\n",
       "    <tr>\n",
       "      <td>2012-01-06</td>\n",
       "      <td>24.629999</td>\n",
       "      <td>24.900000</td>\n",
       "      <td>24.379999</td>\n",
       "      <td>24.430000</td>\n",
       "      <td>21.429213</td>\n",
       "      <td>1192400</td>\n",
       "      <td>-0.009327</td>\n",
       "    </tr>\n",
       "    <tr>\n",
       "      <td>2012-01-09</td>\n",
       "      <td>24.410000</td>\n",
       "      <td>24.660000</td>\n",
       "      <td>24.270000</td>\n",
       "      <td>24.330000</td>\n",
       "      <td>21.341490</td>\n",
       "      <td>863900</td>\n",
       "      <td>-0.004093</td>\n",
       "    </tr>\n",
       "  </tbody>\n",
       "</table>\n",
       "</div>"
      ],
      "text/plain": [
       "                 Open       High        Low      Close  Adj Close   Volume  \\\n",
       "Date                                                                         \n",
       "2012-01-03  25.030001  25.270000  24.910000  24.959999  21.894108  1468800   \n",
       "2012-01-04  24.690001  24.799999  24.430000  24.620001  21.595875  1100900   \n",
       "2012-01-05  24.360001  24.719999  24.139999  24.660000  21.630962  1072200   \n",
       "2012-01-06  24.629999  24.900000  24.379999  24.430000  21.429213  1192400   \n",
       "2012-01-09  24.410000  24.660000  24.270000  24.330000  21.341490   863900   \n",
       "\n",
       "              Return  \n",
       "Date                  \n",
       "2012-01-03  0.018360  \n",
       "2012-01-04 -0.013622  \n",
       "2012-01-05  0.001625  \n",
       "2012-01-06 -0.009327  \n",
       "2012-01-09 -0.004093  "
      ]
     },
     "execution_count": 2,
     "metadata": {},
     "output_type": "execute_result"
    }
   ],
   "source": [
    "df.head()"
   ]
  },
  {
   "cell_type": "code",
   "execution_count": 3,
   "metadata": {},
   "outputs": [
    {
     "data": {
      "text/plain": [
       "<matplotlib.axes._subplots.AxesSubplot at 0x7fe900c9e790>"
      ]
     },
     "execution_count": 3,
     "metadata": {},
     "output_type": "execute_result"
    },
    {
     "data": {
      "image/png": "[encoded data removed]",
      "text/plain": [
       "<Figure size 432x288 with 1 Axes>"
      ]
     },
     "metadata": {
      "needs_background": "light"
     },
     "output_type": "display_data"
    }
   ],
   "source": [
    "# The series is non-stationary (Trends upwards)\n",
    "df.Close.plot()"
   ]
  },
  {
   "cell_type": "code",
   "execution_count": 4,
   "metadata": {},
   "outputs": [
    {
     "data": {
      "text/html": [
       "<div>\n",
       "<style scoped>\n",
       "    .dataframe tbody tr th:only-of-type {\n",
       "        vertical-align: middle;\n",
       "    }\n",
       "\n",
       "    .dataframe tbody tr th {\n",
       "        vertical-align: top;\n",
       "    }\n",
       "\n",
       "    .dataframe thead th {\n",
       "        text-align: right;\n",
       "    }\n",
       "</style>\n",
       "<table border=\"1\" class=\"dataframe\">\n",
       "  <thead>\n",
       "    <tr style=\"text-align: right;\">\n",
       "      <th></th>\n",
       "      <th>Open</th>\n",
       "      <th>High</th>\n",
       "      <th>Low</th>\n",
       "      <th>Close</th>\n",
       "      <th>Adj Close</th>\n",
       "      <th>Volume</th>\n",
       "      <th>Return</th>\n",
       "    </tr>\n",
       "    <tr>\n",
       "      <th>Date</th>\n",
       "      <th></th>\n",
       "      <th></th>\n",
       "      <th></th>\n",
       "      <th></th>\n",
       "      <th></th>\n",
       "      <th></th>\n",
       "      <th></th>\n",
       "    </tr>\n",
       "  </thead>\n",
       "  <tbody>\n",
       "    <tr>\n",
       "      <td>2012-01-04</td>\n",
       "      <td>24.690001</td>\n",
       "      <td>24.799999</td>\n",
       "      <td>24.430000</td>\n",
       "      <td>24.620001</td>\n",
       "      <td>21.595875</td>\n",
       "      <td>1100900</td>\n",
       "      <td>-0.013622</td>\n",
       "    </tr>\n",
       "    <tr>\n",
       "      <td>2012-01-05</td>\n",
       "      <td>24.360001</td>\n",
       "      <td>24.719999</td>\n",
       "      <td>24.139999</td>\n",
       "      <td>24.660000</td>\n",
       "      <td>21.630962</td>\n",
       "      <td>1072200</td>\n",
       "      <td>0.001625</td>\n",
       "    </tr>\n",
       "    <tr>\n",
       "      <td>2012-01-06</td>\n",
       "      <td>24.629999</td>\n",
       "      <td>24.900000</td>\n",
       "      <td>24.379999</td>\n",
       "      <td>24.430000</td>\n",
       "      <td>21.429213</td>\n",
       "      <td>1192400</td>\n",
       "      <td>-0.009327</td>\n",
       "    </tr>\n",
       "    <tr>\n",
       "      <td>2012-01-09</td>\n",
       "      <td>24.410000</td>\n",
       "      <td>24.660000</td>\n",
       "      <td>24.270000</td>\n",
       "      <td>24.330000</td>\n",
       "      <td>21.341490</td>\n",
       "      <td>863900</td>\n",
       "      <td>-0.004093</td>\n",
       "    </tr>\n",
       "    <tr>\n",
       "      <td>2012-01-10</td>\n",
       "      <td>24.580000</td>\n",
       "      <td>25.250000</td>\n",
       "      <td>24.490000</td>\n",
       "      <td>25.170000</td>\n",
       "      <td>22.078316</td>\n",
       "      <td>2647200</td>\n",
       "      <td>0.034525</td>\n",
       "    </tr>\n",
       "  </tbody>\n",
       "</table>\n",
       "</div>"
      ],
      "text/plain": [
       "                 Open       High        Low      Close  Adj Close   Volume  \\\n",
       "Date                                                                         \n",
       "2012-01-04  24.690001  24.799999  24.430000  24.620001  21.595875  1100900   \n",
       "2012-01-05  24.360001  24.719999  24.139999  24.660000  21.630962  1072200   \n",
       "2012-01-06  24.629999  24.900000  24.379999  24.430000  21.429213  1192400   \n",
       "2012-01-09  24.410000  24.660000  24.270000  24.330000  21.341490   863900   \n",
       "2012-01-10  24.580000  25.250000  24.490000  25.170000  22.078316  2647200   \n",
       "\n",
       "              Return  \n",
       "Date                  \n",
       "2012-01-04 -0.013622  \n",
       "2012-01-05  0.001625  \n",
       "2012-01-06 -0.009327  \n",
       "2012-01-09 -0.004093  \n",
       "2012-01-10  0.034525  "
      ]
     },
     "execution_count": 4,
     "metadata": {},
     "output_type": "execute_result"
    }
   ],
   "source": [
    "# Transform into a stationary process\n",
    "df['Return'] = df['Close'].pct_change()\n",
    "df = df.dropna()\n",
    "df.head()"
   ]
  },
  {
   "cell_type": "code",
   "execution_count": 5,
   "metadata": {},
   "outputs": [],
   "source": [
    "# Select only the returns\n",
    "returns = df.loc[:, 'Return']"
   ]
  },
  {
   "cell_type": "code",
   "execution_count": 6,
   "metadata": {},
   "outputs": [
    {
     "data": {
      "text/plain": [
       "<matplotlib.axes._subplots.AxesSubplot at 0x7fe900ce0390>"
      ]
     },
     "execution_count": 6,
     "metadata": {},
     "output_type": "execute_result"
    },
    {
     "data": {
      "image/png": "[encoded data removed]",
      "text/plain": [
       "<Figure size 432x288 with 1 Axes>"
      ]
     },
     "metadata": {
      "needs_background": "light"
     },
     "output_type": "display_data"
    }
   ],
   "source": [
    "# Stationarity now seen\n",
    "returns.plot()"
   ]
  },
  {
   "cell_type": "markdown",
   "metadata": {},
   "source": [
    "# ARMA Model"
   ]
  },
  {
   "cell_type": "code",
   "execution_count": 7,
   "metadata": {},
   "outputs": [],
   "source": [
    "# Import the ARMA model\n",
    "from statsmodels.tsa.arima_model import ARMA"
   ]
  },
  {
   "cell_type": "code",
   "execution_count": 8,
   "metadata": {},
   "outputs": [],
   "source": [
    "# Create the ARMA model using the return values and the order\n",
    "# For the order parameter, the first 1 indicates the number of AR lags\n",
    "# For the order parameter, the second 1 indicates the number of MA lags\n",
    "model = ARMA(returns.values, order=(1,1))"
   ]
  },
  {
   "cell_type": "code",
   "execution_count": 9,
   "metadata": {},
   "outputs": [],
   "source": [
    "# Fit the model to the data\n",
    "results = model.fit()"
   ]
  },
  {
   "cell_type": "code",
   "execution_count": 10,
   "metadata": {},
   "outputs": [
    {
     "data": {
      "text/plain": [
       "<matplotlib.axes._subplots.AxesSubplot at 0x7fe910b808d0>"
      ]
     },
     "execution_count": 10,
     "metadata": {},
     "output_type": "execute_result"
    },
    {
     "data": {
      "image/png": "[encoded data removed]",
      "text/plain": [
       "<Figure size 432x288 with 1 Axes>"
      ]
     },
     "metadata": {
      "needs_background": "light"
     },
     "output_type": "display_data"
    }
   ],
   "source": [
    "# Plot the forecasted return for the next 10 days\n",
    "pd.DataFrame(results.forecast(steps=10)[0]).plot(title=\"Stock Return Forecast\")"
   ]
  },
  {
   "cell_type": "code",
   "execution_count": 11,
   "metadata": {},
   "outputs": [
    {
     "data": {
      "text/html": [
       "<table class=\"simpletable\">\n",
       "<caption>ARMA Model Results</caption>\n",
       "<tr>\n",
       "  <th>Dep. Variable:</th>         <td>y</td>        <th>  No. Observations:  </th>    <td>1884</td>   \n",
       "</tr>\n",
       "<tr>\n",
       "  <th>Model:</th>            <td>ARMA(1, 1)</td>    <th>  Log Likelihood     </th>  <td>5578.344</td> \n",
       "</tr>\n",
       "<tr>\n",
       "  <th>Method:</th>             <td>css-mle</td>     <th>  S.D. of innovations</th>    <td>0.013</td>  \n",
       "</tr>\n",
       "<tr>\n",
       "  <th>Date:</th>          <td>Wed, 11 Sep 2019</td> <th>  AIC                </th> <td>-11148.689</td>\n",
       "</tr>\n",
       "<tr>\n",
       "  <th>Time:</th>              <td>14:04:51</td>     <th>  BIC                </th> <td>-11126.524</td>\n",
       "</tr>\n",
       "<tr>\n",
       "  <th>Sample:</th>                <td>0</td>        <th>  HQIC               </th> <td>-11140.526</td>\n",
       "</tr>\n",
       "<tr>\n",
       "  <th></th>                       <td> </td>        <th>                     </th>      <td> </td>    \n",
       "</tr>\n",
       "</table>\n",
       "<table class=\"simpletable\">\n",
       "<tr>\n",
       "     <td></td>        <th>coef</th>     <th>std err</th>      <th>z</th>      <th>P>|z|</th>  <th>[0.025</th>    <th>0.975]</th>  \n",
       "</tr>\n",
       "<tr>\n",
       "  <th>const</th>   <td>    0.0008</td> <td>    0.000</td> <td>    3.040</td> <td> 0.002</td> <td>    0.000</td> <td>    0.001</td>\n",
       "</tr>\n",
       "<tr>\n",
       "  <th>ar.L1.y</th> <td>    0.6502</td> <td>    0.258</td> <td>    2.516</td> <td> 0.012</td> <td>    0.144</td> <td>    1.157</td>\n",
       "</tr>\n",
       "<tr>\n",
       "  <th>ma.L1.y</th> <td>   -0.6808</td> <td>    0.249</td> <td>   -2.734</td> <td> 0.006</td> <td>   -1.169</td> <td>   -0.193</td>\n",
       "</tr>\n",
       "</table>\n",
       "<table class=\"simpletable\">\n",
       "<caption>Roots</caption>\n",
       "<tr>\n",
       "    <td></td>   <th>            Real</th>  <th>         Imaginary</th> <th>         Modulus</th>  <th>        Frequency</th>\n",
       "</tr>\n",
       "<tr>\n",
       "  <th>AR.1</th> <td>           1.5379</td> <td>          +0.0000j</td> <td>           1.5379</td> <td>           0.0000</td>\n",
       "</tr>\n",
       "<tr>\n",
       "  <th>MA.1</th> <td>           1.4688</td> <td>          +0.0000j</td> <td>           1.4688</td> <td>           0.0000</td>\n",
       "</tr>\n",
       "</table>"
      ],
      "text/plain": [
       "<class 'statsmodels.iolib.summary.Summary'>\n",
       "\"\"\"\n",
       "                              ARMA Model Results                              \n",
       "==============================================================================\n",
       "Dep. Variable:                      y   No. Observations:                 1884\n",
       "Model:                     ARMA(1, 1)   Log Likelihood                5578.344\n",
       "Method:                       css-mle   S.D. of innovations              0.013\n",
       "Date:                Wed, 11 Sep 2019   AIC                         -11148.689\n",
       "Time:                        14:04:51   BIC                         -11126.524\n",
       "Sample:                             0   HQIC                        -11140.526\n",
       "                                                                              \n",
       "==============================================================================\n",
       "                 coef    std err          z      P>|z|      [0.025      0.975]\n",
       "------------------------------------------------------------------------------\n",
       "const          0.0008      0.000      3.040      0.002       0.000       0.001\n",
       "ar.L1.y        0.6502      0.258      2.516      0.012       0.144       1.157\n",
       "ma.L1.y       -0.6808      0.249     -2.734      0.006      -1.169      -0.193\n",
       "                                    Roots                                    \n",
       "=============================================================================\n",
       "                  Real          Imaginary           Modulus         Frequency\n",
       "-----------------------------------------------------------------------------\n",
       "AR.1            1.5379           +0.0000j            1.5379            0.0000\n",
       "MA.1            1.4688           +0.0000j            1.4688            0.0000\n",
       "-----------------------------------------------------------------------------\n",
       "\"\"\""
      ]
     },
     "execution_count": 11,
     "metadata": {},
     "output_type": "execute_result"
    }
   ],
   "source": [
    "# Summarize the model\n",
    "results.summary()"
   ]
  },
  {
   "cell_type": "code",
   "execution_count": null,
   "metadata": {},
   "outputs": [],
   "source": []
  }
 ],
 "metadata": {
  "kernelspec": {
   "display_name": "dev",
   "language": "python",
   "name": "dev"
  },
  "language_info": {
   "codemirror_mode": {
    "name": "ipython",
    "version": 3
   },
   "file_extension": ".py",
   "mimetype": "text/x-python",
   "name": "python",
   "nbconvert_exporter": "python",
   "pygments_lexer": "ipython3",
   "version": "3.7.4"
  }
 },
 "nbformat": 4,
 "nbformat_minor": 4
}