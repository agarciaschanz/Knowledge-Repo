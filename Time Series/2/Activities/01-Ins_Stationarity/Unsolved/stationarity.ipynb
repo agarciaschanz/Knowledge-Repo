{
 "cells": [
  {
   "cell_type": "code",
   "execution_count": null,
   "metadata": {},
   "outputs": [],
   "source": [
    "import numpy as np\n",
    "import pandas as pd\n",
    "import random\n",
    "%matplotlib inline"
   ]
  },
  {
   "cell_type": "code",
   "execution_count": null,
   "metadata": {},
   "outputs": [],
   "source": [
    "# Data Generation\n",
    "# Warning! Boilerplate code\n",
    "n = 100\n",
    "x = np.arange(n)\n",
    "y_stationary = np.random.normal(0, 1, n)\n",
    "\n",
    "y_nonstationary = [random.random() + (x * .01) for x in range(100)]\n",
    "\n",
    "df = pd.DataFrame({\n",
    "    \"Stationary\": y_stationary,\n",
    "    \"Nonstationary\": y_nonstationary\n",
    "})"
   ]
  },
  {
   "cell_type": "code",
   "execution_count": null,
   "metadata": {},
   "outputs": [],
   "source": []
  }
 ],
 "metadata": {
  "kernelspec": {
   "display_name": "dev",
   "language": "python",
   "name": "dev"
  },
  "language_info": {
   "codemirror_mode": {
    "name": "ipython",
    "version": 3
   },
   "file_extension": ".py",
   "mimetype": "text/x-python",
   "name": "python",
   "nbconvert_exporter": "python",
   "pygments_lexer": "ipython3",
   "version": "3.7.4"
  }
 },
 "nbformat": 4,
 "nbformat_minor": 4
}
