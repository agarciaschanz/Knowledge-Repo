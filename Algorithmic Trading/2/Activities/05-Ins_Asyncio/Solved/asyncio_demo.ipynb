{
 "cells": [
  {
   "cell_type": "code",
   "execution_count": 1,
   "metadata": {},
   "outputs": [],
   "source": [
    "from IPython.display import Markdown\n",
    "import asyncio\n",
    "import time"
   ]
  },
  {
   "cell_type": "code",
   "execution_count": 2,
   "metadata": {},
   "outputs": [
    {
     "name": "stdout",
     "output_type": "stream",
     "text": [
      "data\n",
      "plot\n"
     ]
    }
   ],
   "source": [
    "def fetch_data():\n",
    "    time.sleep(3)\n",
    "    print(\"data\")\n",
    "\n",
    "def serve_plot():\n",
    "    print(\"plot\")\n",
    "\n",
    "fetch_data()\n",
    "serve_plot()"
   ]
  },
  {
   "cell_type": "code",
   "execution_count": 3,
   "metadata": {},
   "outputs": [
    {
     "name": "stdout",
     "output_type": "stream",
     "text": [
      "plot\n",
      "data\n"
     ]
    }
   ],
   "source": [
    "async def fetch_data():\n",
    "    await asyncio.sleep(3)\n",
    "    print(\"data\")\n",
    "\n",
    "def serve_plot():\n",
    "    print(\"plot\")\n",
    "\n",
    "loop = asyncio.get_event_loop()\n",
    "\n",
    "loop.create_task(fetch_data())\n",
    "serve_plot()"
   ]
  },
  {
   "cell_type": "code",
   "execution_count": 4,
   "metadata": {},
   "outputs": [
    {
     "data": {
      "text/markdown": [
       "# My Plot"
      ],
      "text/plain": [
       "<IPython.core.display.Markdown object>"
      ]
     },
     "execution_count": 4,
     "metadata": {},
     "output_type": "execute_result"
    },
    {
     "name": "stdout",
     "output_type": "stream",
     "text": [
      "data\n"
     ]
    }
   ],
   "source": [
    "async def fetch_data():\n",
    "    await asyncio.sleep(3)\n",
    "    print(\"data\")\n",
    "\n",
    "def serve_plot():\n",
    "    plot = Markdown(\"# My Plot\")\n",
    "    return plot\n",
    "\n",
    "loop = asyncio.get_event_loop()\n",
    "\n",
    "loop.create_task(fetch_data())\n",
    "serve_plot()"
   ]
  }
 ],
 "metadata": {
  "kernelspec": {
   "display_name": "Python 3",
   "language": "python",
   "name": "python3"
  },
  "language_info": {
   "codemirror_mode": {
    "name": "ipython",
    "version": 3
   },
   "file_extension": ".py",
   "mimetype": "text/x-python",
   "name": "python",
   "nbconvert_exporter": "python",
   "pygments_lexer": "ipython3",
   "version": "3.7.7"
  }
 },
 "nbformat": 4,
 "nbformat_minor": 4
}
