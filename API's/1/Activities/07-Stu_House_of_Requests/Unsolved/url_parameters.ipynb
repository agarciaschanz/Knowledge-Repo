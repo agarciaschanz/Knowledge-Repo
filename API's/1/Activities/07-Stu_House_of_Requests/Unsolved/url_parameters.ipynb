{
 "cells": [
  {
   "cell_type": "markdown",
   "metadata": {},
   "source": [
    "# House of Requests"
   ]
  },
  {
   "cell_type": "markdown",
   "metadata": {},
   "source": [
    "Use the `Deck of Cards` API to play a game of BlackJack with a partner. Parameterize the `Deck of Cards` API `request urls` in order to create the deck of cards, as well as draw cards for the game."
   ]
  },
  {
   "cell_type": "code",
   "execution_count": 2,
   "metadata": {},
   "outputs": [],
   "source": [
    "import requests\n",
    "import json"
   ]
  },
  {
   "cell_type": "markdown",
   "metadata": {},
   "source": [
    "## Prep for the Game"
   ]
  },
  {
   "cell_type": "code",
   "execution_count": 7,
   "metadata": {},
   "outputs": [],
   "source": [
    "# Declare request url to create deck id\n",
    "create_deck_url = \"https://deckofcardsapi.com/api/deck/new/shuffle/?deck_count=6\"\n",
    "\n",
    "# Execute create deck url\n",
    "#requests.get(create_deck_url)\n",
    "response_data = requests.get(create_deck_url)"
   ]
  },
  {
   "cell_type": "markdown",
   "metadata": {},
   "source": [
    "### Parse JSON and extract `deck_id`"
   ]
  },
  {
   "cell_type": "code",
   "execution_count": 9,
   "metadata": {},
   "outputs": [
    {
     "name": "stdout",
     "output_type": "stream",
     "text": [
      "b'{\"success\": true, \"deck_id\": \"4w60xasrcics\", \"remaining\": 312, \"shuffled\": true}'\n"
     ]
    }
   ],
   "source": [
    "# Select deck_id\n",
    "response_content = response_data.content\n",
    "print(response_content)"
   ]
  },
  {
   "cell_type": "code",
   "execution_count": 12,
   "metadata": {},
   "outputs": [
    {
     "data": {
      "text/plain": [
       "{'success': True,\n",
       " 'deck_id': '4w60xasrcics',\n",
       " 'remaining': 312,\n",
       " 'shuffled': True}"
      ]
     },
     "execution_count": 12,
     "metadata": {},
     "output_type": "execute_result"
    }
   ],
   "source": [
    "# Add indents to JSON and output to screen \n",
    "data = response_data.json()\n",
    "data"
   ]
  },
  {
   "cell_type": "code",
   "execution_count": 13,
   "metadata": {},
   "outputs": [
    {
     "name": "stdout",
     "output_type": "stream",
     "text": [
      "4w60xasrcics\n"
     ]
    }
   ],
   "source": [
    "deck_id = data[\"deck_id\"]\n",
    "print(deck_id)"
   ]
  },
  {
   "cell_type": "markdown",
   "metadata": {},
   "source": [
    "### Declare request urls to draw cards and shuffle deck"
   ]
  },
  {
   "cell_type": "code",
   "execution_count": 14,
   "metadata": {},
   "outputs": [
    {
     "name": "stdout",
     "output_type": "stream",
     "text": [
      "https://deckofcardsapi.com/api/deck/4w60xasrcics/draw/?count=2\n",
      "https://deckofcardsapi.com/api/deck/4w60xasrcics/shuffle/\n"
     ]
    }
   ],
   "source": [
    "# Declare draw_cards_url and shuffle_deck_url\n",
    "# Use string interpolation to incorporate the deck_id\n",
    "draw_cards_url = f\"https://deckofcardsapi.com/api/deck/{deck_id}/draw/?count=2\"\n",
    "shuffle_deck_url = f\"https://deckofcardsapi.com/api/deck/{deck_id}/shuffle/\"\n",
    "print(draw_cards_url)\n",
    "print(shuffle_deck_url)"
   ]
  },
  {
   "cell_type": "markdown",
   "metadata": {},
   "source": [
    "## Player 1 Turn"
   ]
  },
  {
   "cell_type": "markdown",
   "metadata": {},
   "source": [
    "### Draw two cards"
   ]
  },
  {
   "cell_type": "code",
   "execution_count": 17,
   "metadata": {},
   "outputs": [
    {
     "data": {
      "text/plain": [
       "b'{\"success\": true, \"deck_id\": \"4w60xasrcics\", \"cards\": [{\"code\": \"QC\", \"image\": \"https://deckofcardsapi.com/static/img/QC.png\", \"images\": {\"svg\": \"https://deckofcardsapi.com/static/img/QC.svg\", \"png\": \"https://deckofcardsapi.com/static/img/QC.png\"}, \"value\": \"QUEEN\", \"suit\": \"CLUBS\"}, {\"code\": \"AS\", \"image\": \"https://deckofcardsapi.com/static/img/AS.png\", \"images\": {\"svg\": \"https://deckofcardsapi.com/static/img/AS.svg\", \"png\": \"https://deckofcardsapi.com/static/img/AS.png\"}, \"value\": \"ACE\", \"suit\": \"SPADES\"}], \"remaining\": 308}'"
      ]
     },
     "execution_count": 17,
     "metadata": {},
     "output_type": "execute_result"
    }
   ],
   "source": [
    "# Draw two cards\n",
    "draw2_response = requests.get(draw_cards_url)\n",
    "draw2_response.content"
   ]
  },
  {
   "cell_type": "code",
   "execution_count": 18,
   "metadata": {},
   "outputs": [
    {
     "name": "stdout",
     "output_type": "stream",
     "text": [
      "{\n",
      "    \"success\": true,\n",
      "    \"deck_id\": \"4w60xasrcics\",\n",
      "    \"cards\": [\n",
      "        {\n",
      "            \"code\": \"QC\",\n",
      "            \"image\": \"https://deckofcardsapi.com/static/img/QC.png\",\n",
      "            \"images\": {\n",
      "                \"svg\": \"https://deckofcardsapi.com/static/img/QC.svg\",\n",
      "                \"png\": \"https://deckofcardsapi.com/static/img/QC.png\"\n",
      "            },\n",
      "            \"value\": \"QUEEN\",\n",
      "            \"suit\": \"CLUBS\"\n",
      "        },\n",
      "        {\n",
      "            \"code\": \"AS\",\n",
      "            \"image\": \"https://deckofcardsapi.com/static/img/AS.png\",\n",
      "            \"images\": {\n",
      "                \"svg\": \"https://deckofcardsapi.com/static/img/AS.svg\",\n",
      "                \"png\": \"https://deckofcardsapi.com/static/img/AS.png\"\n",
      "            },\n",
      "            \"value\": \"ACE\",\n",
      "            \"suit\": \"SPADES\"\n",
      "        }\n",
      "    ],\n",
      "    \"remaining\": 308\n",
      "}\n"
     ]
    }
   ],
   "source": [
    "draw2_data = draw2_response.json()\n",
    "print(json.dumps(draw2_data, indent=4))"
   ]
  },
  {
   "cell_type": "markdown",
   "metadata": {},
   "source": [
    "### Parse and extract `value` and `suit` elements from JSON output, for each card"
   ]
  },
  {
   "cell_type": "code",
   "execution_count": 26,
   "metadata": {},
   "outputs": [
    {
     "ename": "SyntaxError",
     "evalue": "cannot assign to function call (<ipython-input-26-17532a617a9f>, line 8)",
     "output_type": "error",
     "traceback": [
      "\u001b[0;36m  File \u001b[0;32m\"<ipython-input-26-17532a617a9f>\"\u001b[0;36m, line \u001b[0;32m8\u001b[0m\n\u001b[0;31m    print(player_1_card_1)= print(draw2_data[\"cards\"][0]['value'])+ print(draw2_data[\"cards\"][0]['suit'])\u001b[0m\n\u001b[0m    ^\u001b[0m\n\u001b[0;31mSyntaxError\u001b[0m\u001b[0;31m:\u001b[0m cannot assign to function call\n"
     ]
    }
   ],
   "source": [
    "# Select returned card's value and suit (i.e. 3 of clubs)\n",
    "\n",
    "print(draw2_data[\"cards\"][0]['value'])\n",
    "print(draw2_data[\"cards\"][0]['suit'])\n",
    "print(draw2_data[\"cards\"][1]['value'])\n",
    "print(draw2_data[\"cards\"][1]['suit'])\n",
    "# Print player cards\n",
    "print(player_1_card_1)= print(draw2_data[\"cards\"][0]['value'])+ print(draw2_data[\"cards\"][0]['suit'])\n",
    "print(player_1_card_1)\n",
    "#print(player_1_card_2)"
   ]
  },
  {
   "cell_type": "markdown",
   "metadata": {},
   "source": [
    "### Decide whether to draw another card or skip to next player turn"
   ]
  },
  {
   "cell_type": "code",
   "execution_count": null,
   "metadata": {},
   "outputs": [],
   "source": [
    "# Draw a third card\n",
    "\n",
    "\n",
    "# Select returned card's value and suit (i.e. 3 of clubs)\n",
    "\n",
    "\n",
    "# Print player card\n",
    "print(player_1_card_3)"
   ]
  },
  {
   "cell_type": "markdown",
   "metadata": {},
   "source": [
    "### Manually calculate player 1 points and enter below"
   ]
  },
  {
   "cell_type": "markdown",
   "metadata": {},
   "source": [
    "Player 1 points = "
   ]
  },
  {
   "cell_type": "raw",
   "metadata": {},
   "source": []
  },
  {
   "cell_type": "markdown",
   "metadata": {},
   "source": [
    "## Player 2 / Dealer Turn"
   ]
  },
  {
   "cell_type": "code",
   "execution_count": null,
   "metadata": {},
   "outputs": [],
   "source": [
    "# Draw two cards for player 1\n",
    "\n",
    "\n",
    "# Select card value and suit \n",
    "\n",
    "\n",
    "# Print player cards\n",
    "print(player_2_card_1)\n",
    "print(player_2_card_2)\n",
    "\n",
    "# Draw third card for player 2\n",
    "\n",
    "\n",
    "# Print player card\n",
    "print(player_2_card_3)"
   ]
  },
  {
   "cell_type": "markdown",
   "metadata": {},
   "source": [
    "### Manually calculate player 2 points and enter below"
   ]
  },
  {
   "cell_type": "markdown",
   "metadata": {},
   "source": [
    "Player 2 points ="
   ]
  },
  {
   "cell_type": "raw",
   "metadata": {},
   "source": []
  }
 ],
 "metadata": {
  "kernelspec": {
   "display_name": "Python 3",
   "language": "python",
   "name": "python3"
  },
  "language_info": {
   "codemirror_mode": {
    "name": "ipython",
    "version": 3
   },
   "file_extension": ".py",
   "mimetype": "text/x-python",
   "name": "python",
   "nbconvert_exporter": "python",
   "pygments_lexer": "ipython3",
   "version": "3.8.5"
  }
 },
 "nbformat": 4,
 "nbformat_minor": 4
}
