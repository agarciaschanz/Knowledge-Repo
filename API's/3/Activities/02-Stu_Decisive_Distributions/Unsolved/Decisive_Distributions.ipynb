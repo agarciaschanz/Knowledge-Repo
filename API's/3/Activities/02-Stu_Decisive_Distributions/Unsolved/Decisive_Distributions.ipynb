{
 "cells": [
  {
   "cell_type": "markdown",
   "metadata": {},
   "source": [
    "## Exercise 1: Decisive Distributions\n",
    "\n",
    "### Import Dependencies"
   ]
  },
  {
   "cell_type": "code",
   "execution_count": 1,
   "metadata": {
    "tags": []
   },
   "outputs": [],
   "source": [
    "# Import libraries and dependencies\n",
    "import os\n",
    "import pandas as pd\n",
    "import alpaca_trade_api as tradeapi\n",
    "\n",
    "# Load .env enviroment variables\n",
    "from dotenv import load_dotenv\n",
    "load_dotenv()\n",
    "\n",
    "%matplotlib inline"
   ]
  },
  {
   "cell_type": "code",
   "execution_count": 2,
   "metadata": {
    "tags": []
   },
   "outputs": [],
   "source": [
    "# Setup Alpaca API environment\n",
    "alpaca_api_key = os.getenv(\"ALPACA_API_KEY\")\n",
    "alpaca_secret_key = os.getenv(\"ALPACA_SECRET_KEY\")\n",
    "\n",
    "api = tradeapi.REST(\n",
    "    alpaca_api_key,\n",
    "    alpaca_secret_key,\n",
    "    api_version=\"v2\"\n",
    ")"
   ]
  },
  {
   "cell_type": "markdown",
   "metadata": {},
   "source": [
    "### Read in stock data using Alpaca API"
   ]
  },
  {
   "cell_type": "code",
   "execution_count": 3,
   "metadata": {},
   "outputs": [
    {
     "data": {
      "text/html": [
       "<div>\n",
       "<style scoped>\n",
       "    .dataframe tbody tr th:only-of-type {\n",
       "        vertical-align: middle;\n",
       "    }\n",
       "\n",
       "    .dataframe tbody tr th {\n",
       "        vertical-align: top;\n",
       "    }\n",
       "\n",
       "    .dataframe thead tr th {\n",
       "        text-align: left;\n",
       "    }\n",
       "</style>\n",
       "<table border=\"1\" class=\"dataframe\">\n",
       "  <thead>\n",
       "    <tr>\n",
       "      <th></th>\n",
       "      <th colspan=\"5\" halign=\"left\">AAPL</th>\n",
       "      <th colspan=\"5\" halign=\"left\">DIS</th>\n",
       "      <th>...</th>\n",
       "      <th colspan=\"5\" halign=\"left\">SPY</th>\n",
       "      <th colspan=\"5\" halign=\"left\">WORK</th>\n",
       "    </tr>\n",
       "    <tr>\n",
       "      <th></th>\n",
       "      <th>open</th>\n",
       "      <th>high</th>\n",
       "      <th>low</th>\n",
       "      <th>close</th>\n",
       "      <th>volume</th>\n",
       "      <th>open</th>\n",
       "      <th>high</th>\n",
       "      <th>low</th>\n",
       "      <th>close</th>\n",
       "      <th>volume</th>\n",
       "      <th>...</th>\n",
       "      <th>open</th>\n",
       "      <th>high</th>\n",
       "      <th>low</th>\n",
       "      <th>close</th>\n",
       "      <th>volume</th>\n",
       "      <th>open</th>\n",
       "      <th>high</th>\n",
       "      <th>low</th>\n",
       "      <th>close</th>\n",
       "      <th>volume</th>\n",
       "    </tr>\n",
       "  </thead>\n",
       "  <tbody>\n",
       "    <tr>\n",
       "      <th>2019-05-01 00:00:00-04:00</th>\n",
       "      <td>209.88</td>\n",
       "      <td>215.3100</td>\n",
       "      <td>209.230</td>\n",
       "      <td>210.52</td>\n",
       "      <td>57751414</td>\n",
       "      <td>137.49</td>\n",
       "      <td>138.17</td>\n",
       "      <td>136.235</td>\n",
       "      <td>136.32</td>\n",
       "      <td>7588692</td>\n",
       "      <td>...</td>\n",
       "      <td>294.72</td>\n",
       "      <td>294.95</td>\n",
       "      <td>291.80</td>\n",
       "      <td>291.84</td>\n",
       "      <td>59432706</td>\n",
       "      <td>NaN</td>\n",
       "      <td>NaN</td>\n",
       "      <td>NaN</td>\n",
       "      <td>NaN</td>\n",
       "      <td>NaN</td>\n",
       "    </tr>\n",
       "    <tr>\n",
       "      <th>2019-05-02 00:00:00-04:00</th>\n",
       "      <td>209.84</td>\n",
       "      <td>212.6500</td>\n",
       "      <td>208.130</td>\n",
       "      <td>209.17</td>\n",
       "      <td>29014844</td>\n",
       "      <td>135.38</td>\n",
       "      <td>135.69</td>\n",
       "      <td>132.380</td>\n",
       "      <td>134.19</td>\n",
       "      <td>14963432</td>\n",
       "      <td>...</td>\n",
       "      <td>291.68</td>\n",
       "      <td>292.70</td>\n",
       "      <td>289.52</td>\n",
       "      <td>291.27</td>\n",
       "      <td>59209780</td>\n",
       "      <td>NaN</td>\n",
       "      <td>NaN</td>\n",
       "      <td>NaN</td>\n",
       "      <td>NaN</td>\n",
       "      <td>NaN</td>\n",
       "    </tr>\n",
       "    <tr>\n",
       "      <th>2019-05-03 00:00:00-04:00</th>\n",
       "      <td>210.74</td>\n",
       "      <td>211.8400</td>\n",
       "      <td>210.230</td>\n",
       "      <td>211.78</td>\n",
       "      <td>17987793</td>\n",
       "      <td>135.22</td>\n",
       "      <td>135.31</td>\n",
       "      <td>133.780</td>\n",
       "      <td>134.28</td>\n",
       "      <td>8073628</td>\n",
       "      <td>...</td>\n",
       "      <td>292.82</td>\n",
       "      <td>294.34</td>\n",
       "      <td>292.56</td>\n",
       "      <td>294.02</td>\n",
       "      <td>45416907</td>\n",
       "      <td>NaN</td>\n",
       "      <td>NaN</td>\n",
       "      <td>NaN</td>\n",
       "      <td>NaN</td>\n",
       "      <td>NaN</td>\n",
       "    </tr>\n",
       "    <tr>\n",
       "      <th>2019-05-06 00:00:00-04:00</th>\n",
       "      <td>204.29</td>\n",
       "      <td>208.8400</td>\n",
       "      <td>203.500</td>\n",
       "      <td>208.60</td>\n",
       "      <td>28949691</td>\n",
       "      <td>132.54</td>\n",
       "      <td>135.33</td>\n",
       "      <td>132.300</td>\n",
       "      <td>135.05</td>\n",
       "      <td>8946397</td>\n",
       "      <td>...</td>\n",
       "      <td>289.25</td>\n",
       "      <td>293.31</td>\n",
       "      <td>288.90</td>\n",
       "      <td>292.87</td>\n",
       "      <td>75426654</td>\n",
       "      <td>NaN</td>\n",
       "      <td>NaN</td>\n",
       "      <td>NaN</td>\n",
       "      <td>NaN</td>\n",
       "      <td>NaN</td>\n",
       "    </tr>\n",
       "    <tr>\n",
       "      <th>2019-05-07 00:00:00-04:00</th>\n",
       "      <td>205.88</td>\n",
       "      <td>207.4175</td>\n",
       "      <td>200.825</td>\n",
       "      <td>202.86</td>\n",
       "      <td>34328425</td>\n",
       "      <td>135.35</td>\n",
       "      <td>135.97</td>\n",
       "      <td>132.760</td>\n",
       "      <td>133.47</td>\n",
       "      <td>9737952</td>\n",
       "      <td>...</td>\n",
       "      <td>290.15</td>\n",
       "      <td>290.81</td>\n",
       "      <td>285.81</td>\n",
       "      <td>288.04</td>\n",
       "      <td>118960368</td>\n",
       "      <td>NaN</td>\n",
       "      <td>NaN</td>\n",
       "      <td>NaN</td>\n",
       "      <td>NaN</td>\n",
       "      <td>NaN</td>\n",
       "    </tr>\n",
       "  </tbody>\n",
       "</table>\n",
       "<p>5 rows × 30 columns</p>\n",
       "</div>"
      ],
      "text/plain": [
       "                             AAPL                                       \\\n",
       "                             open      high      low   close    volume   \n",
       "2019-05-01 00:00:00-04:00  209.88  215.3100  209.230  210.52  57751414   \n",
       "2019-05-02 00:00:00-04:00  209.84  212.6500  208.130  209.17  29014844   \n",
       "2019-05-03 00:00:00-04:00  210.74  211.8400  210.230  211.78  17987793   \n",
       "2019-05-06 00:00:00-04:00  204.29  208.8400  203.500  208.60  28949691   \n",
       "2019-05-07 00:00:00-04:00  205.88  207.4175  200.825  202.86  34328425   \n",
       "\n",
       "                              DIS                                     ...  \\\n",
       "                             open    high      low   close    volume  ...   \n",
       "2019-05-01 00:00:00-04:00  137.49  138.17  136.235  136.32   7588692  ...   \n",
       "2019-05-02 00:00:00-04:00  135.38  135.69  132.380  134.19  14963432  ...   \n",
       "2019-05-03 00:00:00-04:00  135.22  135.31  133.780  134.28   8073628  ...   \n",
       "2019-05-06 00:00:00-04:00  132.54  135.33  132.300  135.05   8946397  ...   \n",
       "2019-05-07 00:00:00-04:00  135.35  135.97  132.760  133.47   9737952  ...   \n",
       "\n",
       "                              SPY                                    WORK  \\\n",
       "                             open    high     low   close     volume open   \n",
       "2019-05-01 00:00:00-04:00  294.72  294.95  291.80  291.84   59432706  NaN   \n",
       "2019-05-02 00:00:00-04:00  291.68  292.70  289.52  291.27   59209780  NaN   \n",
       "2019-05-03 00:00:00-04:00  292.82  294.34  292.56  294.02   45416907  NaN   \n",
       "2019-05-06 00:00:00-04:00  289.25  293.31  288.90  292.87   75426654  NaN   \n",
       "2019-05-07 00:00:00-04:00  290.15  290.81  285.81  288.04  118960368  NaN   \n",
       "\n",
       "                                                 \n",
       "                          high low close volume  \n",
       "2019-05-01 00:00:00-04:00  NaN NaN   NaN    NaN  \n",
       "2019-05-02 00:00:00-04:00  NaN NaN   NaN    NaN  \n",
       "2019-05-03 00:00:00-04:00  NaN NaN   NaN    NaN  \n",
       "2019-05-06 00:00:00-04:00  NaN NaN   NaN    NaN  \n",
       "2019-05-07 00:00:00-04:00  NaN NaN   NaN    NaN  \n",
       "\n",
       "[5 rows x 30 columns]"
      ]
     },
     "execution_count": 3,
     "metadata": {},
     "output_type": "execute_result"
    }
   ],
   "source": [
    "# Set timeframe to '1D'\n",
    "timeframe = \"1D\"\n",
    "\n",
    "# Set start and end datetimes of 1 year, between now and 365 days ago.\n",
    "start_date = pd.Timestamp(\"2019-05-01\", tz=\"America/New_York\").isoformat()\n",
    "end_date = pd.Timestamp(\"2020-05-01\", tz=\"America/New_York\").isoformat()\n",
    "\n",
    "# Set the stock tickers\n",
    "# YOUR CODE HERE!\n",
    "\n",
    "# Get 1 year's worth of historical data for all stocks\n",
    "# YOUR CODE HERE!\n",
    "\n",
    "# Display sample data\n",
    "df_ticker.head()"
   ]
  },
  {
   "cell_type": "markdown",
   "metadata": {},
   "source": [
    "### Create a new DataFrame and store the closing prices of each stock."
   ]
  },
  {
   "cell_type": "code",
   "execution_count": 4,
   "metadata": {},
   "outputs": [
    {
     "data": {
      "text/html": [
       "<div>\n",
       "<style scoped>\n",
       "    .dataframe tbody tr th:only-of-type {\n",
       "        vertical-align: middle;\n",
       "    }\n",
       "\n",
       "    .dataframe tbody tr th {\n",
       "        vertical-align: top;\n",
       "    }\n",
       "\n",
       "    .dataframe thead th {\n",
       "        text-align: right;\n",
       "    }\n",
       "</style>\n",
       "<table border=\"1\" class=\"dataframe\">\n",
       "  <thead>\n",
       "    <tr style=\"text-align: right;\">\n",
       "      <th></th>\n",
       "      <th>SPY</th>\n",
       "      <th>LUV</th>\n",
       "      <th>DIS</th>\n",
       "      <th>AAPL</th>\n",
       "      <th>SBUX</th>\n",
       "      <th>WORK</th>\n",
       "    </tr>\n",
       "  </thead>\n",
       "  <tbody>\n",
       "    <tr>\n",
       "      <th>2019-05-01</th>\n",
       "      <td>291.84</td>\n",
       "      <td>53.89</td>\n",
       "      <td>136.32</td>\n",
       "      <td>210.52</td>\n",
       "      <td>77.51</td>\n",
       "      <td>NaN</td>\n",
       "    </tr>\n",
       "    <tr>\n",
       "      <th>2019-05-02</th>\n",
       "      <td>291.27</td>\n",
       "      <td>53.37</td>\n",
       "      <td>134.19</td>\n",
       "      <td>209.17</td>\n",
       "      <td>77.46</td>\n",
       "      <td>NaN</td>\n",
       "    </tr>\n",
       "    <tr>\n",
       "      <th>2019-05-03</th>\n",
       "      <td>294.02</td>\n",
       "      <td>53.62</td>\n",
       "      <td>134.28</td>\n",
       "      <td>211.78</td>\n",
       "      <td>78.06</td>\n",
       "      <td>NaN</td>\n",
       "    </tr>\n",
       "    <tr>\n",
       "      <th>2019-05-06</th>\n",
       "      <td>292.87</td>\n",
       "      <td>53.48</td>\n",
       "      <td>135.05</td>\n",
       "      <td>208.60</td>\n",
       "      <td>78.06</td>\n",
       "      <td>NaN</td>\n",
       "    </tr>\n",
       "    <tr>\n",
       "      <th>2019-05-07</th>\n",
       "      <td>288.04</td>\n",
       "      <td>52.20</td>\n",
       "      <td>133.47</td>\n",
       "      <td>202.86</td>\n",
       "      <td>77.96</td>\n",
       "      <td>NaN</td>\n",
       "    </tr>\n",
       "  </tbody>\n",
       "</table>\n",
       "</div>"
      ],
      "text/plain": [
       "               SPY    LUV     DIS    AAPL   SBUX  WORK\n",
       "2019-05-01  291.84  53.89  136.32  210.52  77.51   NaN\n",
       "2019-05-02  291.27  53.37  134.19  209.17  77.46   NaN\n",
       "2019-05-03  294.02  53.62  134.28  211.78  78.06   NaN\n",
       "2019-05-06  292.87  53.48  135.05  208.60  78.06   NaN\n",
       "2019-05-07  288.04  52.20  133.47  202.86  77.96   NaN"
      ]
     },
     "execution_count": 4,
     "metadata": {},
     "output_type": "execute_result"
    }
   ],
   "source": [
    "# Create and empty DataFrame for closing prices\n",
    "df_closing_prices = pd.DataFrame()\n",
    "\n",
    "# Fetch the closing prices for all the tickers\n",
    "# YOUR CODE HERE!\n",
    "\n",
    "# Drop the time component of the date\n",
    "df_closing_prices.index = df_closing_prices.index.date\n",
    "\n",
    "# Display sample data\n",
    "df_closing_prices.head()"
   ]
  },
  {
   "cell_type": "markdown",
   "metadata": {},
   "source": [
    "### Calculate the daily returns for each stock using the `pct_change()` function"
   ]
  },
  {
   "cell_type": "code",
   "execution_count": 5,
   "metadata": {},
   "outputs": [
    {
     "data": {
      "text/html": [
       "<div>\n",
       "<style scoped>\n",
       "    .dataframe tbody tr th:only-of-type {\n",
       "        vertical-align: middle;\n",
       "    }\n",
       "\n",
       "    .dataframe tbody tr th {\n",
       "        vertical-align: top;\n",
       "    }\n",
       "\n",
       "    .dataframe thead th {\n",
       "        text-align: right;\n",
       "    }\n",
       "</style>\n",
       "<table border=\"1\" class=\"dataframe\">\n",
       "  <thead>\n",
       "    <tr style=\"text-align: right;\">\n",
       "      <th></th>\n",
       "      <th>SPY</th>\n",
       "      <th>LUV</th>\n",
       "      <th>DIS</th>\n",
       "      <th>AAPL</th>\n",
       "      <th>SBUX</th>\n",
       "      <th>WORK</th>\n",
       "    </tr>\n",
       "  </thead>\n",
       "  <tbody>\n",
       "    <tr>\n",
       "      <th>2019-06-21</th>\n",
       "      <td>-0.005949</td>\n",
       "      <td>-0.005437</td>\n",
       "      <td>-0.012184</td>\n",
       "      <td>-0.002906</td>\n",
       "      <td>-0.010156</td>\n",
       "      <td>-0.046514</td>\n",
       "    </tr>\n",
       "    <tr>\n",
       "      <th>2019-06-24</th>\n",
       "      <td>-0.001496</td>\n",
       "      <td>0.000000</td>\n",
       "      <td>-0.007486</td>\n",
       "      <td>-0.001258</td>\n",
       "      <td>-0.002028</td>\n",
       "      <td>-0.031434</td>\n",
       "    </tr>\n",
       "    <tr>\n",
       "      <th>2019-06-25</th>\n",
       "      <td>-0.009706</td>\n",
       "      <td>-0.004295</td>\n",
       "      <td>0.005028</td>\n",
       "      <td>-0.015009</td>\n",
       "      <td>0.007173</td>\n",
       "      <td>-0.019306</td>\n",
       "    </tr>\n",
       "    <tr>\n",
       "      <th>2019-06-26</th>\n",
       "      <td>-0.001100</td>\n",
       "      <td>-0.005490</td>\n",
       "      <td>0.003431</td>\n",
       "      <td>0.021629</td>\n",
       "      <td>-0.010208</td>\n",
       "      <td>0.060770</td>\n",
       "    </tr>\n",
       "    <tr>\n",
       "      <th>2019-06-27</th>\n",
       "      <td>0.003684</td>\n",
       "      <td>0.000197</td>\n",
       "      <td>-0.007978</td>\n",
       "      <td>-0.000350</td>\n",
       "      <td>0.002039</td>\n",
       "      <td>-0.025013</td>\n",
       "    </tr>\n",
       "  </tbody>\n",
       "</table>\n",
       "</div>"
      ],
      "text/plain": [
       "                 SPY       LUV       DIS      AAPL      SBUX      WORK\n",
       "2019-06-21 -0.005949 -0.005437 -0.012184 -0.002906 -0.010156 -0.046514\n",
       "2019-06-24 -0.001496  0.000000 -0.007486 -0.001258 -0.002028 -0.031434\n",
       "2019-06-25 -0.009706 -0.004295  0.005028 -0.015009  0.007173 -0.019306\n",
       "2019-06-26 -0.001100 -0.005490  0.003431  0.021629 -0.010208  0.060770\n",
       "2019-06-27  0.003684  0.000197 -0.007978 -0.000350  0.002039 -0.025013"
      ]
     },
     "execution_count": 5,
     "metadata": {},
     "output_type": "execute_result"
    }
   ],
   "source": [
    "# Compute daily returns\n",
    "# YOUR CODE HERE!\n",
    "\n",
    "# Display sample data\n",
    "df_daily_returns.head()"
   ]
  },
  {
   "cell_type": "markdown",
   "metadata": {},
   "source": [
    "### Plot Distributions"
   ]
  },
  {
   "cell_type": "code",
   "execution_count": 6,
   "metadata": {},
   "outputs": [
    {
     "data": {
      "text/plain": [
       "<matplotlib.axes._subplots.AxesSubplot at 0x7ff55fbda910>"
      ]
     },
     "execution_count": 6,
     "metadata": {},
     "output_type": "execute_result"
    },
    {
     "data": {
      "image/png": "[encoded data removed]",
      "text/plain": [
       "<Figure size 432x288 with 1 Axes>"
      ]
     },
     "metadata": {
      "needs_background": "light"
     },
     "output_type": "display_data"
    }
   ],
   "source": [
    "# Visualize the distribution of daily returns across all stocks using a histogram plot\n",
    "# Hint: To make the plot easier to read, set the alpha arguement to 0.5\n",
    "# YOUR CODE HERE!"
   ]
  },
  {
   "cell_type": "code",
   "execution_count": 7,
   "metadata": {},
   "outputs": [
    {
     "data": {
      "text/plain": [
       "<matplotlib.axes._subplots.AxesSubplot at 0x7ff55fd08b10>"
      ]
     },
     "execution_count": 7,
     "metadata": {},
     "output_type": "execute_result"
    },
    {
     "data": {
      "image/png": "[encoded data removed]",
      "text/plain": [
       "<Figure size 432x288 with 1 Axes>"
      ]
     },
     "metadata": {
      "needs_background": "light"
     },
     "output_type": "display_data"
    }
   ],
   "source": [
    "# Visualize the distribution of daily returns across all stocks using a density plot\n",
    "# YOUR CODE HERE!"
   ]
  }
 ],
 "metadata": {
  "kernel_info": {
   "name": "python3"
  },
  "kernelspec": {
   "display_name": "Python 3",
   "language": "python",
   "name": "python3"
  },
  "language_info": {
   "codemirror_mode": {
    "name": "ipython",
    "version": 3
   },
   "file_extension": ".py",
   "mimetype": "text/x-python",
   "name": "python",
   "nbconvert_exporter": "python",
   "pygments_lexer": "ipython3",
   "version": "3.7.7"
  },
  "nteract": {
   "version": "0.12.3"
  }
 },
 "nbformat": 4,
 "nbformat_minor": 4
}
